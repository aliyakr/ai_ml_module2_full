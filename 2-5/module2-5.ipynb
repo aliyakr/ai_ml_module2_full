{
 "cells": [
  {
   "cell_type": "markdown",
   "metadata": {},
   "source": [
    "# Модуль 2. Занятие 5.  Обучающая, проверочная и тестовая выборки. Переобучение НС"
   ]
  },
  {
   "cell_type": "markdown",
   "metadata": {
    "id": "f1heaUxHNo6-"
   },
   "source": [
    "В первую очередь загрузите библиотеки. Большая часть из них – уже знакомые инструменты.\n",
    "\n",
    "Рассмотрите подробнее **Activation** – слой, который позволяет отдельно задавать активационную функцию.\n",
    "\n",
    "Если раньше писали `model.add(Dense(46, activation='relu'))`, то теперь можно написать `model.add(Dense(46))` и затем\n",
    "`model.add(Activation('relu'))`.\n",
    "\n",
    "Эти две записи равнозначны и работать они будут\n",
    "одинаково."
   ]
  },
  {
   "cell_type": "code",
   "execution_count": 2,
   "metadata": {
    "id": "qrfd6FzSLrE2"
   },
   "outputs": [],
   "source": [
    "# Библиотека работы с массивами\n",
    "import numpy as np\n",
    "\n",
    "# Библиотека для работы с таблицами\n",
    "import pandas as pd\n",
    "\n",
    "# Последовательная модель НС\n",
    "from tensorflow.keras.models import Sequential\n",
    "\n",
    "# Основные слои\n",
    "from tensorflow.keras.layers import Dense, Dropout, BatchNormalization\n",
    "\n",
    "# Слой задания активационной функции <----- !!!\n",
    "from tensorflow.keras.layers import Activation\n",
    "\n",
    "# Утилиты предобработки данных\n",
    "from tensorflow.keras import utils\n",
    "\n",
    "# Оптимизаторы\n",
    "from tensorflow.keras.optimizers import Adam\n",
    "\n",
    "# Разделение на обучающую и проверочную/тестовую выборку\n",
    "from sklearn.model_selection import train_test_split\n",
    "\n",
    "# Рисование графиков\n",
    "import matplotlib.pyplot as plt\n",
    "\n",
    "%matplotlib inline"
   ]
  },
  {
   "cell_type": "markdown",
   "metadata": {
    "id": "9z_gmNzph-di"
   },
   "source": [
    "# Подготовка базы"
   ]
  },
  {
   "cell_type": "markdown",
   "metadata": {
    "id": "2xBnS-kldFyq"
   },
   "source": [
    "## Загрузка и просмотр содержимого\n"
   ]
  },
  {
   "cell_type": "markdown",
   "metadata": {
    "id": "luQUXfSnN28N"
   },
   "source": [
    "Импортируйте библиотеку `gdown`, загрузите файл **sonar.csv** из репозитория при помощи метода `.download()`:"
   ]
  },
  {
   "cell_type": "code",
   "execution_count": null,
   "metadata": {
    "colab": {
     "base_uri": "https://localhost:8080/",
     "height": 35
    },
    "id": "Dts2bgpZY440",
    "outputId": "da71c5d0-8e24-4a60-c5da-f97c02c64ad3"
   },
   "outputs": [],
   "source": [
    "import gdown\n",
    "\n",
    "gdown.download('https://storage.yandexcloud.net/aiueducation/Content/base/l4/sonar.csv', None, quiet=True)"
   ]
  },
  {
   "cell_type": "markdown",
   "metadata": {
    "id": "LuwrAodDN9XU"
   },
   "source": [
    "Прочитайте и запишите его в переменную `df`, указывая, что в таблице нет заголовка `(header=None)`, выведите размерность датафрейма при помощи метода `.shape`:"
   ]
  },
  {
   "cell_type": "code",
   "execution_count": null,
   "metadata": {
    "colab": {
     "base_uri": "https://localhost:8080/"
    },
    "id": "_uO8Fnn3ZsfN",
    "outputId": "30e974c5-baee-4ac2-d9e0-fe7f90a602d3"
   },
   "outputs": [],
   "source": [
    "df = pd.read_csv(\"sonar.csv\", header=None)\n",
    "\n",
    "print(df.shape)"
   ]
  },
  {
   "cell_type": "markdown",
   "metadata": {
    "id": "UobgZS8SRQXn"
   },
   "source": [
    "Выведите первые пять строчек таблицы, чтобы понимать, с какими данными придется работать:"
   ]
  },
  {
   "cell_type": "code",
   "execution_count": null,
   "metadata": {
    "colab": {
     "base_uri": "https://localhost:8080/",
     "height": 236
    },
    "id": "27dLYdZVE0XK",
    "outputId": "6e0fb0fd-7c6c-4ca1-e215-36efea850f9a"
   },
   "outputs": [],
   "source": [
    "df.head()"
   ]
  },
  {
   "cell_type": "markdown",
   "metadata": {
    "id": "AcAjT0wJSLO2"
   },
   "source": [
    "В таблице вы увидите 61 столбец:\n",
    "- первые 60 описывают параметры объекта\n",
    "- последний 61-й содержит класс объекта (R – скала, M – мина).\n",
    "\n",
    "Задача в том, чтобы научить нейросеть определять по параметрам, скала это или мина. Подобные задачи относятся к типу бинарной классификации."
   ]
  },
  {
   "cell_type": "markdown",
   "metadata": {
    "id": "JS293Wo3lGMd"
   },
   "source": [
    "## Парсинг\n",
    "\n",
    "\n",
    "\n"
   ]
  },
  {
   "cell_type": "markdown",
   "metadata": {
    "id": "E2E-w0-UOcw4"
   },
   "source": [
    "Перед тем как приступить к выполнению задания, давайте немного подготовим базу. Так как НС не работает с буквами, переведите все значения `R` и `M` в числа с плавающей точкой `1.` и `0.` соответственно:"
   ]
  },
  {
   "cell_type": "code",
   "execution_count": null,
   "metadata": {
    "id": "WFFnasY1WJo1"
   },
   "outputs": [],
   "source": [
    "dataset = df.replace('R', 1.).replace('M', 0.).astype(float).to_numpy()"
   ]
  },
  {
   "cell_type": "markdown",
   "metadata": {
    "id": "0SPj1vcDWUI8"
   },
   "source": [
    "Почему именно 1 и 0?\n",
    "\n",
    "Вспомните, когда мы учили нейросеть определять цифры от 0 до 9 (на основе базы MNIST), последний выходной слой содержал 10 нейронов. Первый нейрон выдавал вероятность, что изображение относится к классу 0, второй что к классу 1 и пр. Это мультиклассовая классификация.\n",
    "\n",
    "Бинарная классификация строится подобным же образом, но чуть проще. На первый взгляд, в текущей задаче  нужен выходной слой с двумя нейронами, первый выдает вероятность, что это мина, второй что это скала. Но можно обойтись и одним, т.к. если это не скала, то точно мина, других вариантов нет.\n",
    "\n",
    "Если сеть выдает предсказание, что полученный объект на 40% процентов мина, само собой разумеется, что это на 60% скала, так как суммарная вероятность равна 1."
   ]
  },
  {
   "cell_type": "markdown",
   "metadata": {
    "id": "Luuca18TOvxv"
   },
   "source": [
    "В `x_data` добавьте параметры объекта, в `y_data` – класс объекта (правильные ответы).\n",
    "\n",
    "Способ разделения - срез (вариант 1 из ноутбука по теории):\n"
   ]
  },
  {
   "cell_type": "code",
   "execution_count": null,
   "metadata": {
    "id": "ZoIGB-NYYFk6"
   },
   "outputs": [],
   "source": [
    "x_data = dataset[:, :60]\n",
    "y_data = dataset[:, 60]"
   ]
  },
  {
   "cell_type": "markdown",
   "metadata": {
    "id": "te30DP9TYH6j"
   },
   "source": [
    "Проверьте форму данных и содержимое `y_data`. В выборке всего `208` примеров."
   ]
  },
  {
   "cell_type": "code",
   "execution_count": null,
   "metadata": {
    "colab": {
     "base_uri": "https://localhost:8080/"
    },
    "id": "1xmOlog1GMC2",
    "outputId": "b37287de-2cbf-45eb-e5e3-82da41250c6e"
   },
   "outputs": [],
   "source": [
    "print('Размерность набора параметров объектов', x_data.shape)\n",
    "print('Размерность набора меток класса', y_data.shape)\n",
    "print()\n",
    "print('Содержание y_data:', y_data)"
   ]
  },
  {
   "cell_type": "markdown",
   "metadata": {
    "id": "wX02lsWcfeza"
   },
   "source": [
    "## Создание обучающей и тестовой выборки\n"
   ]
  },
  {
   "cell_type": "markdown",
   "metadata": {
    "id": "soa7lkRcbUvE"
   },
   "source": [
    "Чуть выше мы разделили весь массив данных на два набора: параметров объекта и соответствующих им меток классов. Пришло время разделить наборы на обучающую и тестовую выборки. Воспользуемся функцией `train_test_split` (см. теоретическую часть):"
   ]
  },
  {
   "cell_type": "code",
   "execution_count": null,
   "metadata": {
    "colab": {
     "base_uri": "https://localhost:8080/"
    },
    "id": "BMenuxjkazgh",
    "outputId": "e2fe6775-43fd-45d3-9798-066093c7d78b"
   },
   "outputs": [],
   "source": [
    "x_train, x_test, y_train, y_test = train_test_split(x_data, # набор параметров\n",
    "                                                    y_data, # набор меток классов\n",
    "                                                    test_size=0.2, # процент в тестовую\n",
    "                                                    shuffle=True, #  перемешивание\n",
    "                                                    random_state=3) # воспроизводимость\n",
    "\n",
    "# Выведем размерность полученных выборок\n",
    "\n",
    "print('Обучающая выборка параметров', x_train.shape)\n",
    "print('Обучающая выборка меток классов', y_train.shape)\n",
    "print()\n",
    "print('Тестовая выборка параметров', x_test.shape)\n",
    "print('Тестовая выборка меток классов', y_test.shape)"
   ]
  },
  {
   "cell_type": "markdown",
   "metadata": {
    "id": "KyM90_UgiG-v"
   },
   "source": [
    "# Обучение нейросети"
   ]
  },
  {
   "cell_type": "markdown",
   "metadata": {
    "id": "sIMMZQGePZ84"
   },
   "source": [
    "Напишем функцию сборки необученной модели нейронной сети. Это значит, что теперь нам не придется для создания еще одной модели заново прописывать все слои, достаточно будет вызвать функцию.\n",
    "\n",
    "Первый слой НС – полносвязный на `60` нейронов, еще один слой на `30` нейронов, и последний слой на `1` нейрон.\n",
    "\n",
    "В выходном слое используем функцию активации `sigmoid`, т.к. она преобразует вход в число от `0` до `1`.\n",
    "\n",
    "Скомпилируйте НС и укажите `binary_crossentropy` в качестве функции ошибки, т.к. решается задача бинарной классификации:"
   ]
  },
  {
   "cell_type": "code",
   "execution_count": null,
   "metadata": {
    "id": "Yi-wF-oyQd41"
   },
   "outputs": [],
   "source": [
    "def create_model():\n",
    "\n",
    "    # Создание модели\n",
    "    model = Sequential()\n",
    "\n",
    "    # Добавление слоев\n",
    "    model.add(Dense(60, input_dim=x_train.shape[1], activation='relu'))\n",
    "    model.add(Dense(30))\n",
    "    model.add(Activation('relu'))\n",
    "    model.add(Dense(1, activation='sigmoid'))\n",
    "\n",
    "    # Компиляция и возврат модели\n",
    "    model.compile(loss='binary_crossentropy',\n",
    "                  optimizer=Adam(learning_rate=0.001),\n",
    "                  metrics=['accuracy'])\n",
    "\n",
    "    return model"
   ]
  },
  {
   "cell_type": "code",
   "execution_count": null,
   "metadata": {
    "colab": {
     "base_uri": "https://localhost:8080/"
    },
    "id": "jxBv2gXWa8fZ",
    "outputId": "0c72e676-43f0-4831-9484-8ee3516b8c44"
   },
   "outputs": [],
   "source": [
    "# Создание необученной модели при помощи функции create_model()\n",
    "model = create_model()\n",
    "\n",
    "# Обучение модели\n",
    "history = model.fit(x_train,       # Обучающая выборка параметров\n",
    "          y_train,       # Обучающая выборка меток класса\n",
    "          batch_size=8,  # Размер батча (пакета)\n",
    "          epochs=100,    # Количество эпох обучения\n",
    "          verbose=1)     # Отображение хода обучения"
   ]
  },
  {
   "cell_type": "markdown",
   "metadata": {
    "id": "27YXmZi0h4nI"
   },
   "source": [
    "## Оценка качества обучения"
   ]
  },
  {
   "cell_type": "markdown",
   "metadata": {
    "id": "HWa7u8tbbGmJ"
   },
   "source": [
    "На тренировочной выборке НС достигает точности в **100%**. Приятная глазу цифра, но, к сожалению, не отражающая истинное положение дел.\n",
    "\n",
    "Чтобы перепроверить нейросеть, а так же выяснить научилась она выявлять закономерности, или же просто заучила данные - создадим проверочную (валидационную) выборку."
   ]
  },
  {
   "cell_type": "code",
   "execution_count": null,
   "metadata": {
    "colab": {
     "base_uri": "https://localhost:8080/"
    },
    "id": "H6EIXu1dKoju",
    "outputId": "20708bdc-e9d2-4e86-9c5a-2ac656ce05a3"
   },
   "outputs": [],
   "source": [
    "# Создание необученной модели при помощи функции create_model()\n",
    "model = create_model()\n",
    "\n",
    "# Обучение нейронной сети\n",
    "history = model.fit(x_train,               # Обучающая выборка параметров\n",
    "          y_train,               # Обучающая выборка меток класса\n",
    "          batch_size=8,          # Размер батча (пакета)\n",
    "          epochs=100,            # Количество эпох обучения\n",
    "          validation_split=0.2,  # Доля проверочной выборки\n",
    "          verbose=1)             # Отображение хода обучения"
   ]
  },
  {
   "cell_type": "markdown",
   "metadata": {
    "id": "1x_J4joBbu8w"
   },
   "source": [
    "При запуске ячейки можно увидеть, что параметры процесса обучения изменились: добавилась информация о результатах предсказаний на проверочной выборке. Точность на проверочной выборке – **85%**.\n",
    "\n"
   ]
  },
  {
   "cell_type": "markdown",
   "metadata": {
    "id": "jE34mrb5M3v3"
   },
   "source": [
    "Как теперь проходит обучение? После того, как НС прошла первую эпоху, вычислила ошибку и веса нейронов изменились, модель прогоняется на проверочной выборке и предсказывает результаты. На проверочной выборке НС не обучается. Затем начинается следующая эпоха обучения и процесс повторяется."
   ]
  },
  {
   "cell_type": "markdown",
   "metadata": {
    "id": "VxTnF02k-4my"
   },
   "source": [
    "Применим метод `.evaluate()` к нашей модели, в качестве параметров передадим ему тестовые выборки и согласие на отображение хода вычисления. Поместим результат в переменную `scores`:"
   ]
  },
  {
   "cell_type": "code",
   "execution_count": null,
   "metadata": {
    "colab": {
     "base_uri": "https://localhost:8080/"
    },
    "id": "VA78vCjWCd7i",
    "outputId": "bac3d9bb-4b8a-4be8-82a3-262b06e92e87"
   },
   "outputs": [],
   "source": [
    "scores = model.evaluate(x_test,\n",
    "                        y_test,\n",
    "                        verbose=1\n",
    "                        )"
   ]
  },
  {
   "cell_type": "code",
   "execution_count": null,
   "metadata": {
    "colab": {
     "base_uri": "https://localhost:8080/"
    },
    "id": "2Wm-gAjn_W-9",
    "outputId": "8a73db68-5ec6-4a87-a063-8b9092712d1f"
   },
   "outputs": [],
   "source": [
    "print('Процент верных ответов на тестовых данных:', round(scores[1],2) * 100, '%')"
   ]
  },
  {
   "cell_type": "markdown",
   "metadata": {
    "id": "GdpNWJVYhBHH"
   },
   "source": [
    "**Выводы:**\n",
    "\n",
    "- `Точность на обучающей выборке` имеет самую низкую важность. Поскольку модели НС при обучении предъявляются и входные данные, и правильные ответы к ним, она может их просто зазубрить.\n",
    "\n",
    "- `Точность на проверочной` важнее, так как её сеть видит только после окончания эпохи обучения и использует для проверки.\n",
    "\n",
    "- `Точность на тестовой выборке` самая важная, так как она в процессе обучения в принципе не предъявляется модели."
   ]
  },
  {
   "cell_type": "markdown",
   "metadata": {
    "id": "wYhse8xmmdS5"
   },
   "source": [
    "## Визуализация качества обучения\n"
   ]
  },
  {
   "cell_type": "markdown",
   "metadata": {
    "id": "KS6_1dHtRmlI"
   },
   "source": [
    "Обучите НС, при этом результаты процесса обучения запишите в переменную **history**:"
   ]
  },
  {
   "cell_type": "code",
   "execution_count": null,
   "metadata": {
    "colab": {
     "base_uri": "https://localhost:8080/"
    },
    "id": "hBDSaMEUSI3Z",
    "outputId": "e55a2f87-6920-4b9e-8356-f76f57e7be37"
   },
   "outputs": [],
   "source": [
    "# Создание модели\n",
    "model = create_model()\n",
    "\n",
    "# Обучение нейронной сети\n",
    "history = model.fit(x_train,\n",
    "                    y_train,\n",
    "                    batch_size=8,\n",
    "                    epochs=100,\n",
    "                    validation_split=0.2,\n",
    "                    verbose=1)"
   ]
  },
  {
   "cell_type": "markdown",
   "metadata": {
    "id": "x_8q_gEyFnFy"
   },
   "source": [
    "Постройте график точности на протяжении всего обучения."
   ]
  },
  {
   "cell_type": "code",
   "execution_count": null,
   "metadata": {
    "colab": {
     "base_uri": "https://localhost:8080/",
     "height": 279
    },
    "id": "ty0iVxcXmgHt",
    "outputId": "285f1676-f68c-40bb-dda9-0db3f77fadb8"
   },
   "outputs": [],
   "source": [
    "# Визуализация точности на обучающей выборке\n",
    "\n",
    "plt.plot(history.history['accuracy'],\n",
    "         label='Доля верных ответов на обучающем наборе')\n",
    "\n",
    "# Визуализация точности на проверочной выборке\n",
    "plt.plot(history.history['val_accuracy'],\n",
    "         label='Доля верных ответов на проверочном наборе')\n",
    "\n",
    "# Отрисовка подписей осей\n",
    "plt.xlabel('Эпоха обучения')\n",
    "plt.ylabel('Доля верных ответов')\n",
    "\n",
    "# Отрисовка легенды\n",
    "plt.legend()\n",
    "\n",
    "# Вывод графика\n",
    "plt.show()"
   ]
  },
  {
   "cell_type": "markdown",
   "metadata": {
    "id": "eACYzyiGF0Qk"
   },
   "source": [
    "На картинке можно видеть, что на последних эпохах точность на обучающей выборке достигла **100%**.\n",
    "\n",
    "Также видно, что примерно на **30** эпохе обучения точность распознавания на проверочном наборе приблизилась к **85%**."
   ]
  },
  {
   "cell_type": "markdown",
   "metadata": {
    "id": "oz8kbSPrSoG1"
   },
   "source": [
    "Теперь выведите график ошибки:"
   ]
  },
  {
   "cell_type": "code",
   "execution_count": null,
   "metadata": {
    "colab": {
     "base_uri": "https://localhost:8080/",
     "height": 279
    },
    "id": "-UOcvkr62Z6p",
    "outputId": "d84d820d-c422-4053-b891-92352ccfb0e8"
   },
   "outputs": [],
   "source": [
    "plt.plot(history.history['loss'],\n",
    "         label='Ошибка на обучающем наборе')\n",
    "\n",
    "plt.plot(history.history['val_loss'],\n",
    "         label='Ошибка на проверочном наборе')\n",
    "\n",
    "plt.xlabel('Эпоха обучения')\n",
    "plt.ylabel('Ошибка')\n",
    "\n",
    "plt.legend()\n",
    "\n",
    "plt.show()"
   ]
  },
  {
   "cell_type": "markdown",
   "metadata": {
    "id": "7-sldTG-G282"
   },
   "source": [
    "Последний график имеет большое значение для нейронщика. Если ошибка на обучающей выборке стремится к **0**, а на проверочной выборке снижается, но потом снова растет – это эффект переобучения. Примерно после **30** эпохи НС начинает заучивать ответы."
   ]
  },
  {
   "cell_type": "markdown",
   "metadata": {
    "id": "7aeyWiq6lnCT"
   },
   "source": [
    "##Что делать с переобучением?"
   ]
  },
  {
   "cell_type": "markdown",
   "metadata": {
    "id": "tpd4odLcltMb"
   },
   "source": [
    "Попробуем решить проблему переобучения в исследуемой задаче."
   ]
  },
  {
   "cell_type": "markdown",
   "metadata": {
    "id": "2hixPFMeSRH2"
   },
   "source": [
    "### Слой  Dropout"
   ]
  },
  {
   "cell_type": "markdown",
   "metadata": {
    "id": "er8CVNUeS1MR"
   },
   "source": [
    "Возьмите исходную архитектуру НС и добавьте слои `Dropout` (см. теоретическая часть):"
   ]
  },
  {
   "cell_type": "code",
   "execution_count": null,
   "metadata": {
    "colab": {
     "base_uri": "https://localhost:8080/"
    },
    "id": "WbmwTQpcSVxV",
    "outputId": "884fe520-f00b-4ffe-e3bd-e0d440a80907"
   },
   "outputs": [],
   "source": [
    "# Создание последовательной модели\n",
    "model = Sequential()\n",
    "model.add(Dropout(0.3, input_shape=(x_train.shape[1],)))\n",
    "model.add(Dense(60, activation='relu'))\n",
    "model.add(Dropout(0.3))\n",
    "model.add(Dense(30, activation='relu'))\n",
    "model.add(Dropout(0.3))\n",
    "model.add(Dense(1, activation='sigmoid'))\n",
    "\n",
    "# Компиляция модели\n",
    "model.compile(loss='binary_crossentropy', optimizer=Adam(learning_rate=0.001), metrics=['accuracy'])\n",
    "\n",
    "# Обучение сети\n",
    "history = model.fit(x_train,\n",
    "                    y_train,\n",
    "                    batch_size=8,\n",
    "                    epochs=200,\n",
    "                    validation_split=0.2,\n",
    "                    verbose=1)"
   ]
  },
  {
   "cell_type": "markdown",
   "metadata": {
    "id": "BerlQ8-VH_pr"
   },
   "source": [
    "Результаты показывают, что даже после **200** эпох точность на обучающей выборке\n",
    "остановилось на **85%**. Переобучения нет."
   ]
  },
  {
   "cell_type": "code",
   "execution_count": null,
   "metadata": {
    "colab": {
     "base_uri": "https://localhost:8080/"
    },
    "id": "48EpZ0geI3aj",
    "outputId": "328ca449-45bb-4a76-8d05-6cbed036d130"
   },
   "outputs": [],
   "source": [
    "# Краткая сводка архитектуры модели\n",
    "model.summary()"
   ]
  },
  {
   "cell_type": "code",
   "execution_count": null,
   "metadata": {
    "colab": {
     "base_uri": "https://localhost:8080/",
     "height": 279
    },
    "id": "4rWqUfM5dLCV",
    "outputId": "c32407c4-73fc-4436-8eaf-9f9b34915f2b"
   },
   "outputs": [],
   "source": [
    "# Отрисовка графика точности на обучающей выборке\n",
    "# label - имя графика в легенде\n",
    "plt.plot(history.history['accuracy'],\n",
    "         label='Доля верных ответов на обучающем наборе')\n",
    "\n",
    "# Отрисовка графика точности на проверочной выборке\n",
    "plt.plot(history.history['val_accuracy'],\n",
    "         label='Доля верных ответов на проверочном наборе')\n",
    "\n",
    "# Отрисовка подписей осей\n",
    "plt.xlabel('Эпоха обучения')\n",
    "plt.ylabel('Доля верных ответов')\n",
    "\n",
    "# Отрисовка легенду\n",
    "plt.legend()\n",
    "\n",
    "# Вывод графика\n",
    "plt.show()"
   ]
  },
  {
   "cell_type": "code",
   "execution_count": null,
   "metadata": {
    "colab": {
     "base_uri": "https://localhost:8080/",
     "height": 279
    },
    "id": "PrEPS996dLCW",
    "outputId": "e2f8d676-af1b-4253-848c-935b0bc85d3e"
   },
   "outputs": [],
   "source": [
    "# Вывод графика ошибки\n",
    "plt.plot(history.history['loss'],\n",
    "         label='Ошибка на обучающем наборе')\n",
    "plt.plot(history.history['val_loss'],\n",
    "         label='Ошибка на проверочном наборе')\n",
    "plt.xlabel('Эпоха обучения')\n",
    "plt.ylabel('Ошибка')\n",
    "plt.legend()\n",
    "plt.show()"
   ]
  },
  {
   "cell_type": "markdown",
   "metadata": {
    "id": "9uuHvusTJd9U"
   },
   "source": [
    "Оба графика подтверждают, что переобучения больше нет."
   ]
  },
  {
   "cell_type": "code",
   "execution_count": null,
   "metadata": {
    "colab": {
     "base_uri": "https://localhost:8080/"
    },
    "id": "f8AGGXr3DXGa",
    "outputId": "e8fe652a-436c-4294-8b55-6f08c7cc3869"
   },
   "outputs": [],
   "source": [
    "# Вычисление результата (предсказания) сети на тестовом наборе\n",
    "scores = model.evaluate(x_test, y_test, verbose=1)\n",
    "\n",
    "print(scores)\n",
    "print('Доля верных ответов на тестовых данных, в процентах: {:7.4%}'.format(scores[1]))"
   ]
  },
  {
   "cell_type": "markdown",
   "metadata": {
    "id": "QMJVeYylJ6rS"
   },
   "source": [
    "Теперь проверка НС на тестовом наборе показала, что точность выросла почти на **4%** и приблизилась к отметке в **90%**."
   ]
  },
  {
   "cell_type": "markdown",
   "metadata": {
    "id": "3rDAPx24qc6E"
   },
   "source": [
    "### Слой BatchNormalization\n"
   ]
  },
  {
   "cell_type": "code",
   "execution_count": null,
   "metadata": {
    "colab": {
     "base_uri": "https://localhost:8080/",
     "height": 1000
    },
    "id": "ZJrUWd_JsJXQ",
    "outputId": "c7800453-7f94-4458-df7e-405a89f4d7de"
   },
   "outputs": [],
   "source": [
    "model = Sequential()\n",
    "\n",
    "model.add(BatchNormalization(input_shape=(x_train.shape[1], )))\n",
    "model.add(Dense(60, activation='relu'))\n",
    "model.add(BatchNormalization())\n",
    "model.add(Dense(30, activation='relu'))\n",
    "model.add(Dense(1, activation='sigmoid'))\n",
    "\n",
    "model.compile(loss='binary_crossentropy',\n",
    "              optimizer=Adam(learning_rate=0.001),\n",
    "              metrics=['accuracy'])\n",
    "\n",
    "history = model.fit(x_train,\n",
    "                    y_train,\n",
    "                    batch_size=200,\n",
    "                    epochs=100,\n",
    "                    validation_split=0.2,\n",
    "                    verbose=1)\n",
    "\n",
    "plt.plot(history.history['accuracy'],\n",
    "         label='Доля верных ответов на обучающем наборе')\n",
    "plt.plot(history.history['val_accuracy'],\n",
    "         label='Доля верных ответов на проверочном наборе')\n",
    "plt.xlabel('Эпоха обучения')\n",
    "plt.ylabel('Доля верных ответов')\n",
    "plt.legend()\n",
    "plt.show()\n",
    "\n",
    "plt.plot(history.history['loss'],\n",
    "         label='Ошибка на обучающем наборе')\n",
    "plt.plot(history.history['val_loss'],\n",
    "         label='Ошибка на проверочном наборе')\n",
    "plt.xlabel('Эпоха обучения')\n",
    "plt.ylabel('Ошибка')\n",
    "plt.legend()\n",
    "plt.show()"
   ]
  },
  {
   "cell_type": "markdown",
   "metadata": {
    "id": "tb40F7IEMCiA"
   },
   "source": [
    "Как видите, результата почти никакого.\n",
    "\n",
    "При этом на тестовой выборке результат очень сильно ухудшился. Возможно, стоит изменить архитектуру модели."
   ]
  },
  {
   "cell_type": "code",
   "execution_count": null,
   "metadata": {
    "colab": {
     "base_uri": "https://localhost:8080/"
    },
    "id": "e-3ZtpAdDeA_",
    "outputId": "467508aa-da6d-4ef0-a685-0306413b7232"
   },
   "outputs": [],
   "source": [
    "# Вычисление результата (предсказания) сети на тестовом наборе\n",
    "\n",
    "scores = model.evaluate(x_test, y_test, verbose=1)\n",
    "\n",
    "print(scores)\n",
    "print('Доля верных ответов на тестовых данных, в процентах: {:7.4%}'.format(scores[1]))"
   ]
  },
  {
   "cell_type": "markdown",
   "metadata": {
    "id": "2uIzZQ6CMbGU"
   },
   "source": [
    "### Совмещение Dropout и BatchNormalization"
   ]
  },
  {
   "cell_type": "code",
   "execution_count": null,
   "metadata": {
    "colab": {
     "base_uri": "https://localhost:8080/",
     "height": 1000
    },
    "id": "0FSmNr34dMxw",
    "outputId": "c14d187a-1f7a-4acc-810d-9c6049d40cb8"
   },
   "outputs": [],
   "source": [
    "model = Sequential()\n",
    "\n",
    "model.add(Dense(60, activation='relu', input_shape=(x_train.shape[1], )))\n",
    "model.add(BatchNormalization())\n",
    "model.add(Dropout(0.3))\n",
    "model.add(Dense(30, activation='relu'))\n",
    "model.add(BatchNormalization())\n",
    "model.add(Dropout(0.3))\n",
    "model.add(Dense(1, activation='sigmoid'))\n",
    "\n",
    "model.compile(loss='binary_crossentropy',\n",
    "              optimizer=Adam(learning_rate=0.001),\n",
    "              metrics=['accuracy'])\n",
    "\n",
    "history = model.fit(x_train,\n",
    "                    y_train,\n",
    "                    batch_size=200,\n",
    "                    epochs=100,\n",
    "                    validation_split=0.2,\n",
    "                    verbose=1)\n",
    "\n",
    "plt.plot(history.history['accuracy'],\n",
    "         label='Доля верных ответов на обучающем наборе')\n",
    "plt.plot(history.history['val_accuracy'],\n",
    "         label='Доля верных ответов на проверочном наборе')\n",
    "plt.xlabel('Эпоха обучения')\n",
    "plt.ylabel('Доля верных ответов')\n",
    "plt.legend()\n",
    "plt.show()\n",
    "\n",
    "plt.plot(history.history['loss'],\n",
    "         label='Ошибка на обучающем наборе')\n",
    "plt.plot(history.history['val_loss'],\n",
    "         label='Ошибка на проверочном наборе')\n",
    "plt.xlabel('Эпоха обучения')\n",
    "plt.ylabel('Ошибка')\n",
    "plt.legend()\n",
    "plt.show()"
   ]
  },
  {
   "cell_type": "code",
   "execution_count": null,
   "metadata": {
    "colab": {
     "base_uri": "https://localhost:8080/"
    },
    "id": "BhzlGbfmDiHv",
    "outputId": "0724f0a9-6754-426a-d408-d881eff1d193"
   },
   "outputs": [],
   "source": [
    "# Вычисление результата (предсказания) сети на тестовом наборе\n",
    "\n",
    "scores = model.evaluate(x_test, y_test, verbose=1)\n",
    "\n",
    "print(scores)\n",
    "print('Доля верных ответов на тестовых данных, в процентах: {:7.4%}'.format(scores[1]))"
   ]
  },
  {
   "cell_type": "markdown",
   "metadata": {
    "id": "53_Zf34wM5CP"
   },
   "source": [
    "Это не дало лучшего результата. Можно сделать вывод, что для изучаемых данных батч-нормализация больше вредна, чем полезна.\n",
    "\n",
    "В этом и заключается работа нейронщика: подбирать необходимую архитектуру и проводить множество экспериментов для достижения наилучшего результата."
   ]
  }
 ],
 "metadata": {
  "accelerator": "GPU",
  "colab": {
   "provenance": []
  },
  "kernelspec": {
   "display_name": "Python 3 (ipykernel)",
   "language": "python",
   "name": "python3"
  },
  "language_info": {
   "codemirror_mode": {
    "name": "ipython",
    "version": 3
   },
   "file_extension": ".py",
   "mimetype": "text/x-python",
   "name": "python",
   "nbconvert_exporter": "python",
   "pygments_lexer": "ipython3",
   "version": "3.10.5"
  }
 },
 "nbformat": 4,
 "nbformat_minor": 4
}
