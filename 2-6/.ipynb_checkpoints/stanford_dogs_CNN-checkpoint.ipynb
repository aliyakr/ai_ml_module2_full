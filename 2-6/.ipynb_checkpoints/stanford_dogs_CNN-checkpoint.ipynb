{
  "cells": [
    {
      "cell_type": "markdown",
      "source": [
        "# Модуль 2. Занятие 6. Сверточные нейронный сети. Классификация изображений"
      ],
      "metadata": {
        "id": "sQWawfS8vGdc"
      }
    },
    {
      "cell_type": "code",
      "execution_count": null,
      "metadata": {
        "colab": {
          "background_save": true
        },
        "id": "DmlbRXFrIeTM"
      },
      "outputs": [],
      "source": [
        "from torchvision import transforms, datasets, models\n",
        "import torch\n",
        "import torchvision\n",
        "from torch import optim, cuda\n",
        "from torch.utils.data import DataLoader, sampler, random_split\n",
        "import torch.nn as nn\n",
        "\n",
        "from PIL import Image\n",
        "import numpy as np\n",
        "import pandas as pd\n",
        "import os\n",
        "import zipfile\n",
        "import seaborn as sns\n",
        "import matplotlib.pyplot as plt\n",
        "%matplotlib inline\n",
        "\n",
        "import ssl\n",
        "ssl._create_default_https_context = ssl._create_unverified_context\n",
        "\n",
        "import xml.etree.ElementTree as ET\n",
        "from google.colab import drive"
      ]
    },
    {
      "cell_type": "markdown",
      "source": [],
      "metadata": {
        "id": "7t8m6IAyvBh5"
      }
    },
    {
      "cell_type": "code",
      "execution_count": null,
      "metadata": {
        "id": "YB5cYL5P16G2"
      },
      "outputs": [],
      "source": [
        "drive.mount('/content/drive', force_remount=True)"
      ]
    },
    {
      "cell_type": "code",
      "execution_count": null,
      "metadata": {
        "id": "T-9HFY7y199i"
      },
      "outputs": [],
      "source": [
        "# Прописываем путь к файлу с архивом\n",
        "zip_file = '/content/drive/My Drive/archive.zip'\n",
        "\n",
        "# Распаковываем архив\n",
        "z = zipfile.ZipFile(zip_file, 'r')\n",
        "z.extractall()\n",
        "\n",
        "# Просмотр результата разархивации\n",
        "print(os.listdir())"
      ]
    },
    {
      "cell_type": "markdown",
      "metadata": {
        "id": "geq9K7kZJf3h"
      },
      "source": [
        "# Preparing the images"
      ]
    },
    {
      "cell_type": "markdown",
      "metadata": {
        "id": "2Z4cs9BxJtC3"
      },
      "source": [
        "### Defining the image-cropping-function"
      ]
    },
    {
      "cell_type": "code",
      "execution_count": null,
      "metadata": {
        "id": "6jS9h9gvItyC"
      },
      "outputs": [],
      "source": [
        "def crop_image(breed, dog, data_dir):\n",
        "  img = plt.imread(data_dir + 'images/Images/' + breed + '/' + dog + '.jpg')\n",
        "  tree = ET.parse(data_dir + 'annotations/Annotation/' + breed + '/' + dog)\n",
        "  xmin = int(tree.getroot().findall('object')[0].find('bndbox').find('xmin').text)\n",
        "  xmax = int(tree.getroot().findall('object')[0].find('bndbox').find('xmax').text)\n",
        "  ymin = int(tree.getroot().findall('object')[0].find('bndbox').find('ymin').text)\n",
        "  ymax = int(tree.getroot().findall('object')[0].find('bndbox').find('ymax').text)\n",
        "  img = img[ymin:ymax, xmin:xmax, :]\n",
        "  return img"
      ]
    },
    {
      "cell_type": "code",
      "execution_count": null,
      "metadata": {
        "id": "NvDZ0qGW41cQ"
      },
      "outputs": [],
      "source": []
    },
    {
      "cell_type": "markdown",
      "metadata": {
        "id": "UwUxIEgGJ87t"
      },
      "source": [
        "### Randomly cropping and plotting 4 images"
      ]
    },
    {
      "cell_type": "code",
      "execution_count": null,
      "metadata": {
        "id": "Tw5SNrWQJ-E7"
      },
      "outputs": [],
      "source": [
        "data_dir = '/content/'\n",
        "breed_list = os.listdir(data_dir + 'images/Images/')\n",
        "\n",
        "plt.figure(figsize=(20, 20))\n",
        "for i in range(4):\n",
        "  plt.subplot(421 + (i*2))\n",
        "  breed = np.random.choice(breed_list)\n",
        "  dog = np.random.choice(os.listdir(data_dir + 'annotations/Annotation/' + breed))\n",
        "  img = plt.imread(data_dir + 'images/Images/' + breed + '/' + dog + '.jpg')\n",
        "  plt.imshow(img)\n",
        "\n",
        "  tree = ET.parse(data_dir + 'annotations/Annotation/' + breed + '/' + dog)\n",
        "  xmin = int(tree.getroot().findall('object')[0].find('bndbox').find('xmin').text)\n",
        "  xmax = int(tree.getroot().findall('object')[0].find('bndbox').find('xmax').text)\n",
        "  ymin = int(tree.getroot().findall('object')[0].find('bndbox').find('ymin').text)\n",
        "  ymax = int(tree.getroot().findall('object')[0].find('bndbox').find('ymax').text)\n",
        "  plt.plot([xmin, xmax, xmax, xmin, xmin], [ymin, ymin, ymax, ymax, ymin])\n",
        "  crop_img = crop_image(breed, dog, data_dir)\n",
        "  plt.subplot(422 + (i*2))\n",
        "  plt.imshow(crop_img)"
      ]
    },
    {
      "cell_type": "markdown",
      "metadata": {
        "id": "83TGs6btKIqM"
      },
      "source": [
        "### Creating folders to store cropped images by breed"
      ]
    },
    {
      "cell_type": "code",
      "execution_count": null,
      "metadata": {
        "id": "0ZQXtzrHKJrx"
      },
      "outputs": [],
      "source": [
        "if 'data' not in os.listdir():\n",
        "    os.mkdir('data')\n",
        "for breed in breed_list:\n",
        "    os.mkdir('data/' + breed)\n",
        "print('Created {} folders to store cropped images of the different breeds.'.format(len(os.listdir('data'))))"
      ]
    },
    {
      "cell_type": "markdown",
      "metadata": {
        "id": "b-ZFFdCGKR9m"
      },
      "source": [
        "### Storing images by breed"
      ]
    },
    {
      "cell_type": "code",
      "execution_count": null,
      "metadata": {
        "id": "_qRLp4Y5KSqV"
      },
      "outputs": [],
      "source": [
        "for breed in os.listdir('data'):\n",
        "    for file in os.listdir(data_dir + 'annotations/Annotation/' + breed):\n",
        "        img = Image.open(data_dir + 'images/Images/' + breed + '/' + file + '.jpg')\n",
        "        tree = ET.parse(data_dir + 'annotations/Annotation/' + breed + '/' + file)\n",
        "        xmin = int(tree.getroot().findall('object')[0].find('bndbox').find('xmin').text)\n",
        "        xmax = int(tree.getroot().findall('object')[0].find('bndbox').find('xmax').text)\n",
        "        ymin = int(tree.getroot().findall('object')[0].find('bndbox').find('ymin').text)\n",
        "        ymax = int(tree.getroot().findall('object')[0].find('bndbox').find('ymax').text)\n",
        "        img = img.crop((xmin,ymin,xmax,ymax))\n",
        "        img = img.convert('RGB')\n",
        "        img.save('data/' + breed + '/' + file + '.jpg')"
      ]
    },
    {
      "cell_type": "code",
      "execution_count": null,
      "metadata": {
        "id": "X7mvSRtZKZYn"
      },
      "outputs": [],
      "source": [
        "img_count = 0\n",
        "for folder in os.listdir('data'):\n",
        "    for _ in os.listdir('data/' + folder):\n",
        "        img_count += 1\n",
        "print('No. of Images: {}'.format(img_count))"
      ]
    },
    {
      "cell_type": "markdown",
      "metadata": {
        "id": "PAsLQMZfKhQL"
      },
      "source": [
        "# Loading the dataset"
      ]
    },
    {
      "cell_type": "code",
      "execution_count": null,
      "metadata": {
        "id": "qCiBgHPYKiAL"
      },
      "outputs": [],
      "source": [
        "#Initializing normalizing transform for the dataset\n",
        "normalize_transform = transforms.Compose([\n",
        "    transforms.RandomResizedCrop(size=315, scale=(0.95, 1.0)),\n",
        "    transforms.CenterCrop(size=299),  # Image net standards\n",
        "    transforms.ToTensor(),\n",
        "    transforms.Normalize([0.485, 0.456, 0.406],\n",
        "                        [0.229, 0.224, 0.225])]) # Imagenet standards"
      ]
    },
    {
      "cell_type": "code",
      "execution_count": null,
      "metadata": {
        "id": "M5GDmOL1KpdK"
      },
      "outputs": [],
      "source": [
        "#Downloading the \"Stanford Dogs\" dataset\n",
        "all_data = datasets.ImageFolder(root='data')\n",
        "\n",
        "#Splitting data into train, validation and test datasets\n",
        "train_data_len = int(len(all_data)*0.8)\n",
        "valid_data_len = int((len(all_data) - train_data_len)/2)\n",
        "test_data_len = int(len(all_data) - train_data_len - valid_data_len)\n",
        "train_data, val_data, test_data = random_split(all_data, [train_data_len, valid_data_len, test_data_len])\n",
        "\n",
        "#Normilizing the data\n",
        "train_data.dataset.transform=normalize_transform\n",
        "val_data.dataset.transform=normalize_transform\n",
        "test_data.dataset.transform=normalize_transform\n",
        "\n",
        "print(len(train_data), len(val_data), len(test_data))\n",
        "\n",
        "#Generating data loaders from the corresponding datasets\n",
        "batch_size = 128\n",
        "train_loader = DataLoader(train_data, batch_size=batch_size, shuffle=True)\n",
        "val_loader = DataLoader(val_data, batch_size=batch_size, shuffle=True)\n",
        "test_loader = DataLoader(test_data, batch_size=batch_size, shuffle=True)"
      ]
    },
    {
      "cell_type": "code",
      "execution_count": null,
      "metadata": {
        "id": "GUBhli9HKuh1"
      },
      "outputs": [],
      "source": [
        "trainiter = iter(train_loader)\n",
        "features, labels = next(trainiter)\n",
        "print(features.shape, labels.shape)"
      ]
    },
    {
      "cell_type": "code",
      "execution_count": null,
      "metadata": {
        "id": "1GxFpg0sKxuN"
      },
      "outputs": [],
      "source": [
        "#Plotting some images from the dataset\n",
        "plt.rcParams['figure.figsize'] = 14, 6\n",
        "plt.imshow(np.transpose(torchvision.utils.make_grid(\n",
        " features[:30], normalize=True, padding=1, nrow=5).numpy(), (1, 2, 0)))\n",
        "plt.axis('off')"
      ]
    },
    {
      "cell_type": "markdown",
      "metadata": {
        "id": "rNWqga09K9Gc"
      },
      "source": [
        "# Plotting class distribution of the dataset"
      ]
    },
    {
      "cell_type": "code",
      "execution_count": null,
      "metadata": {
        "id": "2VkwyeIPKx0p"
      },
      "outputs": [],
      "source": [
        "#Iterating over the training dataset and storing the target class for each sample\n",
        "classes = []\n",
        "for batch_idx, data in enumerate(train_loader, 0):\n",
        "    x, y = data\n",
        "    classes.extend(y.tolist())\n",
        "\n",
        "#Calculating the unique classes and the respective counts\n",
        "unique, counts = np.unique(classes, return_counts=True)\n",
        "names = list(test_data.class_to_idx.keys())"
      ]
    },
    {
      "cell_type": "code",
      "execution_count": null,
      "metadata": {
        "id": "shkFwQT-LS8d"
      },
      "outputs": [],
      "source": [
        "#Plotting the unique counts and the respective counts\n",
        "plt.bar(names, counts)\n",
        "plt.xlabel(\"Target Classes\")\n",
        "plt.ylabel(\"Number of training instances\")\n",
        "plt.xticks([])"
      ]
    },
    {
      "cell_type": "markdown",
      "metadata": {
        "id": "q_27_nbGJYBW"
      },
      "source": [
        "### Импорт картиночки из кегли"
      ]
    },
    {
      "cell_type": "markdown",
      "metadata": {
        "id": "bmCtStWuJUR4"
      },
      "source": [
        "![image.png](data:image/png;base64,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)"
      ]
    },
    {
      "cell_type": "markdown",
      "metadata": {
        "id": "B-Pi-yYtLWs-"
      },
      "source": [
        "# Implementing the CNN architecture"
      ]
    },
    {
      "cell_type": "markdown",
      "metadata": {
        "id": "qKrUsNz7LZoq"
      },
      "source": [
        "### Instantiating the model"
      ]
    },
    {
      "cell_type": "markdown",
      "metadata": {
        "id": "AN8tm0yOLce0"
      },
      "source": [
        "![image.png](data:image/png;base64,iVBORw0KGgoAAAANSUhEUgAAAXkAAAFJCAIAAADxG8rHAAAABmJLR0QA/wD/AP+gvaeTAAAgAElEQVR4nOydd1QUyRfvq4cJ5CQ5iaCAYFgBwUAwrIIJMSuKGRBxUVdRFFeMrAnUVTFiXFxWzAoiKyhBcnJRJOc8MDA5d78/6v36zQMDKii68zkeD91d3VXd03On6tat70WYLC6QIkWKlD6G8K0bIEWKlP8ERMkNRQXZb9UOKVKk/NhI+zVSpEj5GkhtjRQpUr4GUlsjRYqUr4HU1kiRIuVrILU1UqRI+RpIbY0UKVK+BlJbI0WKlK+B1NZIkSLla0D8eBEA4uPjORxOXzdFihQp3zuOjo4DBgx45yFEcj3UO+OGCwsLz5w5s2zZsr5q3Q/NggULIiIilJWVv37Vr169Ki4uBgCoqKj8/PPPRGKPfldwIiMjKyoqfv31V0VFxc+oPSwsrKGhITQ09DPOBQBwudxLly7JycmtXbtWcn9ubm55eTn8e9GiRZ938ZMnT06ePHnYsGGfd7qU91FVVZWcnHzx4sV3H2ayuPg/7F2kpqZu3br1nYekfBQ1NTUqldoXVxaLxY8ePaqrq3tfgYSEhIEDBwIALC0tWSzWJ128o6ODTCYDAMLCwj6jbW1tbRQKxdXV9Z1HURQtKCh4+PDhB67w559/wvezrKxMcn9SUtJPP/0ED31GwyBeXl4pKSmffbqU9/Hvv/9Onjz5fUel/prvlTt37qxbt66hoeF9BSZNmuTk5PR5FyeRSNra2goKClZWVp9x+tOnTwUCgYODwzuPUqlUf3//R48efeAKenp6JBLJxMREU1NTcr+Tk9OMGTM+o0lSvjmf1q+W0uugKMpkMgEABAJBTk6us7NTJBINGDCARCLBAnw+v6OjQywWy8vLq6qqIggCAHj+/PmmTZtYLBabzWaxWHCYIxKJmEwml8uVl5dXUVFBEAQfN4lEIiqViqKolpYWvIIkGIax2WwGg0GhUEgkEoFAQFE0PT2dSCSqqqoCADgcjlAolDyFTCbLyckBAFgsFoPBkJWVVVFRkZGRAQCIxeLY2FgKhTJhwgQAAJ1OZ7FYCgoKIpFIWVmZyWRu2LAhOTnZxMSEwWAoKyszGAwMwxAEUVRUZLPZbDZbXV3d1ta2urqaQCAoKSnBGrlcbmdnp5ycHP5kcIRCIYPBEAqFysrK8vLyvffhSOlNpLbmG0OlUv38/Do7OzU0NIyNjZOSkvh8vpOT065duzQ0NDIyMkJDQ1VUVGpra/l8vqur69atW+l0+sqVKxsbG2VkZLZv325jY3Pu3DkOh3Po0KGCggIymdzR0eHt7b1gwQJYBZfLPXr06LNnz4RC4bx587Zu3QrHRzjl5eXbtm0jEolCoZDH4y1atCg1NbWmpgYAsGHDBnd395CQkIyMDA0NDaFQSKfTAQDz58/38fGJj48/c+aMkZFRVVXVzJkzfX19AQB0Or2goEBfX9/a2jo+Pv7kyZOamppUKpVGo4WHh4eGhkZHRwMA4uPjPTw8Hj9+7Ofn19TUJC8v7+fnFxYWRqVS3d3dq6qq6urqAABRUVEaGhrNzc1bt24tLCzU1tYWi8WSjYc3npaWpqenR6fTg4ODra2tv8pHJ+UTkfpr+pSP+mtQFD148CD8LObMmRMTEwNHDcHBwTQazdnZWVZWNjc3VywWw1/4ixcvoij64MEDEomkrKyckpIiEAhEIpGrqyuCIMnJyY8fP5aXl7eysmppaVm1ahUAgEAgeHh4rFixAtaSlpbWpQ1TpkwZMGCAUChsaWkZOHBgRERES0sLLHzq1CkMw1xcXMLCwths9uzZswEAcnJy9fX1OTk5srKydnZ2dDp9165dAIDnz59jGFZYWCgjIxMSEtLc3EwgECZNmkSn07OysnR0dLKzs/l8PuwrrVmzhs/nYxh26dIl2CGSl5eHHbTp06eHh4fDBtTX1/N4PH19fQDAhAkTcCcUAAA+vZ07dwIATpw4UVpaqqCg4Ozs/FHnlNRf00dI/TX9GgRBlJWVCQSCpqbmyZMnXV1dbWxsAAAXLlwQiUR8Pl8sFjc1NREIBAsLCwDAq1ev8MERgiAkEolEIj158iQuLs7IyGjUqFFDhgwZPny4tbW1rOz/nVUcPHjwqVOnQkND4Z7Xr193aUN+fn57e/v69etbW1ujo6OHDx/eZag1b968ZcuWJSQkPHv2DEEQPz8/fX39u3fv8ng8PT09MplsZmYGAAgPD8cw7Ny5c3D+qK6uDkXRvLy8kJAQHR2dkJAQXV1dMpkMr0wgEGD3SkVFhUAgAAAuXbqUmZn5+++/HzhwQHLeNC4urqGhgUgkHj9+fNKkSR4eHvih+vr6sLAwAMCUKVP09PRkZGSys7Pb29v74IOS8qVIbU1/gUwmE4lEAoFgamoKAGhqagIA3L59Ozc3V1VV1d3dPT8/HwAgEom6n5ubmwsAUFRURBDEzMwsIyPj+vXr+EQ7kUiEjhj43e7ieQEAODs7AwAuXrxobW2dmJhoa2vbpYCXl5eqquqGDRvYbDY+Dw0n1O/fvy8nJ7d8+XIAQE1NTUdHx+XLl52dnTU1Nc3NzQkEQmdn5+HDh62trbW0tGD35J0QicRx48ZZWloGBgaOGjVK8lBZWRkAQElJCfb4cBsKACgpKeHxeAAAKysrRUVFBoPB4XAqKys/+rSlfH2ktqbfAQcUCIIQCITCwsL169evXr3axcXFxMTkneUxDGMwGAAAKpX6Tkv0Uf744w8PDw85OTmhULhr165r165hGCZZQCwWHzt2rLa2FgCwffv2IUOGCAQCPp8PABg/fnxNTU1ra2tra2tcXFxiYiKPx3N1dQUAKCkpvXr1aurUqUQisa2tbe7cuZmZmZ/RPBhHCh9LF6ChAQBcuXKl9X+MGzfuM2qR0tdIbU2/A/pEdXR06HS6t7f3y5cvfX19fX193xcQiCCIoaEhAKC1tfXJkyefWp1QKPT19Q0PD8/NzbW1tRWJRC9fvuzif62oqIABWvb29jt37kxKSvL39zcwMAAANDQ0yMrKampqampq0un027dvKykp2dvbAwAyMzOvXbv28OHD+Ph4AwMDgUBw586dT38eQEtLCwDAYDAEAkGXQ8bGxvCP2NhY2AYymYyi6GfUIqWvkdqa/kJbW9ujR49SU1Ozs7NlZGTWrVvHYDCam5sxDHv9+vXVq1crKioAADU1NY2NjXBMxOFw4uLiFi5cOHz4cD09PQCAr6/vn3/++c8//wQFBTU0NNBoNACAUCjkcrksFguOnuAcM16vWCxOSEhITEy0sLDYsmULgiAGBgbQnw0AoNPpGIaFh4dXVVXJycn5+flVVVUdPnxYU1Nz5syZZDK5urp627Zt9+/f3759+8aNG/Pz83V1dYcOHQorCgsLe/Xq1YQJEzZt2gQAgNE60Deck5MTEBAQExMD2yMWi3E/C4ZhsOUAgNbW1okTJyoqKgoEgvPnz2dlZT18+BAeSk5OHjJkyPTp0wEAt2/fPnHixJ07d7y9vd++fftVPrH/+/SKioqSkpK43H6Rj4TD4aSmphYUFHT5tegX9OI8VFtbW2Vl5ad5rn90ehI3fOrUKQKBoKamNm3aNE1NTQRBFi9eTKVSqVTq+PHjAQAUCmXr1q2enp4AgEGDBr1586ahoWHs2LEAAD09vb///lskEuXk5AwfPhwAICsrO2rUqJSUlL1798IQGBKJdPjwYXgUAGBiYsJkMvHauVwuhUIxMzNzcXExNTW1tbXNyMgYMWIELGxhYZGbmwtdJEQi0dTU1MjICEGQa9eu8Xi8kydPqqioAACUlJR8fX0fPHggKyu7c+dOeOX4+HgNDY1hw4ZNnz5dV1d32bJlcIboxIkTFAqFSCT6+voKBALon4K3dvPmTQzDiouLoSMcAGBpadnS0vL06VMtLS0ymTx06NBZs2YRiURzc/ONGze2trbW1tbC6D4ikaipqRkdHS0SiT78wHtxHqqkpGTkyJGqqqofDoP+QlpaWmpqanpS8vbt2xoaGlZWVhUVFX3Xnvfx4XmoXrM1LS0tEyZMCAkJ+fyW/oj03Nbo6+s3NjZWVVW1tLTgh3g8Xm5ubltbG4ZhXC43Jyeno6MDHuJyuW/fvuVy/9+nJhQKS0pKKisrxWJxz1sIf5n5fH5hYeGbN28+6VwMwzo6OjIyMqqrq8VicVVV1b1791pbW+Ghzs7OpqYmJpOZl5dXWVmJmwCxWFxdXQ27bJ9UUVZWVkdHBwzVkTyEoujbt2/z8vIkn8YH6EVbk5ubCyfXbt++3SsX7E5tba2VldXJkyd7UvjcuXNEItHY2LjL2o6vw4dtTa/F8h04cCA1NXXq1Km9dcH/DtC/AL+KuAMCQqFQ8Mg0WVlZOB2Ob+I//hAikQjnnj8JAoEAhzyftxZRVVUVemcAAMbGxpLtV1FRgb2eLvNKBAIBj5H5pIpGjx79zkMIgnR5FF+NYcOG3bp1q7Ozc+LEiX1Uxc6dO4uKinpYeOHChVpaWgYGBp/xhPuaXrA1IpFo48aNMPgqLS3t3LlzkyZNio+PR1EUQRBtbW07O7unT5+KxeLZs2fHxMTweDwKhWJpaZmQkNDc3DxnzhwnJyc5OTkMw6hUamxs7OvXrzU1NWfPnv2tXqCvCYvFSktLIxAIHR0dN27cWLt27fuW5Evph8TExEBfvrm5uZKS0t27d0Uikbq6uoODQ2RkZHl5uaenp7OzM4PBePToUWdnJwDA2dn5wYMHFRUV8+fPnzZtWlNTU0xMDHR7r127NiYmBoY7/PTTT2PHjvXx8YHLUJOSkigUio+PD141hmF1dXU3btxoa2szNjbGMGzmzJnx8fEikai9vX3w4MEkEunevXudnZ0UCgWGTQIApk6dam5uXlJSEhsb29DQYGFh4e7u3mXRWV/x5WMoPp9/9+5dOKT38PC4f/9+fX29nZ0dAEBeXj4/P59KpS5dutTDw6Otre3gwYMwFM3e3n7fvn0w/urYsWMYhlVWVlpbW5uZmSUmJnp4eBgaGhYWFn5+f65/8NExVGdn5xMJejgsl/Il9OIY6sqVKzCe+9atW+3t7dBRraio6OTk5OTkhCCIurp6dXU1i8Xau3cv/MYNGzYsODhYXl6eQqFs27atra0NX03K4XDi4+Ph35s2beJyubdu3YJRUatWrXrw4IFk1R0dHePGjRs4cGBqaurp06dNTEzKysrWr18PANDR0SkuLq6urh46dOjRo0dv374Ngz/JZHJxcXFiYqKhoeHMmTOfP38+dOjQ8ePH95YUwVfy18Anjvtrzp8/Dx/Z3bt3hULhiBEjYAD7P//8Q6FQZGVlY2JixGLxmjVrAACDBw9GUfTYsWMIgsyaNYvNZl+5cgUAsHjxYhRFP+em+w19pykh5bPpRVtTUFCgo6MDbQ2GYVu3bgUAaGpqcjic3Nxc6JuH8UoJCQnwGxEVFYVh2I4dO+BmWVkZXOEB/jeOplAo0NbAKuBq0u7+mpqaGllZWSUlpfz8fJFItHv37paWlqtXr0raml27donFYhhajSBISEgIl8uFswQXLlyAkVBkMrmLFftsvpK/pguLFi06cOBAXV3dwYMHdXR0UBQdM2YMfpRCoSgpKREIhMGDBwMAKioqGAxGQUEBhmFv374NCAiAoZ9FRUUCgQA+eilSvhfU1NTk5OTU1dXh2ouOjg7Jo0ZGRgAAOMMIAOi5L6YLZDJZXV29sbFx2rRpc+fO7T761tPT27JlC5VKjYiIAADY2tpu2LChoaEBjtHu3r3777//FhcXCwQCGKXZ1/SVrVFRUdm2bdsvv/zy5s2bkJCQX3/9VTK0HEdBQQEAgGFYR0cHXO+nra3t4+MD1+CRSKRPVZOTIqX/0F2+A0dNTQ3+wWKxPu/iWlpa27ZtCwwMbG5uDg8PT05Ofv78uWQBEomkoqKyZcuWN2/eAAA2bNigqKhYVlYGw6xGjhzp7e29efNmycb0KX0YyzdnzhxDQ0Mej5efnw/XB3cHmnxFRUUjIyNdXV0AAJ1O19DQMDExMTExUVRUhL8MUqT8YDQ2NsI/YMw3BPv/l4Z8GDqdPnbs2Pj4+FWrVsnIyBQVFcEVapJkZGScOXMGADBy5Eh3d/fU1NSysjLoAKqtrYXfsoEDB76zH9Dr9PI3ub29/ezZs/fv3wcAaGpqQrWkyZMn44pHEB6P197eDmM6AAATJkwgEAjjx49HEKSoqAhGsickJMycOfOzrb6U/oZIJIqJiYG/sT8MuHWAgQvwf3wn/KPLmgkY1gxfci0trdGjR+Pz0/X19bW1tXBRG1RQw+no6AgJCXn27Bm+p7m5OTAw0MHB4fz5897e3rhnE6+aw+EcPXpUIBCQSKQ7d+5gGLZ27VqRSDRkyBAAwO3bt9PS0gAA586dO3fuXC8/l3fSW77hefPmIQiioKAwa9YsPCz13r17RCIxMjISLwZ9wyQSyc7OztXVVU5ObtCgQcnJyRiGtba2zp8/H5pYfX19BweH/Pz8j/uj+jdS3zCkuLgY9m2jo6O/dVt60ze8fft26E+cOnVqTk7OyJEjAQBkMvnMmTMnTpyAHgB7e/vS0lLcN2xnZ+fi4gIAGDJkCNQSam9vNzc3RxBk0KBBM2bMIJFISkpKNjY26enpGIb9/PPPAAAlJaX58+ez2Wy86qKiIhUVFV9f33Pnzg0fPnzKlCmlpaWTJk2CDTh06FBmZib0RQwZMmTPnj0wOikxMbGoqGjMmDEyMjIUCkVfX3/RokWS4aNfwod9wx/Po/Dy5cv79+8fPXr0wzaLSqWmp6fr6upaWFjgvZj6+norK6vy8nJ8Av/Zs2czZ86UlZX9888/KRQKgiDDhw/X1NSEYyUOh1NcXJyXl2dkZGRra6uurv65JrS/oK6uXlpaqqGh8a0b8o3BMCwvL8/W1jY6Onr+/PnftjHe3t7Lly9/nxzyJ9HQ0IBrdKirq+PLuIhEIplMxjMdaWpqZmZmTp48GQAQFxdHIBD4fP7o0aO1tbVhgbq6uufPn+vp6dnY2GRnZ5ubm8vJySkrK8vKyjY1Nb18+XLQoEEWFhbQvwnp7OwsLy+XlZV99eqVhobG6NGjFRQUoN8XAEChUFRUVFpbW7s0WFdXl0KhdHR0ZGdn19XVjRw5cujQoZKX/RIKCws3b94s2fmSpNc8r5qamm5ubvDv4uLiNWvWuLu7q6qqrl27tnukEIZhysrK3ZW35eXlra2tpRqOnwGGYVAwWHLsjaIon8+nUChMJlNZWbmLq1IgEGAYhiAIh8OB+sQoijIYDCKRqKCggBdmMpkKCgrw+srKylDbgclkEggEeXl5vBifz2cymYqKingDMAyj0+kqKip0Ol1eXh5fp45hGD6sgNIZ8IIyMjJwkvgDLtX+RhdFng8k58H+N7qRl5d3dHTsctTQ0BBqAAEAugTf6+rqvtM6q6qqQqUhyYDvLnHnXTZx1NTUvn6If594XisqKtLS0oKDg8+fPx8cHCx5qKSkRCAQsNns7Oxs6dr/3qKwsPDnn39esGCBvb19cHAwl8tFUTQrK8vb23vv3r07d+4cM2bMjRs38PICgeDGjRs///zzhQsXZsyYMWPGjJqamvb29tWrV48ZM2bMmDFHjx5FUbSsrGzHjh3jx4/PyMhwc3MbM2bMxo0bBQLBpk2b7OzsJk6ciKtSPXjwYMaMGb6+vo6OjrGxsQCAioqKgIAAJyenixcvjhs37uDBg/jHzWKxdu7caW1tPXv27IcPH/L5/F9//XXBggVTpkyZP3/+15l//cqIRKK8vDz49+PHj3HZnf8UfWJrnJycQkJCFi5cePz4cUlL39ra+vz58zlz5syePTstLe3u3bt9Uft/jcrKykWLFq1YsSI+Pj4yMvLSpUubN29ubGxMSEi4du1aeHh4c3OzlpYWm83GTykoKIiOjk5NTT1//ryOjg6ZTKbRaAsWLBg+fHheXt7EiRMDAwP/+usvBoNRUlJSWFi4f/9+T0/Pn3/++ezZszNnzjQ0NAwKCmppafn1118BAM3NzYsXL/by8oqMjNTX1/fy8mpvb4+Kirp161ZhYWFiYqKOjg6MUoO1CwQCOp3u4OBw9epVd3f3+/fvh4eHQykMEonUT8QZepeqqqqioqK5c+fOnTu3vLz8faOMHxyptnmf8hV8w/7+/sOHD8enIYKCghAEgeIMBgYGTk5OIpGos7MTjphw7ty5Q6FQQkNDxWJxW1vbhQsXFBQUtm7deuTIkRUrVsjIyKxatUogEMAwsJycHAzDiouLBwwY4OnpCdeCr1ixQklJCcOw1tbWWbNmFRYWisXiDRs2qKurFxcX8/n8efPmycjINDc3w8QypaWlAIBTp04tXrz44sWLQqEQtuT8+fNEIvHy5csikSgrK6u+vr5PHxcm1TbvM6Ta5j84T548UVdXx30c1tbWFAolOzsbAEAikYyNjWVkZFRUVLqkVZKRkUEQxNjYmEAgqKurv3jxQl5efuzYsebm5nPnzr17966Pjw+CINA7A6czyGSyoqIiLkUuLy/PZDJFIpGmpmZkZGRbW5ufn9+jR48wDINCTTIyMmQyWVtbW15eHvc+bt68OSMjY9KkSXiUprOzs4mJydq1az09PdXV1WGYlZQfD2lU7ncPj8fDU6wAABQVFaFz95MuwufzCQTC6NGj8dAyHo/XQx8tg8FYvXq1trb2li1blJSULl269IHCK1eu/Ouvv3bs2PHXX39Bm2Vubh4bG7t///7IyMi8vLyoqCg8i66UHwlpv+a7x8HBoaSkpL6+Hm4yGAyxWIxLxmA9CEVFEMTIyKijo+Pp06ewuysQCH7//fcuC3neR2hoaHJysre3t6mpKawOk4go69IAFxeXo0eP3rlzZ//+/bD7c/36dQ0NjatXr0ZGRkK1rR7fupTvCamt+e7ZvXv3sGHD1q1bR6PRRCJRdHT03LlzZ86cKRAIOjo6oLpKd+DwBz+6YsUKIpG4c+fOTZs2BQcHz5o1a+DAgerq6lQqFQAAc12KxWI+n4/3oaATF+b57ejouHbt2oULFxISEvh8/p07d1paWqAaeVtbGywPQ8AZDMayZcsWLVp0+PBhqHlEpVJ///13kUi0cOFCc3NzPOREyg/Gx8dQMjIyBAJBulbg85CXl+dwOH369AwMDK5du7Zo0SIzMzOY4vK3336rrq5etGhRZ2fnixcvpk6devz4cUmhtocPH/r5+YlEouDgYDab7e/vb2pqGhsbu3jx4j/++ENNTe3YsWMLFy4MDg6GMZyLFy8OCQnZs2dPc3Pz7du3AwMDaTRaZGQkAGDu3LnHjx//+++/jx8/PnPmTH9//1WrVj18+PDJkycZGRkAACcnp5iYmLdv365cuRIAsHHjxtevX8P5Jn9//xMnTsydO/fq1atxcXEsFsvc3NzNza2vXzYYSid9pXsdHo/3gaVVH48bBgDs27cP/3WSIkWKlPexadOm9yUy65Gt6cmYX4oUKVI+MJ/Qo3mo7yhmXIoUKf2THtmaXbt2QR+hFClSpHyAgIAAKLbZnY/bmsLCQj6fv2LFit5u1X+CDRs2HD58uLfW0UrpFa5evTp+/Hgo4yKlF6mvrz927Nj71HA+bmtgXnppPvbPo7q6etSoUf8pTYmOjg4lJaX+LN569epVU1NT6Svd6xQWFl64cOF9R6XxNf8hMAzj8/lwIdLnnS4UCvFMQ++Ey+XC2EJ8j0gk+vAp3wvw6b0zTzbU7njnPQoEgi/RMxCJRHAhW/dDQqEQKvj1/JSegKIoj8fri3Tg/ffHR0rv0tLScvjwYQ6Hw2azLSws1q9f/0mK1iwW6/Tp06WlpQiCKCsrb926tYt0C+Thw4cKCgpwxC4UCi9cuPD8+XMmk2lmZrZly5b3yan0fyorK48cOVJfXw/TCnl7e+OH0tPTL126RCAQZGRkAgIC8PTk5eXlYWFhPB6Pz+f7+Pg4Ojp+0hwLn8+/fPlyXFycUCg0NTX19/fHB300Gu3kyZMwldisWbOgJCY8dOHChbS0NCKROHLkSD8/v0+V605NTb127RqJRKLT6bNmzVq4cGFvCn5L13n3Kf1EAxR+2//66y8Mw4qKiuTl5RcsWCApKPlhBALB6tWrfXx8BAIBn893cXFRVlaura3tXmzu3LmXL1/GMEwsFh86dGjFihXNzc00Gm3ixInGxsbdT/kmfOo675qaGqjLw+PxHjx4oKKiEhISAlUyYmNjNTQ0oMrt1atXbW1teTwehmFMJtPKyio4OBjDsMzMTBMTE7hWvoeIxeLg4OANGzYwGIzy8nILCwtra2v4InE4HEdHxxUrVmD/W3kP808JBIK1a9fa29s3Nzd3dHQ4ODjAcM2eV5qZmUkikWACyL///ltOTg6qDvX8Cl8pF52Ud9JPbE16ejoAYM+ePRiGicXiIUOGDB48GM+xyefzuyhOYBgmEAhYLBb8u7m52dbWduTIkQwGA0XRnTt3AgAkZaQhZWVljo6OUG2axWJZW1vDBIQYhr148UJVVXXNmjX9Ibngp9qaiIgIR0dH+IhEItGGDRsAAK9evcIwbMKECe7u7rBYc3OztbX18ePHMQzz9vYeNWoUbs2XLVu2cuVK/IIsFgvqcnSho6MD/lFTU6Oqqvrw4UO4+fr1ayKReO7cOQzDjh07pqOjk5eXBw/t3r17woQJGIY9e/ZMUVExIiIC7o+MjNTR0ZFU7OZwON0fPp1Ox//+448/wP9S5RUVFenr648ZM4bLfbdZeCdfSVNCLBYzGIzMzMz8/Hz4iOF+Pp9fX1//9OnTxsZGPp8PAMAwjMvl1tTUVFVV0en0hISE6upqDMPYbHZTU1NTUxNcfcPlcpubm1tbW7Hvf6j/zbGxsTlx4sTixYsBAEKhkE6nq6mp4eHkISEhoaGhkoN/sVi8b9++3377DW5qamoGBQUdPnwYKkkzmUwEQbqLP+Tk5NjZ2UEBCrFYXF9fv2/fPnjIwMBAWVm5sLDwe5TCqq6uzszMhFK2k2sAACAASURBVDIdBAIBjmUKCgqEQmFqaiq+zFVJSUlPT+/kyZM8Hu/atWtGRka4g/ynn366fv06vHcMw3777bfVq1fDrwNEJBLt27dv0aJF0FHS0NDAZrP/+ecfeNTS0lJdXT0mJgZF0bi4OBUVFTzt3MSJE5OSklgs1uvXr1kslpmZGdxva2vb3NyclZUFN1EUnTx5cpdvU2Fh4ZgxY3BRZHd3999//x1qg3I4HKFQqKGh0YuZIHvN1ly8eNHLyysjI+PXX3+1s7P7999/AQBv375duHDh4cOHy8rKli5dumTJksrKys7OzsDAwGHDhq1fv37lypX+/v62trZpaWmFhYWjRo0yNTWFK30bGhrc3d1/++03qVTol0MikTZu3Ghubi4Sia5fv46iqJ+fHz47tm7duqSkpODgYJgnhM1m79mz599//922bRssQCAQ3N3dXVxcxGJxTk7OixcvNmzYgGduxImKipo2bRr8W0FBAYoEws3m5mYWi6WnpweTE31f+Pj4REdHw8StKIpWV1cDAAwNDcVisaysLO4rQRAEQRAul9vY2KikpCTpnSEQCCiKwvxNCIJs2bKFzWZv3boVf7ePHDmSmpp64sQJKBhkY2MTFRW1adMmeLS2tratrW348OEYhsnJyUleWUZGBsOw7OxsuG5RskYAQEVFBb7p6ek5bdq07OxsaG4yMjLWrVsXGBgIc/jCOwoMDFRTU2MymZcvX9bW1t63b19vxvH2yhgqMzNzyJAhJSUlGIa9ePECAHDt2jUej7ds2bIRI0ZAF31WVpaamtqUKVOYTObLly9VVFTmz5/f0dHR3Nysqam5cOFCFEXPnTuHIAjUW8IwbPz48UVFRT3vwvVD+skYCsMwFEXDwsI0NDTIZPLt27clR/IoitJotNGjR+/atUskEgUFBQ0dOpRKpXbpcr99+9bExEROTs7HxwdX1cMpKSkZOXJkc3PzO2sPCgqSkZHJyMjo9fv6DL5El4/JZA4ePNjZ2Rk+AWdnZ09PT3iotbV19OjRGhoaxcXFXl5eY8eO5XA48NDq1asBAM+ePcOvw2Kx5s+fv3r1arFYfODAAXt7+7q6uvdVOn/+fG1tbTjmPXbsmIGBAfSqYBgWEhICAIiMjIRjKOiSwzAsOjoaWkn8IiKR6ObNm5aWls3Nzf/++++gQYMiIyO7O3R8fX1VVVUHDRqUl5f3qQPer+GvmTlz5owZM/DhfX5+PpPJbG5uNjY2DggIgDtFIpGjo6O2tnZFRUVBQYGmpuaRI0cwDONwODY2NmPHjsUwTCAQWFhYODg4iMXix48fQ2GET7rb/kb/sTUQsVicmpqqpaW1fPnyzs5OyUNQynPOnDkzZ858X5tRFK2pqZk+fbqlpeXr168l92/evDkgIKD724mi6K1bt0xMTKAjoD/w2baGSqVOmzZt6tSpDAYD7nn48KGZmVlcXFxlZWVYWJimpqa2tnZtbW19fT0UVK6trY2KirKwsAAA4E4WSFNT08yZM21tbZ2cnODv9DsJDw/X0tKKioqCLh4qlerm5rZr1676+vonT57Y2dkBABITE5lM5qZNm2bPnl1aWpqXlwdTL2zfvr3L1S5fvmxjYzNu3DjoUX4nHA7nwoULWlpahw8fhh2FHtLn/hqRSJSWlgY7kHDPTz/9pKioCLVOcEltGRkZ6C2THKbih+AfJBJp2bJlaWlpWVlZFy9e9Pf376JcKeULIRAI48aNW7Vq1c2bNwsKCiQPqaioGBkZ3b9/38TERFVV9Z2nIwhiaGi4Zs2aoqKi8+fP40OA1tbWxMRELy+v7l3ulJSUjRs3/vHHH988LdQXIhAIgoKCOBzO9evX8Qxo06dPj4qKSk9P3717N0wgJysrq62tra+vf/36dRqNBo3CsmXLEASBFgdHW1t78ODBOTk5Wlpa74vrLyoqCg8Pf/z48YIFC+CwSENDIyIiwtjYeOfOnbBeAMDo0aMVFRXhxF9oaOjFixdXrVoFABg0aFCXC1paWpaVldXX18N8L+9ETk7O09NTR0fnzJkz79M/+gx6wdYQiURVVdXKyko8ERePx6usrCSRSKqqqrm5ubjTEcMwNTW1DwfsT5kyZcCAAdBNA3N3SflCMAw7ceKEqanp69evAQAIggwePFgkEr169Qovw+FwwsLCSktLKyoqiouLjx49irsMAQAFBQVWVlYw7wWCIFpaWgCAmpoaPOKrsLDQ2Ni4e9R/aWnp8ePHo6KiZsyYgSDIsWPHBAJBX99vXyAQCM6fP08gEP755x9tbe0XL16kpqYCAJhMpr6+/p49e27cuOHm5tbW1jZp0iQymSwSichk8saNG69du7Zly5by8nJ7e3uY/QoiEolCQ0MTEhLi4+OZTGZAQIBkogsAAIqi6enpHh4e4eHhtra2ra2tFy9eBACIxWI2m+3p6Xnt2rW9e/fm5+cPGTJEUVERRdHm5uYpU6acO3cuPDwcZgTDg30AABiGFRYWBgQEnDlzJjAw0MfH5+3bt9j/XMVCodDPz8/BwQF+7hQKZcCAATQarYfajD2hd3zDy5cvLy4u3rx5M4vF4nK5J0+eLCgoUFFRsbe3LywshH5iHo+XlJQ0atQoLS0t2KfCT8ckkpP99NNPo0aNSkxMnDdvXm/GEf23KSkpaWpqwk3Dq1evZGRkYEJYAACfz9+2bdujR48uX75sbGx85cqVmJiYffv24XaBTqeXlZXhCR6h3qihoSHeIY2JiVmyZEmXSouKiiZMmLB48WJNTc2ioqLo6OiUlJTvsaMqEon27t0bFxe3du3aioqKV69eBQcHw1/Q/fv3z5gxAxbLz89vaGg4cuQIAOD27dtTp06F5qOuri4mJgZ2QCAYhu3bty8+Pj4hIWHKlCl///03lUrdvHmz5DRIRUXFjh07jh49qqmpWVxcfO/ePZjEMikpafLkyVCHjEqlnjhxAiaxKysrmzlz5okTJwAAXC43IiLCzs5O0n+fkpLi6urq5eW1ZMmSNWvWeHt7L1q0CE+vLhaLy8vLORwO7Jmy2ezW1lY1NbVPCvj8CL3ir2Gz2c7OzjBvoZqa2rx586AvoLy8fNSoUXPmzHn58uWxY8fGjBnz77//8ni8c+fOEYnE+fPnNzU1vXjxQk9PT0FBobS0FI724+LiTE1NPzCC/Y7oJ/6atLQ0R0fHxMTE6urq58+fq6mpeXp64rEVkZGRLi4uku4bNpvt4uLy999/w83m5uYlS5bcvn27rKzs7du306ZNMzc3x932LBZr3LhxpaWlkjVyuVyYiFqSbdu2fZXb/Qif6q95+PAhPmjCgYEau3btcnR0rKioePHixdixYy9evAhPSUhIGDZs2Js3b/Ly8lxcXPz9/fEk9yiKhoeHDx8+XHLeo7Gx0dXVdefOnfArQKVSu4+q7t27h2FYbm6ukZHRvXv33r596+PjM336dOiPr62thXm7y8vLz5496+zsLPkNQlHUycmpS0jUhQsXpkyZAt3DYrH40qVLvr6+ubm5VVVVZ8+ehf21d8YBvY+vlM+7sbExJSWlqanJzMxs/PjxKioqcH9TU1NWVlZzc7OhoaGNjY22tjaPx3v+/Dmfz4c/raWlpVCN0dTUdNiwYQiCCIXCx48fz5gx43ucH+1C/8nn/fbt25cvX7a1tfH5fAsLi59//hmP0SgpKVFWVu4SL1NfX89ms83NzeFmY2NjYmJiU1MTh8PR0dFxdXXFRUUjIiKePHkSGRkpGYshFArj4+PxrhBk2LBh73NMfE0+NZ/3mzdvysrKuuycMWMGiURqbGyMiYmh0WhycnI2NjZ2dnaw4yYSie7cuVNTU0MgEIYOHTpp0iR8AIVh2Js3bxQVFbus2Ghtba2trbWxsUEQpL29PSUlpUuNzs7OampqYrE4Li7u7du3QqFwyJAhrq6uMKAJZjpNT0/ncrm6urpTp06VXEQCjdSoUaPwrigAgM/nFxQU2NjYwDggPp+fnZ2dl5fX2dlJJBLHjBkzfvz4T4qv+XA+b2nccN/ST/o1fQePxxsxYsStW7e+dUM+AWkuuj5CmotOSh/y+vVroVCIh/BJkfI+pLZGyheRmZnp4eEBu/FSpHwAqaaElC/Czs5OMhuMFCnvQ2prpHwRHwgJkyJFko/PQ9XX1+/fv78/zKR8j6Snp9va2n6PQSU/MGVlZVpaWvhUqZTegs1mm5iY+Pv7v/Pox/s19fX1SkpKQUFBvd2w/wRGRkbXr19XV1f/1g2R8v/w9/efM2fO2LFjv3VDfjTevHkTHBz8+bZGLBYjCIIvPJfySaAoKisr+596elwul0Kh9OeYbwKBQKFQ/lMfytdBVlb2A2tQ+u8LIeV7BMOwpUuXlpaWfuuGSOl3SH3D/xXYbHZmZmZLSwuBQBg4cOBPP/30gTTv3REIBPn5+bW1tQKBQFdXF9ff60JycvLr168lQ5Db2tri4uImT57cXcev/yMQCGAcraur6zsLPH78WF1dHU//0tbWlp2d3dnZqaioOGbMGA0Njc/Qmqqvr09LS1u4cOE7jzY3N1+5cuWXX37Bw4Xz8vKqqqoAABYWFjDy/pOqq6qqKiwsZDAYSkpKI0aMMDY2hlcQiUQ5OTnFxcVisdjMzMze3v4L4/il/Zr/BEKhcO3atQUFBWZmZiKRaN68eb///nvPl1yjKHry5MnLly/r6+sPGjRoz549s2fP7uzs7F4sMjLSw8MDul1TU1N9fX1nzZq1evVqKEn3HUGlUvfs2bNgwYI5c+a8L+dRW1ubn58fXFoMAGhubl6+fHlsbOzgwYPLy8t9fHy6y6d8mJiYmOXLl7u7u69fv/6dBXg8XmBgYFRUFL4Kf+/evYGBgYaGhhQKxdPT88GDB59UY0FBgaenJ4FAsLS0TExMdHFxSU5OBgCIxeLdu3dHRETo6+ujKOrl5RUQEPCpt9MV6RqFPqWfrFHIyckBAPz+++8YhgmFQj09PXNzc1wITiwWd19iJxaLcfG91tZWOzs7Ozs7NpuNouivv/4KAIiOju5ySn19vb29PRS1xTCsqqoqIyMDKvInJib24e19Ij1Zo8BisVJSUoqKiqytrefMmdO9AIfDWbRoEZlMPnv2LNwTEBAwbNgwvIC9vf2ff/6Jb8JEUd2vI6lwWFJS8vr16xs3bigrK7+zVbGxsdra2iNGjGhpacEw7OnTp0Qi8caNG/Do3r17J06ciK+hFYvF78yjICl/tXHjRmVlZSgMmpSUBADw9vYWiUSZmZlWVlZwVSeKonv27JGTk4OLPz/A11ujgGFYTU1NU1NTl/0cDqeoqKiLqDWLxWpvbxeLxaWlpTC1Jkxaxufz4Wp9sVgM9f17sYX/WQwMDJYvX46rcJNIJBKJhLtvb9y48fDhwy6n/P3333iyVEVFRTc3tzlz5sDJe7hUr/uqvMLCQktLS01NTbhpbGz85R3vb4WCgoKDg4OOjs77CkRFRTk6OhoYGMBNsVgcERFhbW2NF7CwsNiyZQt8mTEMO3DgALTOkhe5dOnSuXPncCkJMzMzKyur99XY3t5+8+ZNXCYCw7BHjx6RSCR8fezUqVMzMjIqKyvhZnV19a5du7rIdZeWli5evBj/Wk2ePBkKjIL/SdaRyWQEQRoaGsrLy8+fPw8AQBBkwoQJXC63sLDwI0/tg/SarcnJyXFycvL09LS2tnZ1dW1ubgYAsNns/fv3jx8//pdffjEzMzt27BiXy2UwGDt37jQ2Nj58+PDUqVNHjRr1008/tba2RkZGqqqqKioq7tixAwCQmppqbGxsZ2f3zuR+Uj4JbW3ta9euubi4YBiWlZXV3t7u6uoKJa8AAHZ2doGBgfHx8biVT0pKOnjwIC4KIScnFxQUFBgYSCQSOzo6MjIyrKysuiuZRUdHu7m5fc37+lYwGIz09HRPT0/cOQJfbEn7q6Cg0NLSAoXQEQSZNm3ab7/9Fh8fD80NiqI3b97cvn27vb19T+bsBAKBn5/fkiVLcPOHYRidTkcQBK9UQ0ND0iJoaGiUlZV5eXnhKlw0Gm3dunVOTk74D8CsWbMiIiIMDQ2FQuGzZ8+UlJSgAKCNjY2vr+/cuXNhsfb2diChn/l59I6tqaqq8vPz2759e3Jy8pEjR+Lj41+8eCEUCg8dOnTp0qUHDx4kJCQcOXJk7969u3fvRlHU1NSUy+UmJydv3br1xo0bbW1tBw8e9PT09PLykpGRmTVrFgDA2dnZ2tr67Nmz/Tkz9HcEhmHPnj3bvHmzl5fXunXrdu7ciT9YCwuLs2fPBgQEREdHoygaHR3t7e19+vRpPAEIpLm5eefOnYsWLZKTk4uPj+8yZ9zS0lJQUDBixIivd0vfCC6XC5OCSIraKCoqjh8/Hn4nIfDnFte1GzNmTHh4+L59++7cuYNh2M2bNy9evJiQkDB69OieVPrkyZMRI0ZIrnGFFgFFUdxxBoWvoKQWAEBZWfnMmTM8Hm/79u0oir5582batGkTJkzo4gzi8/lnz5718vL666+//v77b0dHRwCAkZHR8ePHhw0bBgvExsaqqal9qU5mr/hr1q5dKyn4fO/ePSqV2traam5uvnHjRrhTIBBYWVkZGBhUV1d30TYfNWoU1DbncrlqamoeHh4oiubn51tbW39SKqx+SD/x1+CIxeLLly9TKJSDBw92yYVQWVlpbm4eEhJiZmZWVVX1vtNzc3PNzc1dXFwk02aiKHr06NGlS5d2d0ncu3fve/TXQGg0Whd/DYqily5dCg0NhZumpqa4v+b+/fuGhobt7e0CgaChoUFZWRkAkJubK3nBjIwMLS2tJUuWqKurvy8TZnd/DZfL9fT0hI6Y9evX4/6auro6PT09+FHS6XSocw6T4eGw2ewFCxa4u7vDHGHvu9PW1tbly5erqqrm5ORIfogoisbHx6uqquJeoQ/Q5/4amB9LVlYW/510d3fX0NDg8/lNTU2SuuVjx45lMBjds5HhIfyysrJLly69e/duVVXV+fPnfX19P2leVspHIRAIK1eunDNnzrFjx7oMvw0NDd3d3YOCgubOnWtoaPi+00eNGrVly5anT5/CdxruZzKZ9+/ff6e2+Q9GY2Njfn4+nrlJkmnTpu3bt+/AgQNHjhw5dOiQk5MTAMDExESyjJ2d3apVq/766y8/Pz9J584H4HK53t7e8+fPh8ZLEgMDg+Tk5Pb29uPHj//+++9QDBR2RnBgjp379+9TKJS1a9e+rxZNTc2QkBA6nR4UFAS16wAAGIalpKRs3rz52LFjy5Yt60lrP0Av2BqopEelUiXVsOF+IpEoOdmppqYmLy//YWehm5sbiUQ6fPhwcXExfHZSvpw7d+44Ojo2NDQAABAEmTp1akdHB5x3wElJSbl7925ycvK9e/e6iMJVVVXNmDEjPz8fng79l5mZmbgrrbi4mEAgwO73j010dPTVq1f19fV1dXV1dXWrqqq2b99uaWlZVFREJpOXL18eEhKyadOmY8eOkclkExMTyVVXGIZduXLlypUrp0+fPnnyZA/np9+8eXPnzh0vLy89PT1dXd3Lly8XFRUNHz4c2jsTE5NDhw6tX79+9+7dBgYGMPem5Ok0Gm3Hjh2HDx/W0dHx9fWVdBWz2exffvklICAAburp6Wlra+fl5cGUhACA6urqDRs2nD59euXKlUwmMzMz80seXe/YGldX17y8vOvXr/P5fKjgef36dUVFxWHDhqWkpED3mEgkysvLGzJkCC49iQO7WPBvOzs7CwuLK1euuLi4fKdTGP0NFEVjY2Ozs7PxLIhVVVUIguAalDAZ5oYNGy5cuDB+/Pjz58+vW7cuKioKNyXl5eVPnz5NTEyEm21tbQCAAQMG4E7NhISEuXPn9ud1Cb2Fv79/W1tb1f+QlZU9cOBAfn6+hYXF48ePf/nlF1lZWQUFBRaLlZ+ff/bsWbyjh2FYRETEtWvXHj165Ofn9+TJkxMnTsTGxmIfSyFtY2PT3t4Oc1JXVVVNmjTJwsIiJyfn6NGjVVVVCxcuTE5OVlBQQBDkwoULU6dOxSU+MAwrKiqaPXv2/Pnzt23bdvr0aQ6H4+Pjg7uKqVTqP//88/z5c2hceDwejUYbMGAAHGeUlZVt3Lhx3759lpaWbW1tL168+EJb0zv+moaGBm1tbTKZbGFhYWFhYWNjU19fj6JocnIyhULZvHmzUCiMi4tTU1OLjY1FUfTly5eysrKbN2/GMIzFYg0ZMkRDQwOGeKAoCvNgdUnc9Z3SH/w1MBucqakpjHxpa2vT19cfPXo0nqMyPj5+6NChRUVF+EdQUVExYsSIhIQEWKCiosLOzq64uBjDMJFI5OXlBQBITEzEB/YTJkwoKCjoUq9YLIapYIhEYnh4OIfD+SSh7L6jJ/4aFEUFAsGrV69MTU3Hjh3b3Nzcxb0lFApfv36NIIiXlxeHw0FR9NChQyNHjsQwjM1mu7u7L1++XDKSJSIiYujQofhbjaJoamqqsrKyZNCKWCxmMBhbt24lkUgwC0CXJlGp1NGjRw8cODAvL08sFmdkZBCJRKhYHhUVpaWlJeltaWxstLe3DwsLw5vBYrFWr169du1auMnhcBYuXLh3716xWIyiKOxn7dixQygU1tXVWVtbk0gkHR0d2IOD+fA+/NC+krZ5enp6WFhYe3v74MGD4ZQ23J+dnX3y5EkURRUVFX19fUeNGkWj0X799dfOzk4KheLr6xsdHQ379m5ubitXriQQCFwu97ffftuzZ88PoPbWf7TNo6Ki4uPjBw8eXFJSwufzd+/ebWlpCQ/dunVr4MCB9vb2kuVTUlJaWlrwBHLp6emnTp0yMTHh8XilpaUbN27EZyWePXt2+PDhu3fvdkk28OLFCziNiCAI/HJu3ry5P6yu7om2eWdnJ8zZBDtrYrFYV1c3LCwML3D+/PnExEQikYhhmLy8PEw5cODAAUNDw7q6OiKRePjwYdzDgmFYaGiog4MDTAqOk5aWVldXh+eZi42NvX79OvR7YhiGIMiff/6JFy4qKtq9ezeMf4G6q8uWLdu9ezeLxVJRUampqQkMDJQMz6mtrY2NjV23bp1kja2traGhofv374eDhra2tqNHj3K53AEDBuTm5o4dO9bf319BQSEtLS0sLEwy3EROTm7Hjh0fnmf8sLZ5r9kaAIBIJBIKhd3X+KIoyuPxZGVle97HFggEP8YAqv/YGgzDuFwuk8kkEokqKiqfEUkgEAgYDAaKosrKyrjPHkXRKVOmuLu7b9iw4XtxDH9qHoUegmEYn8+HUTbKyspf52mgKEqn04VCoaqqKolE+oxKURRlMBg8Hk9eXr67+/mT+LCt6c3QFSKR+M43mEAgfOr6/R/D0PQroDDIlwgpkMnk7kazvLy8vLx8wYIF34uh6TsQBJGVlf3KM6cEAuEL08URCIT3pVTuXX58Z56UPiUrK2vatGkfiOWXIgUitTVSvgiRSASXYkqR8mE+PoYik8kyMjKNjY1foTU/Hurq6q2trT/wCtKpU6cCAL6v14NAINDp9O+rzd8FNBrtAwO6j/uGuVzupEmT8GUdUj4JGo2mqqr6Xwg8+Y5gs9kUCkW6zq7XEYlEJ0+enDFjxjuPfvxx5+XlOTg49GQeSkp31NXV09LS+sM8lBScPpqHkgLnod5na6S/t1J6mR97zCjls/lv2Ro2m52Tk9Nl3RYAgMlk4kqOHwXDsJaWllevXvV26/ocDMM6Ozvh+uzPO53NZsPVxu8r097e7uDgUFtbK7mTxWJ9vyJEKIriaxG709HRgUs6cDgcKpX65TXC5/yBAuXl5WKxGJZ89epVFzWsz0AoFLa1tXX/jDAMYzAYTCbz816YLvyHbM2JEycsLCxcXV0llQMFAoG/v/+gQYM8PT17chEmkzl9+nRzc/OdO3f2WUv7hJqamgkTJri5uY0ePdrDw6OlpeWTTu/s7ITjDhcXF2dn5/Ly8ncWi46O1tPTk1zc/PLlyxEjRmRkZHxR678RHR0da9eufZ/6LwBg586dt2/fhn8nJSWNGjXK3d196dKly//H2bNnP9UWPHz4EBff687Tp0+XLl1Ko9EAAO3t7ePGjXN0dFyyZMlyCXg8Xs+ru3LlirW19eLFi4cOHXr58mW8tWw228PDw8rKytDQcPbs2bDGL+E/5B5buXJlenp6TEyM5E4SiRQcHPzvv/9CZaOPoqCgEBYWNnv2bKFQ2DfN7BNaWlrGjx9/4MCBlStX1tTUDB8+vLOzMyoqqoe5H7lcro+PD5FIzMzMRBBk8eLFI0eOzMzM7CJfwOFwHj58uGXLFugLf/78+a1btyoqKurq6r6vxwUAaG1tPXHiRH19fVxc3Ps8Ow8fPoyIiBg5ciTcfPXqlYyMTGVlJQxrZDKZDQ0Ns2bN6nmU47179548eQLXWL6zQH19fWBgIFzxBAAoKysjEAgMBqOoqAgWqKmpmTdvXnd51vdx/fr1HTt2vHz50sTE5OrVq6tXr2az2Rs2bGhvb4d6YFeuXGlubl6xYsWkSZPu3bs3aNCgHl65O/8hW6OiotI95AxBkAEDBhgZGfXQ1hAIBB0dnS+M1Pz6VFRUQAVZAICRkdHAgQNLSko6OzuhreHxeJJSkhA+n8/j8WABOp1eXl7O5/O5XK6ysvLw4cPv3r2bn5/fxdZUV1fzeDw8vcnYsWNtbW2fPXuWmpr6le6z9xgwYEBgYCCXy4Vid90pKys7ffo0Lq4MAGhsbLx06RL+TE6cOKGmpjZnzhxoa9rb29XU1LrPSHZ0dOCvk6urq4uLy927d7Oyst5Z6Z9//inZSyovL9+0aZOvry9exZYtW/bv3w83hUKhQCBQUFDocpHGxkZcdyItLY3FYjU0NJiamkKjmZubCyUZcnJyAgMDZWVlBw4c6Ovru2zZssTExDVr1vTk6b2TXrM1bDY7Ozu7vLwcw7ARI0bARaIAgMrKylevXtXV1enr69va2g4cOFAkAs+5dQAAIABJREFUEpWVlb1+/drAwEAgEGRlZQ0ePNjNza2yshKuFTYxMbG1tW1sbMzIyCCTydOnT8c/ITqd/vbt27y8vOnTpyclJVGpVHw9m0gkSklJqaurYzAYVlZWDg4OsAFCoTA9Pb2srIxMJkuGVDCZzKysrKqqKkVFRcn+oVAofPnyZX5+PoVCcXBwGD58OPzkWltbMzIyWlpaZGVl2Wz295UN2s7O7u7du1BusrOzs6mpaeTIkfjiFyiJcuDAATxWnclkbt682cLCYuvWrQAALS2tU6dOkclkFRUVsVhcV1dHJpPxpZs4SUlJEydOlFQ+k5WV/U7XLsjIyCgrK0O3SHcwDLt69WpISMjixYvxnWPGjLG3t4dPtbS0lE6n79u3D19IGRIS0tnZefToUTzhcktLy5o1axwcHLZt2wbfcDk5ufe1B8Ow+Pj4hoYGW1tbmBUDAGBgYDB+/HhoODo6OoKCgrZt24bbkerqah8fn7CwsJEjR+KfwtWrV8+cOfPy5Uu4DCgoKMjV1XX06NEYhkEvm6WlJVwuq6Kikp2dPXHiRARBdHV1xWLx+3pbPaW3crZs2bJl3bp16enpHh4e2traSUlJGIYlJSVZWlqePn06MzNz8eLFlpaWOTk5bW1tPj4+FApl6NChS5YsmTBhgry8fHR0dE1NjYmJiZKS0j///INhWHt7+4wZM44ePSopRHDy5EljY2MikThx4kQ3NzdVVVUtLS1Y/ty5c7a2trm5uX/88Yeamtr9+/fhWrigoCAHB4cXL17cv3/f2NhYQUEBGsRNmzbNmzcvIyPj0qVLCgoK5ubmsIqgoKB169Y9ffp0+vTp+vr6L168wDCsrq7O1dX1l19+yc7O3rt3L5lMnjJlykefCdY/NCUkgSu89fT0EhIScPEBOp2+fPny2bNnt7W1YRhGo9Fmz57t7e1Np9O7nC4UCh89emRiYnLu3Lnu+UAmT56cmpraZecPpgEKuX///p49ewQCgaQGKA6TybS0tExPT5cU0+zo6PDx8Vm1ahV8n3k83oIFC/z9/Ts6Orqc/s6cLTU1NVOnTm1ubpbUAJUkPDz84MGDkl8WoVAYFRVlZmaWlpaGlxk3btybN2+632ltba2Tk5Obmxt8XWHuE1zV948//iASiZcuXXrvk8Iw7GOaEr1jax4/fjx06FCYb6igoMDY2PjOnTtsNtvNzc3BwQHef3FxsZaWlr29fWdnZ25urpqa2urVq/l8PpPJNDAwcHNzwzDs3r17BALh2rVr8G7t7e0rKyu71AUX4FdUVGAY9uzZM1VVVQcHBz6fP2fOnLlz52IYVlpaKi8vv2XLFgzD0tPTNTU1oXi9UChcvXo1tDV5eXna2tq1tbXwmtOmTYO25vnz5xQKJSYmpqqq6sqVK0QiccWKFSKRKDQ0dPDgwfBGqFSqpaXld2drUBSNiIiwsbExMDA4ffp0S0uL5DcBvvpeXl5NTU1r166dMWMGi8XqcoXy8nJnZ+chQ4YsX768oqKii7RwZmamnZ0djUbrctYPZmtQFK2urrawsIAfa3dbIxaLT506BVXHu1ytvb197ty5Hh4eVVVVc+fOXbVq1Tsr7W5roDjOy5cvsf9fbxiHxWI5OTnV19d3v9pff/01ZsyY8vLyixcvDhw4MCMjo0sBNpvt4+NjZWVlY2OTmZnJ4XC6FGhtbXVwcLCxscEFj97H18gPdfjwYVxwb+TIkampqTNmzKDT6bm5uY6OjrB/OGTIEBsbm4qKCiqVKiMjQyQSLSws4AIIHR0dOFk4a9YsOzu7Q4cOicXi6OhoMzMzIyOjLnVB3TM402Frazt8+PCGhoaWlpYzZ86EhoampKQcPHiQz+fDie3k5GQOhzNx4kQAgIyMDC6IExISMmTIEHwQgcfaPX36FACQn58fFRVVW1u7fv16e3t7kUgUGRn5888/wxuRvM53BIIgq1evzs7OTkpKOnbsmIeHh+QELYVCuXz5MoIgLi4uCIJERUV1H+ebmpo+f/48MzOTSCSOGzfuxYsX+CEURc+ePevu7v51Vgx/Q0Qi0dmzZ+/du/e++EwGgxEZGXn8+PHug0d1dfULFy6oqqo6OTnp6OiEhob2sNJnz55Blaz3FQgNDdXS0uqueAkAmD9/vr+/v5OT082bN2NjY7uoFAEA5OXlz507l5ubGxAQ4ODgEBYWJunIF4vFAQEBZDL5zp07MI3UZ9MLtkYkEhUWFgqFQnxwq6+vT6FQhEIhjUbDM0gQCAQLCws81dz/14j/uWNkZGSWLl1aUlISFxf3559/bty48cMpaZSUlODLjSCIjIxMQEBAWFiYl5cXvq6/pKSEQCB0d8hlZWXJyMh0eRtQFG1oaCCTyRs2bAgMDNy9e/fJkyd9fHzIZHJxcfF3HdLOZrMbGxtFIhGCICYmJt7e3gkJCbm5uZJloMxQW1tbdyeFUChsamri8/kIgqipqc2fP7+lpUXST1lfX5+bm7ty5crv1DvTc/Ly8mg0mpycXE1NTU1NjUgkam9vr6urw8MXa2tr8/LyYEqDLmAYRiKRmpqaOBwOjUbDHVsfprW1dfXq1QsWLGhsbKypqWEymQKBoL6+HiqxAgC4XO7Ro0d1dXXfOf2EIAiLxeLxeJ2dnXJycphEpAyKom1tbTDPDIVCmTdvHgDg5s2bdDodFhAKhcHBwSUlJVeuXDE0NPykqfTu9IKtIRKJ+vr6RUVFeMgGg8FISUmhUChaWlppaWl4GmAOh6OhofHhTsGECRN0dHSCgoLU1dU/KjQvEAh4PN6AAQOUlZVnzZqFoujdu3fxVIQAACUlJSaT2X0qQU1Nrbq6uktQH4FA0NTU5PP5krqqT548aW9vV1JSysrKwnojounrA3vg1tbW2dnZcA+c+JB09dFotF9++YVIJBYUFCAIsm7dOkl/eXZ29ujRoyMiIuAm7PLQaDTcKr169WrkyJG6urpf546+IQQCYfDgwdH/o7GxMS8v7+HDh/j388GDB3Jycu/82lOp1DVr1qipqSUlJcnIyGzevLknoTcoim7atCklJQXWmJOTQ6fTHz16hHuICwsLWSyWurp6d0OPYdjly5ejoqISEhLWr1/v5uYGB2LwKNRdnDNnDgxWhB12Go2G92uuXbvW2dl57949IyOjlpaWO3fufNYz+7/0zhjKz8+vtrZ20aJFdXV1jY2Nu3btYrPZqqqqkyZNqqqqSk9PxzCMwWD8888/jo6OOjo66P+Ap+OpowEAVlZWY8eOLSwsXLx48ft+JIVCIcwbVVlZWVlZuWXLltbW1qysLARBuFxuVVWVSCRis9kcDsfZ2ZlEIgUGBtLpdAaDQaVSoWjrihUramtrT58+zeVyWSxWdXU1jUZjs9mOjo5CoTAgIKC+vp5Go4WHh0dHRyspKU2dOjUrK+vGjRvw94FGozU1NUE52F55gH0K/GVjs9mwj42iaEZGBoVCwX97mUzmypUrOzo6Tp06pampeebMGTab7e/vLxkvS6PRBg8eDADAMAzOnZuZmeF9vfv37y9durRLvbivAcMw3Gf5Fe63V5BsPHxXYeP/D3vnGdZE0/XxTUIIEHoHRXpHiggKiNIUFRSwiwW5QbGAWLBhuS1g7wU7igWwomBFkSKIdAREivTeEwghdff9MNezV96AChoVvfP7wMXO7s7WzM6cOed/LCwsNm/eHBQUtHHjxnXr1gkKCoLsbuiQKiUlZcCxDI1G++effxQVFa9evWpoaBgeHk6n0+fPn8/ZWQAHBUZ38BeCIEVFxY0bN4IjbtiwQVNTU1ZW1s/Pz9nZGewFJOv7HxRId+/Zs+fkyZOmpqa+vr779+9fvnw5yDUA/S9zprKyMujvtLa2dnV1aWlpiYiIwDB869atI0eOzJgxo6ysLDEx8fjx4/0d7ocGT2zDNBrNx8eHQCAICgoqKCjs3LkTOMI3NTUtXrzY1tb25MmTq1at8vHxqamp6e7uDggIwOFwNjY2+fn5x44dk5KSIhAIz58/B29kVlbW6NGjq6urBzwWcPBdtGhRSEiIh4fHtm3bWCwWg8GYPHmygIDA+PHjV65cKS8vLycnd+DAgY6ODj8/PyKRaGlp6ejoqKurq6ioGBwcTCKR5s2bB+wODg4OBgYGo0aNOnLkSGdnZ1BQkJiYGBaLVVBQmD17NjiN/Px8KysrYWFhR0fHSZMmKSsrm5iY3L9//5ti3cPENlxaWjp79uwTJ04kJyeHhYVJS0v/+++/qBXw0qVLq1at4swtR6PR/Pz8rl69ChZJJFJQUNCOHTueP38eGxtraWnp5uaGWiJbW1utrKz6P6+8vLx///3X1dWVSCS6u7v/+++/A86A/HoGYxvu6ek5cuTI2rVrlZSUNDU1t23bFhYWxrlBbGysv7+/kJAQsDAC3XgEQcaPHz969Giu2mAY3rhx46pVqzht5y0tLfPnzz99+jRqRX7//v2uXbsmTZokIiKydu3akJAQzkqqq6u3bNmipqYmLy+/atWqFy9egPLr169DEIQ+LJTy8vKpU6fm5eVxFt6+fXvy5MkMBgNBEBaLde3aNW9v78jIyMTERB8fH11d3ZcvX4LsA1yNl4iISFxc3Ndv2i/SNmcwGE1NTXV1dXp6elJSUqidBVhtSktL9fX1gSQqDMNohIWIiAiNRgMdHAKBANwxEAT59OmTnp7egFIMS5cujYmJKS0tra6uNjAwEBUVBV9X4HY1atQoSUnJnp6e2tpafX19ISEhBoPR3NxcX19vYGDQ2dkpKysrLCwsICDAYDBAd0ZfX7+jo0NGRoZIJAoICMAw3NraWlBQoK+vr6ioCNwQEATp6+srLy8XEBAYOXJkV1eXnJwcUFD+uoVi+OgNU6nU7Ozs9PR0CQkJZ2dnFRUVtFdCo9FwOByX+YDBYMAwjFq+GAzG58+fk5KSKBSKvb29sbExOkw4ePDgx48fIyIiuJ4Xg8GgUqmcSUu+mR3s1zCYOG/0LQXnjyAIDofjFG+nUqkMBgO8rhgMRlRUFLzziYmJHR0dqCY8AEEQKpWKx+O5Lh/cZAKBAI4CvCU53yhONy4WiwV6muCgBAIB+OPU19eHhYX5+/tzZYZis9l0Op1L9RWG4d7eXlFRUXAUGIa7urpevXpVWlpqbGw8ZcoUERERDAYDnh3XPSESiV+3MX1db5hn/jW/jCVLloiKiv7usxgsw6Rf8/Mgk8k6OjrAxelPYfBz3nyGxK+Y8/6VtLe3U6nUHzSJ8+EVBQUFRCLRzs7ud58In+HOn9TWIAhy9uxZNps9ceLErVu38jUchwN5eXkrVqz4ox0C+Pwa/qRXBIPB+Pr6otFfgw9m5fPzmDdv3g8mFeLzH+HbbY2YmBiZTP5D9Ud+O1gsNicn588K1Pzr6ejoKC4u5vfFeE5FRYWKisqX1n77dhOJRARB/kQZuuGAgoLCp0+fvhK/y+fXA8MwiN373Sfyt9Ha2vpDbU1zc7OkpKSfnx9Pz+q/wrZt2xYvXjwc5rx/GUwmE4gS/O4T+SI5OTnOzs58bXOeA+a8v7T2T7IN8xn+IAgSHBxcU1Pzu0+Ez7BjeLU1MAyTSKT4+PgrV6787nP522Cz2WQy+cOHD58/f6ZQKEMVwQUS3+Xl5R8+fCCTyV8SkSooKIiKigIhbwiCUKnUqqqqvLw8Eon0pV2GMzAMA03CL21QUFDw6dMn8H9jYyOQuevlgE6nD3WwRqfTy8vLv7SWyWRGRUUBnw82m33s2DESicR10CEdEUEQBoNBIpGKi4sHfLIwDL948eLHZduHV1tDpVKPHDkya9asZ8+e/e5z+atgsVg7d+7cv3//x48fo6Kixo4de/ny5cHnNoBhODIycu3atW/fvgWiiGvWrOmfXQCG4YiIiLlz58rKyiIIkpSUtGzZsujo6BcvXtjZ2W3cuLGvr2/A+ochJBLp+vXrW7duHT9+/JYtWwbcBmiMJScng8VXr17Z29sbGBgYGxub/o+TJ08O/qDp6ekHDhxYuHChra3tgBswGIzg4OCDBw92d3dDEFRVVRUUFKStrc15xOnTpw8pa0Vtba2Pj09YWFhBQcGkSZOuX7/O1VQVFBQsX768pKRk8HUOyPAyxYuKiq5YsSIyMvJ3n8jfRmFh4cGDBw8dOuTp6clisc6cOXPq1ClXV9cRI0YMZvfOzs6zZ8/icLhz584JCQl9+PDh1KlTzs7OHh4enJu1tbW9ffv28ePHEATR6fTTp09HRESAGXEtLa3FixdLS0vv2rXrZ1wgz8FisfLy8mZmZgkJCV/qJvj7+3POmRQXF0+fPt3AwADEalRWVr548cLHx2fwpisREZHJkyerqKgkJCQMuEFWVtbVq1dR++vnz5/V1NTmzp2L+n88ePBg+/btg1SrgCCIzWZPnTp1wYIFwcHBzc3NCxcufPXq1eLFizkdSlatWlVfXz/ICr8Cz9oaFovV19cnKira0dGBxWJRUVUAUNCQlpbmCpmh0WgdHR3y8vLo3flmhBGf70BMTMzGxgZoHWGxWCkpKTRwGYKgpKQkERERLsmVtLQ0EokEchji8XgTExN02AWGSP072yUlJRoaGiAqh8FgvHv3bteuXeDDbmRkJCcnl5yczGQyB/9L+I2Ii4tPnz79K6mlY2NjubLTAP1GUIIgSEBAwJMnT8C0AIIgUVFRmpqalpaWnK83iC9zcXEBhUBd/Es9CAqFcvPmTUtLSzTpUHNz85EjR0DsFYIg9+7dA1oF6NqEhISFCxdy/uiam5vDw8M3b94sICCAIMiZM2eAsgQEQQoKCteuXdPV1UWDtlgs1sGDBy0sLL4yihw8PBhDMRiMhw8f2tvbHzhwYPHixZqamnp6enfv3kXX+vr62tjYjBs3ztTUlFOf6ejRo2PHjnVxcdHT0+NKpcKHt2hqar569QrIPpSWltbX16NNDwRBYmJinp6enNn4ysrKvL290Q3ExcXPnDkTFhYmLCzMZDKzs7NlZWUnT57MdZQHDx6gPR0CgbBo0SInJyewyGKxYBju6+v78cRpwwEEQR4/frx582bOhiMkJERNTQ38f+bMGQ0NDU4RPBkZmQULFuTm5qIlr169cnZ25oqN/MoRAwMDJ06cyNm6eXp6uru7g//z8/NPnjy5b98+1MFCUFAwPDw8ODiY8577+vr29vaCMFEqlRoXFychIaGsrHz79u2CgoJly5ZZWVmhF1VcXNzZ2bl69WqefP550Nb09vY2NTW9f//+xo0bOjo6+/fvl5GR8fHx+fjxY09Pz9SpU+l0elZWVnZ2tpaW1pw5c/Lz8xkMxrZt265du/bkyZOcnBwvL68ZM2Zw5sHiw1tASpbi4uKrV6/6+fnNmDEjNDQU7V+YmZnt3bvX09MTCJ6/efPGxcUlJCQE1SrDYDCCgoK9vb23b99euXIliUR69+4dl4MiKDQzMwOLBALh+PHjrq6uYDEnJ6erq2vOnDl/gbc3g8Hw8/NzcXHh6rwLCwuDHkRhYeGePXs8PT3RDgUQVz148OC6deuAnFNiYuK+ffuePn3q4OAwmF9yYmKiqKgol6iToKAg6pF45cqVXbt2cSq3SktLX7lyJTMz88CBA8ClyNXVVUVFZceOHaASMpnc0dHBZDJ3796Nw+Fu3rxpZ2cHFL4hCKJSqefPn1+5cuWAcgvfA6/ivIGmBuiZv379Go/H+/v7P3z4EI/H37t3D5QDhc3FixeXl5drampu2bIFlANRRTMzMyqVWltbq66u3l+5/g9l+MR5wzDc3Nycm5u7fft2bW3tiIgITvEdNpudkJBgZmZ269YtExOTV69e9U+T0NfX9+HDB7BBQEAAkDdDuXLlipubGxBG4YJEImlra3t5efXXzf4t/KC2+cOHD9etWweutL+2OZ1O9/X13bhxY39tcyaTeffuXVVV1R07digrKz9+/HjAgw6obb58+fLGxkbkC9rmHz58sLGx6ejo6F9bbW3t1KlTN23aNH369PXr16OpERAEKS0tVVdXl5aWBrpCfX19ysrK3t7eoPu5c+fO06dPs1is0tJSOTm5lJSUb96ur8d588xeg8ViiUQiaC91dHRGjBhRVlampKSEwWDQcmVlZSMjo8zMzM7OzpaWFlS1UEpKys7OLisr68/N+jz8wWAwCgoKCgoKJiYmOTk5mzdvHjt2LJrjCYvFTpo0ycXFZcmSJTt27LC3t++v9CwkJGRsbDx69Oj29vZ169ZpaGgEBgaCJ0ilUm/fvr1+/fr+thhgcZw4ceKxY8f+Av/pzs7OV69enTlz5ktK2O3t7a9evXr37l3/3oqAgMCcOXNKSkp27dp14MCBGTNmDOaIDAZj+/btVlZW/TMpAmAY3rx5s76+/oCBaSNHjty+fbutre2kSZNCQ0M5H4GAgICAgICMjIyuri4EQUJCQo6OjpmZmRQKJTMzs7W1dffu3Tzr1PykOW+QJmHUqFGgSeacmZeUlJSWlgbtXGVlJVquoKAARHp+xvnwefPmja+vL3gQWCzW3d29paXl7du3nNvk5uY+e/bs8uXLL168yMvL41zV0NAQGBhYWloKQRAGgwEDpbdv36LfhtLSUhqNNmXKlP6H3rFjh4ODw7FjxyQkJIBt+Cdd46/h0aNHz58/nz59urOzs7Ozc0NDw+nTp+fMmYOKN7979665uXnAdgFBkNjY2Bs3bmzZsuXChQvoZPnXKS0tvXTpUkREBMiKGRsbW1lZOX/+fDQNQ319/evXrzkF6jjp7u4+dOjQ2rVriURiaGgop5mCSCSKi4sLCQmhOwoLC7e1tTEYjOjo6MzMzGnTpjk7O//zzz8kEmnjxo3Lly8f0r3igpdz3uhl9PT0AEuNgIAAi8XKyspatGgRDodjsVhNTU0eHh6ysrJKSkpv374lkUiSkpJsNrusrExbWxv9KiL8WBXewWazIyIioqKi5syZAxLgkkgk6H/TSdD/FIg9PT0PHjw4f/58IpHo5ub24MEDS0tL8FkrKCg4c+YMkUjcv38/BEHATQZVk4Mg6P3791OmTOGyxVCp1C1btkhLSwcGBgoICLS0tBw8eDAuLu4XXjrvWbZs2fz589FFBQUFPz8/ztQdr169kpSU7N8dQBAkKSlp586dx48fnzFjxrhx4zZv3hwdHa2urv71T6yRkREYPYHFefPm1dXVXbt2DVWSLy0tZbPZ/bXNEQTp7Oz09vYeNWrUqVOnPn/+7O7ujsfjg4ODwQ9NWlpaT08vKSmJTCYD6xtIvyskJHTy5Ek0M0RxcbGtrW1oaOgPRnXwsl/z5s2bqqqqvr6+AwcO2NnZubm5TZ48ed26dTExMbm5uTAMnzt3DoPB+Pn5jRo1auvWrXV1ddHR0QiCxMfHZ2VlrV27VlBQkEQi0Wg0Op3+p38Ahw9gfKSkpASmVMlk8o0bNwwMDNDJ0czMTH9///Pnz8+ZMweDwcydO/fGjRsbNmxAJw3V1dUNDQ3Bb4zNZsfHx0MQNHfuXPR7GBsbC2bHUVgs1v79+8+ePZuamurm5jZ9+vQpU6ZwCo8OcxAEYbFYLS0tFAqlo6MDTRoBkg2IiooKCwu3trbS6fTq6mpOR42ioqIBw/qfPHmycePGw4cPg6GTm5vbli1b7O3tOXs3MAxTqdTy8nI6nV5RUQF+7cAKISoqSiQSWSwWmUymUqm9vb3ohxkIOfU/aEdHh7e3t66uLvhCaGlpxcfHFxUVgUUIgvB4/ObNm3t6ekDikKqqqoSEhNmzZ4uLiwsKCoIjEgiElpYWFotVUVHxo8+OV7ZhRUVFAwMDLS0tDQ2NxYsXoxrOTCYzJCREXV193Lhx06ZNq6qqQne5d++ekZGRjY2NnZ3dhw8fEARpb293cnJSU1PT0dHZsGHDNw86/Bk+tuETJ05Mnjw5JCRk5syZxsbGGRkZ6KrTp0+/fPmSa/vY2NizZ8+ii8+ePRs7dmxQUFBAQADwaUBXZWVl2dracmW87O7uHj16tOr/5/Llyz/n4obGYGzDbW1tVlZWRkZGJiYmxsbGhoaGLi4unBvs2LFDT08PrAKJJUH5jBkzHBwcuGqDYXjNmjWoGjnK06dPT548iRrpIyIi9PX1jY2NTUxMRo8ebWxszLlxZmamlpaWkZHR6NGjdXV1UeXzu3fvSkpKcj4RQElJSXBwMFdhXV2dh4cHSEMCeP36tZWV1ZYtWyZNmrR161YQVAHo6uoC3onGxsYGBgbu7u5fv2m/IscugiCKiopBQUE9PT39k0AjCEKj0bq6uvpb5oHweP8pj7+G4dPWgHmorKyswsLC75sP6u7u/vDhQ3Z2Nud8BwzD8+bN27t3b/+HO2z5qXrDjY2NIAH0L4NCobx//54zDcaQgGG4sbExIyPjS5lLBs+vmIdC/pdD50t55ggEwoCOFXg8/gcTd/IZJOg81HfXICYmZmxszFVYW1ubkpJy5MgRvl0f8OsT8hGJxP6ZcwcPBoNRUlL6BafNA3sNiUSKiIhob29PSkp6/fr1jyas4vNHkZmZaW9v3z/tOh8+XPCgX0MgEPT19UEmeXFxcR5OyPMZ/lRXV2/YsOF3nwWfPwAetDXCwsI/0oXj80ezadOm330KfP4Mvp33sr6+fvfu3XyryveRlJRkY2PzR0Q2/3coLi5WVlaWlJT83Sfyt0GhUNTU1L4kA/rtfg2FQiESiWhMHZ8hER8fP3r06L/AN/9vor6+XlNTk29j4jmtra3V1dVfWvvttqajo0NQUJArPzGfQbJixYpp06b9p7TNOzs7xcTEhnNXLj4+3tLSkq9tznMKCwsfPnz4pbV8O+5/CARB+vr6QIDy9+3OYDCAG9iXtunt7Z0wYQKXtBKdTv9r1EIQBCGTyV+5HOD7+313mEwmfyX8GEEQKpX6g/HJDAbjSzUwGIz29vYfqfzr/BkO43x+nJaWlkOHDgH3dj09vdWrV0tJSQ1+dwqFcvbs2bKyMgwGIy4uHhR60CdTAAAgAElEQVQUNKB+6JMnT0RFRTn1nIqKivbu3btjx47+vjl/IgiCXLx4sbi4WF1dnTMibPbs2WpqavHx8bdu3RIVFe3s7PTx8XF2dh7StOzOnTvpdPrIkSNRZTwIgubOnauhoZGTk3P69GkhISEymTx16tT58+cPdWDe2toaFhbW1NTEZDJdXFw8PDw4zw1BkMePHz958iQiImJI1Q4BXvkN8xmQYeI3TCKRNDU1b9++jSBISUkJkUicNWsWhUIZ5O50Ot3Ly8vX15fBYNDp9OnTp4uJiQFRJU5oNJq7u/vNmzfB4rNnz9zc3PT09LBY7Js3b3h4OT/Ij/gN0+n0BQsWyMnJKfwPMTExRUXFoqKilJQUS0vLnp4eBEGio6MJBEJ8fPyQKtfW1paVlUVrFhYWlpOTq6mpaWlpMTY2BmEQCQkJAgICR48eHVLNXV1djo6OoaGhTCbz6dOnWlpaaFAFoLW1dfTo0dbW1kOqlouv+w3zx1D/CT59+lRRUQFEIbS1tUeMGPHhwwe0w8xgMNCgXhQmk4lmSujq6ioqKsrMzKTRaHg8fsyYMT09Pe/evePapaamprOzc9asWWDR2to6LCwsJCTkL9DiQ2Gz2VJSUk+ePHn27NmzZ88ePXo0ZsyYbdu26enppaam5ubmdnR0QBA0e/ZsPB4fHh6O7ghid/pX2NPTA/7p7u6WlZWNi4sDNd+/f9/W1vbRo0ejRo1KSUkpKipqaGiAIGjSpEni4uKoZi6CIAN6z/b19aHlbDbb19dXVlY2KChIQECgra1NRUWF06DGYrE2btyInslPgmdjKDab3dvb++nTJ0FBQR0dHVSMhk6nt7W1ffz4cfTo0TIyMgQCAUEQGo3W2toKw7C0tHR2drampqaqqiqVSgWZKERERCQkJPr6+shkMhaLlZOT4/u//yDm5uYnT54EghJMJpNEIqmqqqKd8P379wsJCYEXEZSw2ey9e/f29vYeP34cgiA5ObkdO3YICwuLiYkhCEImkzEYDNAw5yQ3N9fCwgIV0JWQkJCQkPiSptSfy7hx41Ad+NjYWD09vbVr10IQtGTJEkVFRVVVVeh/Yv6GhoZgMwRBVqxYoaOjs2vXLvRHzmQyAwICREREjh49isViOzs7582bN378eLD99evX7e3tra2tIQhydXUNCwszNzeHIKivr49CoYCjQBDEYDCWLVu2cuVKOzs7dExEIpHmzZvn4eGxatUqCIKSk5MfPHhw7do1LBbLYDCWLl3q5eWFXg6CILdu3SISiRMmTOCUlOI9vBpDHT9+fNGiReHh4VOmTNHW1s7OzkYQ5MOHD5MnT968efP169enTJni7OxcWlra0dHh7+8vIiJiZ2c3a9YsU1NTSUnJhISEnJwcZWVlERGRyMhIBEGqqqomTJgQGBjIKVX5xzFMxlAoTCbzzJkz8vLyUVFR6I1taWmZOXNmYGAg+PZ2d3evW7duzpw5XEKTCIKwWKzU1FQDA4MtW7b0l/t0dXXtP1aKiYkRFhb+a8ZQnJDJ5Hnz5tXW1nIWwjBcU1Mzbdq0yZMnc8a+19XVzZ49e/v27eC20+n0gICAWbNm1dfX96/5/fv3EydO7K/p2d7evnr1akNDw9zcXPRwubm5urq658+fB6qsbW1t8+fP37p1KxrMDVJZhISE7N27d/fu3du3b+d8JxsbG9esWdPT07N48eKfOobiTVuTlpamoaEB9CLS0tIgCLp+/XpfX9/8+fNNTU3Bzc3Pz5eWlra1te3p6cnOzpaUlFy4cCGNRuvu7lZQUJg9ezaCINeuXYMgCNVhtbKyKikp+a6rHi4Mn7YGhuEDBw6Aj+rTp0+51lKpVEtLy02bNrFYrKCgIH19fU5hWkBRURGYvA8ICOhff3FxsYmJSWtrK1f5X9zW+Pv7b9iwgTPAncViAfsUBEH9w6ZbW1vHjx/v7+/PZrN9fHymTZs2YLVUKtXDw4NLI4LNZk+ZMgV0EoEACyc9PT26uroxMTGdnZ3jx4/39PREpSFgGA4MDASdIxqNxmKxXFxcZsyYAexKCIKsWrUqOTmZwWD87LaGN/aaAwcO6Ovry8nJQRBkbW2dl5c3e/ZsMpmckZExefJkcOuNjIwMDQ3LyspaW1sFBATweLyZmRmBQBAQEBg5ciTQ+1m0aJGent6RI0dgGH769KmMjAznjAafHwGDwWzdupVGo6Wmpnp7e3t5eZHJZHStsLDwkydPSkpK5s6dW1JSkpKSIiYmxlWDoaFha2trTU1NRUWFoaHhx48f0VUIgly+fHnKlCn/HU+ioqKiqKiohQsXcg7wcTgcyHNy4cKFCRMm3L9/n3MXOTm5yMjIz58/jx8/vr6+/vz58wPWXFxcXFFRgSZjAWCx2JcvX/b09Ny7d8/JyenQoUOca0VFRSMiInbs2OHh4WFubn758mV0JguGYZCQ19PTk0Ag4HC4zZs3JyQk5OfnwzB848YNPB4PRmo/Gx60NSwWC/Rl0JtuamoqKipKp9Obm5tRgxMOhxszZgzIcMxVAzqkx+Px3t7eaWlp6enp58+fDwoKGs4uYX8iWCzW2traz8/v1q1bnLmKIAiSkJAYOXLko0eP1NTUvuS/j8FgVFRUVqxYUVxcfO7cOdTNpLm5+fXr16tWrfrvWNaSkpK6urr6T+RjMBgJCYkVK1aMGjXK09MTmCBR1NTU5OXls7Ky1NTU0PSVXNy8eXPEiBEDvvnCwsKzZ892cHDYvn07MEKjaGlp4XC49PR0GxsbzpxTWCwWLGpqaoISXV1dKpWakZFRWVn55s2bo0eP/hqxRB60NQICArKyshUVFei8BpVK/fTpEx6Pl5GRycrKQtU8gSoqZwqb/jg6OsrJyW3fvl1AQOBLWY35DAkYho8cOaKmppafnw/9r72AYbioqAjdhkKhhISE1NfXV1dX19TU7N69mzNdd05Ojp6eXnR0NNgd5EVqaGhAU18WFhZqa2urq6v/0gv7rbx7905aWhrtPjCZTDs7O1T9G4PBSEpKMplMVPMcgiAymezv79/S0pKSklJaWrpr167+PoEwDN+7dw8MEQBsNnvOnDnOzs6g2cJgMIqKimw2mzO9b1dXV2BgoJWVVXx8/KFDh65cuYJOLGIwGJAmobe3F5QAXz5BQUEw+luxYoW3t7ePj09CQkJ5ebm3tzfXR4hX8GYMtWjRorKyso0bN1IolL6+vjNnznz69ElCQsLCwuLTp0+FhYUQBNFotJSUFFNTU3l5eTB+Q3cHo0rw/+jRo01NTd++fcvla8Tnu8FgMJWVla2trWino6CgAIfDod9kOp2+devWhISEsLAwFRWVCxcuJCUlhYSEoO8rhUKprKxEdweTryoqKmiH9Pnz5/PmzfulV/W7KSkp4eyYYLHY3NxcMFoBNDU1CQkJoUYABEG2bNnS2dkZGRlpa2sbHR1dWFi4fft2ruamvr6+sbGRs63BYDDZ2dmcA97y8nJBQUFTU1Ow2NHRMX36dCkpqWPHjk2cODE6OjosLOzRo0fo9i4uLng8HnXmzs3NJRKJY8aM0dbWDg8Pv3LlypUrVy5cuGBiYqKpqXnlypWfFfzIE9twb28vyJogJCQkLS29dOlSMKMB5pJcXV1fvHixb98+R0fH4uLivr6+Y8eOCQgIzJw5s6amJi4uTlFRUURE5MOHD2gqO21t7fLy8u+wTg03holtOCsry9HRMTY2tqSk5OnTp1JSUsuXL0etvzdv3nRzc+MUb6VSqW5ubmBCEEGQ1tbWZcuWXb9+vaCgICcnx8nJyczMrKysDKzt7u62trbm8g1DEKS6uvrevXs+Pj5CQkIrV668d+/egHMuvx6e2IY1NTWdnJw4S86fP79p06aMjIyioqKTJ0+qqKg8efIErIJheNeuXW5ubk1NTej2NTU148ePv3DhAqd1GWTL2b17N2fNjx8/9vLySk5OLi4ujoiIkJGROXXqFFjFZDIDAwNXrFjBqev68eNHCwuLd+/eoSUXLlxwdnZOT09PT08fN27c2rVrObf/9OnTtWvXNDQ0xMXFb9y48d1v7Ndtw9/WlEhLS3v06NGRI0e+3ma1tbVlZ2c3Njbq6uoCew0ob29vLywsrK+vV1NTMzQ0lJaWptPp2dnZTCYTi8Xq6OjU1NSAHCAjR47U1NTEYDAsFishIcHBweEvMNZIS0uXlZUNB4tpVVXVu3fv6urqEAQxNTW1srJCjTLV1dWioqJcJ9na2trX14f6cbS1tb17966iooJKpaqrqzs4OKCqkRcuXHjz5s2tW7c4PeshCGpubi4rK0M7pzAMoxMIv5cVK1YsXbr0B2Mvjx07pqGhgeYvhyCIwWDk5OTk5eV1dXURCAQnJydjY2Nw+QiCFBcXy8vLc11+W1tbb2+vqqoq2mekUCg7d+6cO3cul732w4cPmZmZ7e3tWCx2woQJ5ubmIEsMDMPl5eXq6uqcNx9BkIqKCjExMVQKBqROBulMTE1NJ0yYwCnXW1NTU1NTA04VhmFjY+PvE9woLCxcv37969evB17Nj1H4qQyTfs3Pg0ajGRsb9xfxH878VG3z/zL8GAU+P5GCggI2m82VHIoPn/7w2xo+P0RWVtaSJUs4J1n58BkQvqYEnx/C0tIStenw4fMVvt3WAKsVP+Pt94HFYlks1l9890De3j/uAtls9h93zsMfFov1lVDbb89DNTQ07Nixg69t/n0kJiba2NhwTdDw+b0UFxcrKSkNSSqMz2AAYVkg6r0/325r3r9/f+/evd27d/+k8/u7UVNTy83NBY62fIYJgYGBCxcuBOoNfHhIcXHx3r17UW0dLr49hmKz2Vgstn8kHp/BgCAIkUj8T909KpUKYvx+94l8EQEBAaDF87tP5G9DRESkf7QjCn8eig8vQRDEw8MDCADy4cMJfx7qv0Jvb29GRkZLSwsWi1VVVTU1NQWOp4OEwWDk5eXV1tYyGAwlJSVLS0tOx1OUlJSUqqoqIHvOZrMLCgpKS0vJZLKmpqaFhYWEhATPruc3gSDI/fv3hYWFpaWlcTgc6u+rra0NDEBUKjU5OVlDQwNEPA6Jq1evysnJycnJcfYKdXR0gBcvk8nMysoSEBBAVQGHdNpZWVkVFRUYDEZVVdXMzAx9+l1dXSkpKSQSSUJCwtraWl5efqiVDxJ+W/OfgMFgLFiwYNq0aY6Ojp8+fXJzc/Py8goJCRmk0ZrNZh88eLCpqWn16tUQBPn7+/f19b18+ZLLvArDcEREhJeXl4SEBIIg0dHR9+7dCwgIUFJSWr9+vYyMTExMzIAt1B8Ei8WKi4uLiooSFhZGwy9ERUUfP36srKy8d+/e7OzssrKyQ4cOfUdbc/LkSRBXyRl1nJGRISkpuX79+qysrLKysiVLlnxHW3PixIm2traFCxfCMBwaGqqmphYaGiooKEgmk6dPn+7u7u7u7h4fH29jY/PixQtUfYLH8GMUfirDJEYhKysLgqD9+/cjCMJisUaOHKmrq4uKV7JYLBaLxbULm81GVT5bW1stLCwsLCwoFAoMw0FBQRAE9Y9LqK2tHT9+PLje3t5eR0dHNID2yZMnRCJx48aNnHGGv4sfiVHo6+tbvHjx2bNnL1++fOXKlUuXLjk4OPj4+NDpdAqFkpGRUVVVpaamdv78ea4dQZKs/hWiAnp0Ol1fX//UqVNo4LWNjc3p06fB2vT0dBKJNGbMmPXr13PuDsMwkP7kgslkouW1tbUQBKGKrj09Pebm5p8/f4ZhODg4eNSoUUCrlMlkqqurBwYGDljhYPh1MQoIgtTU1DQ1NXGVU6lUEN7NWUihUDo6OthsdllZGRDmYLFYdDqdTqcDfQ02m02n0/vr+/P5DlRUVJYuXTpmzBgIghAEweFweDwe7ajfunUrLi6Oa5c7d+5cvHgR/C8qKurm5jZr1izQDwJf3f5DsI8fP+rr64MYThaLlZ+fv2PHDrBKW1tbWlo6MzPzT3+gMAybm5uvWbPG19fXx8fH1NRUWlr64MGDgoKCRCLR0tJSWFgY6ZcvAUGQ0NDQe/fuca0CrRWQlWhqanJxcQkICPDx8fHx8dHS0ho3btyaNWvAluPHjx9wBMpisQ4cOFBWVsZZSKPR9uzZgz7T5uZmCIJA8wpBEA6HA41Ud3d3Wlqajo4O6J8KCAi4urpmZ2dzShfxEl71a1JSUuzt7V1cXFRVVR0dHYF6QFdXV3BwsLW1tbu7u4aGxp49e7q7u8lk8pYtW6SlpdeuXevk5CQpKTlq1Ki6urrIyEgRERE8Hr9jxw5wXBUVlfHjx393KzscGCb9GhQ2m/3mzRsxMbHt27ejN7a0tHT06NExMTGgI8NgMJ48eWJqaoqqRqDAMNzU1GRjY2Npadnb28u11svLC9WKZjAYp06dev/+PVjMzs6Wl5e3t7dHP+O/EV7FXjIYDG9v7+LiYs7C5uZmVVXV/v2arKwsIyOjmJgY0Lths9lXr14dMWIEqlLOSWNjo6mpaf8MXAP2a+7evSsvL5+eng6EvWk02uHDh+3t7VGREBKJNHLkSCEhoV27dpWWlnp5ea1du5ZOp3/+/FlLS8vHxwet7eTJk3Jycg0NDd93Q36Ftnl5ebm5ufnLly8RBImKisJgMJGRkQwGY8uWLerq6uDU79+/LyYm5u/vTyKRbt68CXJEJCUlPX/+XFxcfPXq1Ww2OygoSFBQMDExEVTr7OyckZHxfZc9TBg+bQ0Mw0+ePFm2bJmWltbOnTs51WpgGH737p2Jicm1a9fYbPb169d1dHTevXvHlcGivr5+9erV1tbWrq6uzc3NXPU3NDSMGTMG6Nv358SJE3g8PioqiteX9T3wqq25dOkSGD1xFn6prUEQJCUlxdra+saNG2w2Gwy+uNopAJ1OX7du3YEDB/qv6t/WIAjCYrEePnw4YcKEzMxMCoWyadMmBweHmpoazm3y8vKAApaCgsKCBQuAdFFxcbGKisrq1avRzS5evEgkErkyQwyeX9HW+Pr6TpkyBdVeiomJaWtra21t1dXVDQwMBIUMBsPQ0HDkyJHV1dX5+flycnKHDx9GEIRKpZqZmVlZWSEI0tfXJyUl5enpCcNwXl7emDFj0LwTfyjDp60BsNns8PBwAoEAUiByrqqsrNTV1d2/f7+Ojs6Xmgw2m52Tk6Orq+vs7MzZrwEyo4sWLepvkoBhuK6uDmSY4vXVfCc8aWvq6uoUFRWfP3/OVf6VtgZBkPfv38vLyy9cuBBkRhtwm7KyMh0dnQHf/AHbGkB0dLS8vLy3t7epqWlXVxfnKjabXV1dbWVl5e7uDka+gYGBdDq9qKhIWVmZs625dOmSsLAwVzs1eH66vQaG4efPnwsJCaEKye7u7rKysnQ6vbGxEbWo4/F4GxsbMpnMZbgBq8A/QkJCXl5eDx48+Pz587lz5wIDA4c0L8vnm2Cx2GXLls2bN+/w4cOcgrUQBKmoqMycOXP79u3u7u5fkt3GYrFmZmabN29++fLlkSNHkP9ZH8hk8sOHDwfUNi8pKXF1dd2wYUNwcPDPuKLfRWJiYmdn51AFtywtLZcsWRIVFbVy5UpgPutPbGysiorKUN/8adOmaWpqRkVF7d27l0vpKjk5eezYsUeOHHn48OGbN2+mTp165cqVd+/e4fF4QUFBTgsajUYjEAg/SXuXB5VisVg2m93a2oqKJwMwGAwej//06RNaIiEhISoq+vWMqzNmzCAQCPv37//8+fPixYt//PT4QBAUHR1tampaX18PQRAGg3F0dCSTyUlJSZzbJCYm3r9/Py8v78GDB4mJiZyrKioqJk2alJ2dDXbX19eHIIhTtb6kpAR8S/ofev369du2bdu6dauwsPD9+/f/dNswSkpKCoFAGNIUPoIgFy5cuHbtWnh4+PHjx7kyuqBcuXLlO5xcjh8/3tXVde7cOR8fn+LiYs6DxsXFzZw508bGBoPBWFlZPX/+3NTUNDU1VVRUVEJCoqWlBd24ublZRkbmJ4Xv8aYBmzFjRm5u7sWLF2k0GoPBePDgwa1bt8TExExMTNLS0ioqKqD/eSLp6urKyMhw7Q66WOD/sWPHGhgY3L5928XFha9tzhNgGH79+nVJSUl1dTUoAdKcOjo6YJHJZF68eHHjxo23bt0yNja+efPmunXrrl+/DiYEIQiqqqpKS0tDE3iDt1NBQQGdyXr9+nV/bfPGxkYnJydnZ2cbG5vGxsaMjIzr168P59iFIfHx48dRo0YNfnsEQc6dO3f//v2EhARvb++3b99euHDh/v37yP+fmWpraysrKxuSUiqFQgkKCsrLy3vz5o2Xl9fp06eXLVvGmW2dQCCAFJpoiZmZGcgeY2xsXFZWBoYaCIKkpKSYmJj8rOgNnthr2tralJSUcDicsrKysrKysbFxc3MzDMMZGRkEAmHNmjVMJvPJkycSEhIJCQkwDKemphIIBGDKoVAoWlpaUlJSwBIJw/C1a9cUFBTy8/OHOlwchgwHew0MwzExMdra2uBMWltb5eTkxo8fj+aofPbsGRB+BtYWMNlkaGgIjP0IglRVVVlZWYFpKRaLtWzZMgiCUlNTUeuMra1tQUEB50EZDMaSJUsgCCISiaKioqKiosLCwgMmzPz18MReo6GhMWnSJM4SkPUtLS1NQkJi2bJlJBKJ02spLCxMV1f348eP6MbZ2dnCwsJ37tzhrATkS9m5cyfX4eh0elVVlZKS0tSpUzs6OlBbG4vF2rFjh76+fltbG/r44uPj1dXV0ZyxmZmZOBzu+fPnYIP8/Hxra2tglElJSSESiUlJSQiC5OTkYDCYe/fufbcP1NftNbzxG5aVlY2NjT1//nx7e7u2tnZgYCDQoLC0tExPT798+fKqVavExcXfvn07evRoEol0586dBQsWUKnUtLS0uLg40Pe+c+fO/PnzsVjs/PnzKysrtbS0eHJufDAYjLu7O4Igu3fvVlZWrqqqcnNz27RpE/rxZDKZUVFR6FcaZCC6evVqa2srKFFTUzt9+vTRo0cVFRX7+voYDEZKSgo6Ynr+/LmIiAhXcigWiyUqKsqZox6CoOnTp//cS/2FjBs3Tltbm7Okra3t8OHDVCp10aJFEARt3rzZzc0NXDL4sd2+fdvAwABsjMFgzM3Nk5OTGxsbEQRB7VzgMwBGqZzs27evvb0dSKkHBwePHz8etPgwDKurq79//15cXByt2dHRMTQ0FE1WZ2FhkZKSEh4enpycjMPhWltbw8LCwOO2tbW9ffv27du3MzIyysrKrl696uHh8bMSCvLQbxg44/VvFNlsNo1GG1Jj+Uf71HAyHPo1APDVJZFI3d3d/b2EBwOTyezu7iaRSJyzvGw229bWNiwsbDg4BA8SnvRrKBTKz/AVgmGYTCajHts8hE6nk0gkMpnM9eOCYbivr6+zs7O/w9RQ+RX9GgAOhxtwNI7FYr9uD+7Pr0n6+Z8Cg8EQCIShPghOBAQE+o/ky8rK6urqZs+e/d/Jrgv4evrW7waDwaA9FN4iKCg4oNEXg8EICQn9gglfvvGVzw+RkZHh4uLy84KD+fw18NsaPj+EoKDg+vXrf/dZ8PkDGJS2OQaDQbPE8xkSWCwWhuG/+O6Bqe4/7gL/7ofyu4Bh+Ie0zel0+tixY0EoNp+h0tDQoKSkxHcUGlZ0dnYSicQfMV3xGRAmk3n58uUvJSb8dr8mJydn2rRpoaGhvD6x/wTKysrZ2dl8bfNhxZo1axYtWsSVMJvPj/Px48ctW7Z8f1sD5qvQkCU+Q4LNZgOxmN99Ir8IBEGqqqqUlZWHeSDbf+qh/DJwONxXRqb8vv1/CBiGOzs7KRQK0k/MaTAgCEKhUICG25e2aWtrmzJlSmNjI2ch8Oj5jiMOK8Dd44ocZjKZnJkDqFTq95mByGQyl0IV8EpDF4GH2nfUDMMwlUodsLyzs7P/2bJYrNbW1p8RtsZva/4rVFVVWVhYTJkyRV9f383NDWi1DZ6urq45c+aYmZlNnDjR3NycSwgO5e7du6qqqhoaGmhJcnKypqZmWlraD5397yY1NVVPT8/BwWHEiBGLFi1Cf6Lp6ekjRoywtrbeuHGjg4ODvLx8f13Kr1NaWjp+/Phx48bp6OhMmDChrq4OlKekpMjIyDg7O69du9bCwsLMzKyzs3Oop02lUrds2eLr68tVHhcXp6Gh4eDgYGRkVF5ejpa/fPly1KhRGhoaCgoKZ86cGerhvg6/rflP0NTUZG1tvWbNmuzs7PT09OTk5KVLl5JIpEHuTqVSly9fjsfjP378mJ+fr6WlZWpqmp+fz7UZhUJ58uTJpk2bwGJycvL69etPnDhBIpG+75s8TPj8+fM///wTGhqan59fWlqanZ1tZ2cHYtwRBJGSkmpoaIiJiREUFLx9+/bIkSOHVPnKlStnz55dUlJSWVkJw7CLiwvaURITEysoKHjx4sWoUaMuXLjQP2j56+zevXv79u3379/nzCaMIEhYWNi6deuio6Nzc3NDQ0NtbW2BZNeDBw+OHTuWlpZGJpNPnTq1Y8eOnTt38jATMb+t+U9QWVnZ3NwMAu5HjBihpqb2+fNntK2h0Wic3XUAcGkH/3d3d1dVVRUWFvb19eFwOCMjo76+voKCAq5dqqurmUymk5MTWLS2tt6/f7+Xl9efbhlpb29vaGh4+/YtBEESEhL6+vqpqaldXV1g7fLlyzMyMtLT0+/duzdz5kzOHZuamvo3siwWi3O4VFBQAGoWEhKaOHFiYWEh6BnhcLjg4ODc3NzU1NRbt25NmjQJ9cwGw5/+59nd3c05XNq8efPhw4dVVVU5t2lubj5w4ICJicnYsWOxWKybm5uAgMCjR49AfojOzs6RI0ficLj58+fr6OjcvXu3ra3te28bNzwLBejp6UlKSqqsrGSz2WZmZmgS65KSkszMzKamJnl5+QkTJmhrazOZzKKiotzcXC0tLSA9r6Wl5enpWVJSkp6eDgZBqD4AACAASURBVEGQnp6era1tbW1tQkICgUBYsGABf874Bxk3btzTp09NTU0hCOrs7Kyvrzc3N0cVlW7evJmRkXHo0CH0y0kikdauXTt27FiQm1leXv7ChQt4PF5CQoLNZldWVgoJCZmYmHAdJTEx0dHREY0vwePxeDz+L4hdMDY2jo2NBRqaDAajsrJy3LhxQMIdgiAikSglJdXZ2UkgEDgvFkGQDRs2yMrKHj58WFhYGBSWlZWtXr06ICDAzc0NlDx58gQok8EwnJOTo6+vD6IiMRiMmJiYhIQEhULhmp4nkUj//POPnZ3dypUrURt8WlraypUrQfYFUCIiItL/Wpqamnp6euTk5MBjwuFwhoaGr1692rRpk6SkJIVCaWtrU1ZWFhQUlJKSqqurI5PJysrKPLmNPPsNb9u2LT4+fvLkyUVFRXPmzElNTYUgKCEhwcXFhc1mz5w5MykpacqUKRkZGWQy+fz586tXr/7nn3+ioqLev3+/YsWKO3fugKcC8oFAECQpKRkbG9vV1fUXvKy/HQEBgenTpysrKzMYjCNHjggLC//777+oLr+npycGg1mwYEF7ezsEQZ2dnXPmzJGQkPDx8QEbYLFYCwsLU1NTFov1+PHjpKSky5cvGxkZcR3lwYMH9vb2v/K6fg0iIiKOjo7S0tJkMjkwMBCCoAcPHqDfv8zMTBA37+DgkJCQgO6FwWAuXLjQ3d29adMm0Lupqanx8vJycHBwdnZGN7Oysho5cmRfX9++ffuKi4vPnz8PaoZh+P79+9OmTVu1apWjoyPQmgBISUmdOHHi1q1b4eHhoKSioiIgICA0NPSbScrFxMQEBAQ4TcIMBqO2tlZAQODff/999eqVkpISBEEdHR21tbXS0tK8dNfgSZz3w4cPDQ0NQe6EwsJCAwOD2NhYCoXi4uJiZ2cHhGnKysoUFRUtLCy6urpycnKkpKSWL1/OYDB6enpUVFRcXV0RBHn69CkOh7ty5QqY8rC0tKyurh5SpOlwY1jFed++fdvR0VFbW/vQoUO1tbWckdk0Gs3Ly2vZsmXg9zBv3rz+Ub9VVVUzZ84cM2aMp6dnQUEBV2B3amqqlZUVl9ItgiAxMTHCwsJv3rz5Sdf1HXxfnHd0dLS9vb2BgcG///6LPtPMzMxZs2YBMfD4+HhNTU0uufKmpiY7O7vAwMDi4mInJ6d9+/b1rzkxMXHy5MlGRkbe3t6o0nNGRoaPjw+LxQLZ40xMTFC9IUB9ff24ceOuXLmSmpqqrKx8+fLlAcP3J02aNGfOHHSRRqONGTPGyckJPN+WlhYikaioqMi117Vr16SkpE6dOjWk8P1foW1uZWXl5uZGpVLBYktLCxAbVlZWDg4OBoVsNtvV1VVGRqasrIxL29zCwgJom7PZ7AkTJmhpaTGZzKtXr3p7e3NJ+f9xDJ+2BgCUxjU1NW1tbZuamjhX9fb2BgQEaGtr+/v7f0leACgerFy5UkZGBlXSQhCEzWYvXrz4yJEj/V/Nv6atQRCExWJVV1dPnDhx7Nix4LHS6XT0tQcZ++bOncu1V3t7+9KlSxUVFYG6zYA1s9nstrY2T09PPT090HIxGAx0YxqNJi4ufvv2bc5dYBguLS3V09PT0NB4+fLll2RYuNoaBEHKysomTJhw6tSpzMzMxYsXm5mZGRsbc26Ql5enoaFx+fLloUpb/HRtczabXVJSQqPR0I6ZvLy8oKAgk8ns6upCpwCB6CSTyew/pY+OkrBYrKenZ1VVVVxcXHR09Nq1a/mWGp7Q1dVVWlrKYDAwGMzIkSN9fX3fvn0L9INRaDRaR0cHFosF+imcq+h0enl5OZVKBYoHbm5uHR0dUVFR6KOsra0tKChYsmTJXzng7erqqqyshCAIh8ONGjXK3t4+Ozv75cuXEAQ9ffq0tLQUbCYkJCQpKfn+/XtOAy2CIHQ6vb6+XlBQsL6+nstU3NfX9/nzZxaLhcViZWVl//nnn9LS0osXL/b19YWHh9fU1IDNCASCvLz88+fPOfdFEASoEYF2avAzfdra2g8fPhQWFr5165a/v7+oqChnUt2SkhIvL6+goCBvb2+QPHPI9+sL8OCXjMPhRo4cWVxcjLpskEik169fEwgERUXF1NRUdI6DQqHIysp+Xc3Uzs5OUVFx+/btcnJy/a2PfL4DGIYPHToE8geBEmCpQV05IAhqb2/38/OTlJR89+6dmJiYt7c3sN0AMjMzbW1tL126BBaBpZNzJjs/P9/MzAyIMf597N+/f+LEiejtAuZYMEGzbt26sLAwUM5isWg0mqioKKf6UkVFhYeHh52dXUJCQktLy65duzgbhWvXrtna2oIMyBAECQoK4nC4urq6kpKSVatWPX36FN2yp6cHtUYDPn78GBgYePTo0ZiYmJCQkLCwsEG2C9XV1TU1Nb6+vqdOndLR0cnPz584cSJY1dXVtXfv3j179vj5+eFwuDt37nC5Zf4IvOk1BAYGNjY2zp07t6ioqKSkBGTnkJKScnZ2rqurS0lJQRCks7MzPj7e0dFRUVERRNmiX0Ug6IcgCARBenp6EydOLC8vX7BgwV/5kfz1gDB9BoMB2gI2m/327VsikThu3DiwQWdnp5eXFw6HO3r0qLS09IkTJ4hEYkBAADrnjcfjqVQqMAYjCAK+5EZGRuiP6tGjR56enlzHRTiyTTMYDDC8+jWXzFtwOJycnBx69yoqKvB4PJjUs7W1XblyJdisvr6+oqJi2bJlqCRVR0eHr6/vggULdu7cqaWldfbs2eLi4uXLl6POx0JCQgQCAbjkIAhSVFSEIMjkyZO1tLRUVVVnzJgByhMSErq7uxcuXAj2AtnTXFxcgoKCFi5caGZmlpWVFRUVdfPmTU7/bOR/mdpZLBZqi4AgaN68eStWrGhpaWGz2WfOnJGSkvLw8EAQpK2tzdjYWE5OTlBQ8Pnz53fv3o2MjORlTgWe2GvodHpAQICQkBAej1dUVDxw4AAYara2tvr5+Y0fP37v3r3Lli0LCAhoaGgAM3ZgaiMzM3P37t0SEhKCgoIPHz4EdyQ/P9/U1PS7k+8NK4aJvaaysnLhwoX79u0DeZ2kpaUPHDiAZjs7f/78hg0bOE0JdDo9MDDw0qVLYJFMJm/fvn3dunUPHz68c+eOmZnZggULUHNPU1OTlZVV/+eVmZm5bt26yZMnE4nEqVOnrlu3bpjo1Q/VXlNaWrp8+fKQkJCnT58eOnRIT0/v9OnTwBCbmJg4f/7806dP37hxw8nJadWqVaiNA4ZhV1fXPXv2cEqFNjQ0LFmyJDY2Fiz29vaCnDaxsbEXLlzQ0dHZunUraJ3v37+/ZMmSa9eunTt3Tk9PLzQ0FK2nra3Nw8MjIiKC00ZTWFg4YcIEzjyxx48fX7Nmjby8vJqaWkBAwIULF8D2wNL88OHD/fv3Ozs7g3QDTCYT+DdwYmFhASJaBsnX7TXf1pRIS0t79OjRkSNHvtlsAccNXV1dLneAvr6+4uJiIyOjwUfxV1dXq6mpDXLj4Yy0tHRZWRlX7/e3ANw3EhMTZWRk3N3dh+qECkFQbW3ts2fPwPQip/j2vn37Kioqrl279qf0Q1esWLF06dKhppFLS0tLS0tTUlKaMmUK52iRQqHcuXOHRqM5OTnp6up+x/l8+PAhKSlJSEjIycmJ03RSW1sbExMjKio6c+bMIWVxGcwR4+Pjx4wZY2try8OeS2Fh4fr161+/fj3wah5qm/PpzzDp1/w8SCSSlpYWmoL9j4BX+bz5cPHT56H4/Jf58OGDhIQEalzkw+dL8NsaPj9Efn7+qlWr+K4JfL4JPzUKnx/Cy8sLDfbhw+crfLutERcX7+3t/dP1R34XIiIiWVlZPynjD5/vo7u7u7i4+E+xZP9BfH1K59ttjaioKBaL5fIx5TNI1NXVCwsL+TLawwocDldbW8ulsMfnxyGRSJwyaVzwcs6bT3+Gz5w3H5Tvm/Pm802+PufNN+nx4cPnV8Az2zCTyezo6GhoaIAgSElJSU5ObvBqbJ2dndXV1SDeD4fDKSoqAvWgXwOTyQwJCXFxcbG0tPxlB/0R8vLyMBgM8JEfPN3d3QcPHty6deuQjEcsFuvTp0/v3r0rKipSVVVdtmzZL+6jlZeXd3R0QBAEw3BcXNzu3bt/y4CURqO1trY2NDSIiooqKirKysoCcw+ILpaSkiIQCAwGo7m5WU9Pb0g5JJhMJtD9w2Kx4IcDIj+6u7tra2tlZWXxeDydTieTyZqamkPyu2MwGK2trZ8/f5aSkhoxYoS0tDQ6Xdjb29vc3NzU1KSkpKSgoCAqKoqeTFNTU01NjYyMjLKyMqqmxhN41q+5dOnSiRMnampqPn786ODgsH///sHvS6PRGhoaFi9ebGVlFRkZCd6tnw0aOUIikU6ePPnmzZtfcNAfp6+vb+PGjXv27BlQHP8rNDU1nTlzpr9I8Ne5e/futm3bzMzMpkyZcuDAgVu3bg1p9x+ktbXVxsbGysrKysrKxsaGSqX+loaGTCYHBQVFRka2tbUlJyc7OTndvHkTrCooKJgwYYKJiYmtra25ufnu3buHmkfh1KlTZ8+eraurKywsdHR0PHr0KCjPyckxMzMzNzefMGGCsbHxmTNnhlQzi8XavHnzyZMn6+vrjx8/bm1t/ezZMwRBIAgikUjr16+Pi4vr6uqKioqaN29ebW0tBEFUKtXX1/fmzZudnZ1JSUnz5s0Dinc8g1d+wyoqKv/88w/438/PD4Kgjo4OsAgiLfvvwmazOeVO5syZA0FQenr6N4/1g8AwXFRUdPr0abSkr69vQJ2hH4fnfsNpaWkyMjIKCgpDjS2CYRgNgBr8LlpaWq9evQKLzc3N6DP9BcAwfPz4cXd3dxKJRCKRyGQyr8SMhuo3DGYSgdxSX1/fpEmTIAgCgUJJSUmOjo7u7u7z58+/desWl+AL1xsOgGGYs1BZWXn16tXgfy8vLwiCgN7YmzdvbG1tnZycvLy8uNyyv/SD4qz58uXLU6ZMAU+cxWIZGBjo6+uDcw4ICDh48CC6V0BAwNWrVxEEuXfv3qxZs9Dys2fPOjo6Dul38Yv8hu3t7XV0dMD/EhISOBwOjZ2vr6/fs2cPl2o/mUw+fvx4fX09WgIyAaOhwwiCtLS0QBBEIpH6Kzl3d3c3NTVxtvQIgpBIpJqaGs5CFotFJpMRBGltbQUiAAiC5Ofnu7q6UigUNAYfj8f39vZynV5LSwvy/+OSu7u7GQwG6Cojvylk+eXLl9bW1i0tLQ8ePOi/tru7u7W1FbxzXKtAXnY0VzKTySSRSODODJjyCYbhxsbGz58/S0hIMJlMBoMhLCzM9WmlUqkNDQ1oIYIgQPEEvFvgf/CrAGvb29sRBGlsbETvfE9PT2Nj44DaK729vUBmJS4uDohF/S6PQUlJSTs7OxCNjcFghIWF8Xg8es4eHh4xMTHR0dGLFi3itBsgCLJ///7s7GyuexsTEwN0tQH29vZaWlrgf3FxcTSdm4CAgLe396tXr65fv25nZ8dZQ3d399mzZ7my7lCp1FOnTqH91rS0tJycnLy8PAiCcDjcmjVrysvLwS75+fnFxcWovrqCggJ4KxoaGkpKSoAZBIIgeXl58A3+kVv3/+B5PBSLxVJWVl64cCFaQqfTnZ2dvby8aDQaKKFQKB4eHjNnzuT80s6fPx+CoKysLARBIiMjR48ebWhouG7dOgiC8Hj8kydP0H1XrlwpLy8vLy+vra0NwvAZDMbmzZtBOzVu3Lienh4Gg/H48eOxY8euWrVqyZIlWCxWUFDwxIkTPT09aJsIQVBxcXFMTMzYsWNXrFgB6qfRaB4eHpqamvLy8urq6jk5OaDBnjt3rrKy8tGjR4Fk9MyZMwejWsbzfs3EiRNramq0tbVFREQ4Y3DZbPalS5dkZWVNTEzExcXPnz/PuReVSr106ZKqqurZs2dpNFpYWJi+vv7q1auBTImoqGh/3bxLly71zwPv4uKCbgAEB0aNGiUmJrZ06dI9e/Y8fvxYRUUFj8c/fvyYQqGYm5tDEOTj48NkMl++fGlpaWljYzN9+nQsFhseHk6j0TZt2gSaDx0dnZqaGq4TKCoqQk8AaP0PSY/yK/xIPFRHR4ekpOTevXvBYlJS0tmzZzs6OhISEsBXjZNHjx5paWlx6h9evHhRWlqaSycUwGQyFRUVvb29wWJKSkp4eHhjY2NqaiqX5h6Lxdq0aZO2tjanKuju3bv19PTQc3j16pW3t3dDQwNYBDYNcNytW7dCEDRp0qT29vZPnz4pKCiABjE2NhaCIG1t7cLCwpaWltGjR1+8eHFIN+fXxUNVVFScPHkStNMHDx5EywUFBR8/fgzD8MaNGzs7O0kkUlBQkISERGRk5JesaKKiol1dXQ0NDSNHjoyJidHR0fHz8wMtsb+/v4CAQGVlZV5eXltb2759++h0+ubNm+vq6pqamvLy8qqqqjw8PKhUKpVKLSgoiIuLMzAwCA8PNzIyCg4OLikpuXr1qpCQ0MGDB2EYBo06GI9AEEQikRwdHZWVlT9//lxaWmpiYjJ37tysrCxRUdH29va2trYPHz7ExMTMmTPn5cuXSUlJPLx7g+Hs2bPa2tqKiop+fn40Gu3QoUPI/76ZVCr18OHDKSkp2dnZgYGBXDlYGhoaent7UbUnTU3N5ubm+/fv6+npRUZGEgiE/onHfHx8wORlRkYGg8Ho6OgYMWIE2uusra3dsGFDRkZGQUGBvr5+XFwcDMPm5uYhISEIgrDZbCKRGB0djdaWm5tbWlpaWlo6ceLEpUuXjhgxYvfu3WQymUQixcfH19bWrlmzhsvhRUdHJzc39969ez4+PlgsduXKlaim1G8hJyfn0KFD1tbWc+fOBQpNgLt374aEhADdifXr13NKGrq5uQUHB7u5uYEfc3h4eGRk5PPnzzmj5CEIKisrO378uK2t7ejRo0NDQ0Eh+HicO3cuKyvL1tb20KFDaGcQh8OFhoYuXLjQ39+/ubmZSqXu2bPn/fv3r1+/Rg3/Tk5O4eHhIAUCiUS6evWqlZUVcLQLDg6eN29eenq6np6es7PzpUuXxowZA0HQ5MmTN2zY0NLSYm5ubm9vv2TJkv5J7H4IHvZrent7y8vLr127pqSkdOLECa61nZ2d06dPd3V1dXR0nDVrFui3c8LZr2lvbzc1NTU0NAS9uOXLlxOJxMrKyrq6uhEjRqDfwOfPnycmJlZXV2tqarq6uq5evXr16tUKCgoYDAbIqSgpKfn6+oLvYX5+vpCQ0JIlS96+fQvaGvTQ8vLyy5cvRxAkIiICj8c/f/4clDc3NwsKCs6fPx9BkA0bNsjIyOTm5iIIcvfuXRwOFx4e/s17wsN+TU9Pj7KyMrCe5OfnjxgxQkdHBwz0EATp7u5WUVGZPn16Z2dnd3d3cnIy1+4kEklMTOzs2bNg0cDAYO7cuWCAM3fuXAMDg/5HTElJgSAI/E7ALu7u7uD/M2fOiIuLg69oWFiYhIQE2Ozx48cCAgIPHz5EEAT02EG/pqqqSlVV1dbWlk6nMxgMoInp6OgI+laCgoKqqqrotXACwzCdTn/z5g0ej0e/+T/I9/VrSCRScXHx/v371dXVURtWbW1tWloa6OGWl5draWlxvflMJjMiIsLQ0DAoKMjAwAC8P1xQKJSysrJLly4pKytfuHABFDY1NaWnp4PhcFFRkZCQUGFhIededDo9KCjIyMho5cqVenp6QGC0f+UsFmvfvn0QBMXHx6MbhISEjBkzRlJSEovFmpubo9pDz54909XVVVZWxmAwI0aMSEtLG9It+nq/hpfxUCIiIlpaWkCZfM2aNf/H3nmGRY29fz9TYYbOUEWQDoIKCIjYKFIEFQQ7uqxYcEFd7C6iiIpdV0CwgaIINoqIKMUKNqQIikovUqWX6TXPi3Nt/vMMiCAj6/rj84KLSU6Sk5Pk5OQ+9/29dXR05s6di6yVkZGJjo42MTFhs9mFhYUyMjID7AoYF9BoNAaDQaPRIOKGx+PdvXuXQCAgo6E5c+ZAEFRUVPT58+eIiAgxMTEIgoB8Gdg/CoVCsvaMHTtWR0ensrKy7+EQQ8DHjx/BJuCnoqKivr4++OhFo9FoNBq82MGBRjiX45MnTygUSmJiYnJyMnh5fv78+dWrVwsWLIAgiEAgrF69+vDhw1OmTPH391+2bJnA5qBJ+X/i8Xhw4tLS0oOZ4+Df3NTUlEqlvnjxwtnZGYPBSElJgTb5muM/ODqBQACztu/evcNisa6uriDp0sqVK8FO+t0Qj8fb2Ni4ubkVFBR8s5I/DikpKSkpKW1t7bKysrlz5+bk5JiYmBCJRBMTE2CmIZFIKioqN2/eBENvsBUWi/3tt9+ys7NPnjwZFRXVr6eCmJiYjo6Ojo4OhULZtGmThoaGvb09j8czMjIC7WloaCgjI3Pnzh3+PDl4PD4gICA5OTkuLq6wsFBFRaXvnmEYvnv37t27d0E+JQiCGAyGj48Pk8nMzMykUChHjhyJiYk5evTomTNnoqOjw8LCkpKSNDQ0Tp48GR4e/scffzx69EhBQUEoDSicb6jKyso1a9Yg0qRTp05FoVCXLl3iL9Pd3b1mzZqpU6eamppu3769p6fnOw7EYDDa2tr6JmkEHecMPvpVUMfj8fxaRH1BoVACSQUlJSV/Eq/flJSUy5cv+/n5bdy4cevWrcHBwUwm88qVK2AtFovduXPnjRs36HS6j4/P3r17vy+J/SCZMmWKj4+Pl5fX9u3bjx075ufnN3DDCsDj8TgcDolEQq4XGMYPgJqaGkhdNPJkZmZu2rQJ/I/FYg0MDFgsVlZWFgRBy5cvR8wFGAwGh8M1NjbyfwzCMBwREVFYWHjw4MGQkJCPHz/y77m8vHzdunXI/WZubg5BUGxsbHV1tZWV1Y0bN5CSBAKhuLiYf1s2m3348GExMbG1a9cuWrSoX2HgjIyMoKCgiIgIe3v7jx8/trS0VFVVpaSkBAcHk0ikcePGhYSEhIWFZWZmslis+Pj4K1euGBgYEAgEf3//mzdvfv78mX/2ZpgIp6+5fv36tWvXkM9pGo3G4XD4H1EqlfrXX3/h8firV68mJSWx2eygoCD+TKMQBMEwDP0zWID7m+WBYRjYfY8cOQLmUBoaGvz8/MTFxeXk5Hbv3g3mrchk8t69exF/GWT0QaFQWltbFyxYACyOQFFR4IE0MzPjcDiIBjhwbXJwcOi3Sv1W8gfR1tb28ePHOXPm6P/Db7/9ZmBgkJqaCm5BMpkcExPj7u6elZWlo6OTlZWFTDn1W2f+yoOe+muH7ncTHo8nKSkZGBhob2//9OnTrVu3gnc7FouFYRj4/oCpPWQeiv9AmpqaHA4nLi4OzE7S6fTz589/+vSJ/7h0Oh15aGEYrqqqAvq7I09MTMzly5crKirAT3BeQKK/oaEBMWDT6fTOzk49PT1EvR+G4evXr589ezYiImLPnj0bN2708fEpKytDGuTKlSsxMTFg4AxBEI1G43K5JBKJwWDU19cjgyMymdzW1sYfVMFgMM6dO1dQUPDs2bOjR49aWFhs2LAByVkCePv2bVhYWFxc3Pjx43t7e4EaMYvF4nK5iPOeqKioo6OjsrIyDMMMBgP52sBisVZWVhoaGkLMjyycvmbx4sVGRkaTJk2CIAiG4XPnzpFIpF27doG13d3dHh4eMAxHR0eLi4sTCISLFy92dnauX78eGd2AjgOCoKqqKhiGKRQKjUZjsVjAXtPT08Pj8bq6uiwtLW1tbS9evGhvb+/u7r5o0aLZs2erqKjY2NgUFRXZ29uvW7fO3t6eTqcjn29Pnjz59OkTnU7fs2ePsbHxggULVFVVsVjso0ePzp49m5iYSKPRenp6gAPh3Llzd+/efe3atXfv3vF4vMOHD8vIyKxduxZUD9QHgqCOjg5Qn5HpbhgMxooVKxQVFfndRjEYjIeHB5fL3bBhQ29vL4/Hu3HjRldXl5aWlra2try8vIDdnUKh0Ol00MgwDLe2tra2toJVjY2N/Sb9AAVAuhIw3EPcLB89ehQREZGZmZmSknL27NnIyEiwytjYmMfjnTp16uzZs+AGyMnJAdLcIEE4eFD19PSWLFmSlpZmY2OzbNkyW1vbiooKAwMD/qN7eXnNmzfv8ePHLBYrODgY2NqE2ayDxsnJyc7ODhhW6XT6o0ePxo0bN2/ePAiClixZoqSkBIo9ePCgsbExLCwM2fD8+fMREREJCQkgHaWXl9fatWtdXFyQEYqHh4epqamhoSEEQeABkZeX9/Pz09PTc3R0BD0CmGMdO3YscECDIIjBYAQGBt64cSM6OlpaWhqPx4eHh5uami5evBiZCC8qKlq4cGFRUZGXl5eNjY2NjU1qaqqkpKSurq6xsfHBgwfBnczhcMLDw93d3UVERBwdHVesWAHyZ/B4vKioKFVV1QFiKYcKZvfuPcgPPL4f8w3IIAHe7V9DXl5eQUFh3759paWl0dHRJSUlly9fRj5NKysrCwoKzpw5g/T3BALB2dk5NzfX0NBQVlb22bNnPj4+XV1dSkpKb9++bWtre/r0aUNDg4iISHd3d319/b1790gkUkNDg5OTk5WV1efPnxsbG2k02s6dO11dXYGVsampqb6+vqGhwcXF5cCBA+Cx/Pvvv8XFxVNSUqKiosaMGQPqICEhQafTCwsLsVisu7s7yJra3d3d2Ng4Y8YMOzs7Npt98OBB0A1FR0erqKg8ePAgOTlZQkKisLBw8uTJBw4ckJaWrq2tnT59+sBfWMeOHdu0aVO/mZUHCZfLPXbsWH5+PoVC6ezsRBTwzp49m5CQQCKRgKnVxsbm1q1biYmJ6enpvb29YWFhyDMAQdCjR4927NhBJBKrqqrYbPbRo0e5XC6NRuvs7Lx//35hYaGUlNTLly/t7e0RW1VeXt6RI0ckJSXfvHkjISERGxv75csXJpNZXFxsb28vKSmZX/fCrQAAIABJREFUkJDQ3t5eVlb2/v37hw8fPnr0yNPTU1JSUltbOzs7G2hoffjwwd3d3dbWNiAggM1mo1CowsJCV1dXNBo9Z86crq6uioqK9vb2uXPn7t+/X0AHp6Gh4fHjx/fu3YuPj9fT0zt+/DgwCQ2fe/fuGRkZgbTZg0FHR6e5ufnQoUOVlZVhYWHA5QdIDhsaGp47dy42NvbJkyepqanh4eFIllsYho8fP37gwAFgk4IgCIPBGBsbq6ioMBgM4FOjoKAgLi6+Z8+e8vLyyMjIurq6mJgYQ0NDNBptZ2d34MCBzMzMxMTEsrKyS5cuIb4anZ2d2dnZkZGRiOwxGo22tLSsra2Vl5cH8T3AY1hMTAxx8JswYYK7uzuRSHRzc0tMTExISPjw4UNoaKiCgsKWLVtERETMzMzKysoiIiIqKiquXbtWX18fHh4+sF1VgNbW1oyMDE9Pz37XCjPOu6ur68uXLygUSllZuV87n7AA2RfFxMT43/MwDPf09OBwOP47UkVFxc3N7eTJkxwOBxk3AqhUKoFA+Jp7GJPJZDKZEhISw1Q5GbE4b/gfd1IKhQJ8KX/cseh0+po1awwMDHx8fMDwk0wmb9iwISUlhUQigQsBspFQKJQB0oHBMNzV1SUiIkIkEvu2M4/H6+joYDKZ8vLywg1N+L4475aWltbWViKROGbMGP5ukc1m19bWArey77vtOzs7v3z5gsFgxowZw99cFAqlrq4Oh8OpqqoOKcbqm7DZ7Kampp6eHjk5OTAvjtDc3Nza2iotLc3v4jBIBo7zFuY8lIyMzJB6we8GjUb3PRAKhRIIFQPmGA6H0+91GvglKSIi8t8SnUGhUBgMBoPBCDPZ+1coKiq6ceMGGKqIi4tzuVyQtxfkZuC/EAPnHUShUAPUFo1GCzd5wDBRVFTsN9keDofT0dEZzp5lZWX7bQdxcXGB70phgcPhxo0b1+8qZWXlH2SD/2U1QHt6ehITE9va2rKzs5OSkuzs7EbF8YTFpEmT1q9ff/78+djYWGVlZVlZWQsLC8QJbZRR+uWX7WsIBMLUqVOBRwYWixWiOX0UMTGx8+fPnzlzpq6uTkpKikQijeppjvJNftm+Bo/H/6Dx5ygAHA43JJ+aUf7H+XZfo6yszGKxkATpowwJIyOja9eu/bdMP788TCbz0aNH79+//7cr8qvR3d1tY2PztbXf7mt4PB6DwRBmCvH/JTo6OrBY7Gjr/VQAV8PRiyJ0UCjUAIrx3+5rWlpaJCUlhRzx+T/Dzp07ly9f/pNEOYwCyM3NtbOzG9U2Fzpgzvtra0e1zUcZZZSRQGh9DZVKRfQ1gI/W4Lel0+ltfAjESY0AiYmJnz9/HuGDfjdNTU39BtoNDJvNvnnz5ncEZHZ3d6elpUVERKSlpTGZzKFuLhQ4HE52dva5c+e+48SFCJfLFYg5qqmpAU79w4TH44FoPoQPHz4AJcnv3iEQkRigDFCYFFjI5XLr6up+xDMotL4GuDNbW1u7urpqa2sjwVCD4dOnTwEBAdra2goKCq6urv2qWwod5DLU1NQsX748MjJyBA46fDgczvbt2/ft2zdUccaioqLffvvtwYMHQ9qqoKDA2dm5qqrq8+fPixYtQjS9RwwymRwZGWloaBgTEzN+/Hhh6RsMCTabXV5enp2dvWjRIltbW/5VcXFx2tra5ubmM2fOtLKysrKysrGxGdIN/Pnz5zdv3mzevNnMzIx/+Y4dOyZOnGhhYTFr1iyrfwDB5YOhtrbW2dl5/Pjx06dPR/Ywb948oEby5cuXXbt2eXh4HDhwwNjYGMRncTicW7duLVy48ODBgytWrPDx8enbEw0HYc55GxgYtLS0YDAYPz+/FStWDH5DU1PTixcvNjU13b9/Pzg4WOBy/ghaW1vfvHkD4obV1NQSEhL+KxPk4KYnEAifP38e0pTzxIkT4+PjkXCqQbJz5861a9euXr2axWJNnjwZUcYdGTo7O1evXl1TUxMdHW1ubv5vOUkxmczc3FwBcWVAfX29qamprKws8DAC4pAgCHmQFBcXNzU1tbe3CyTG+PjxI5BzBXuurq6WlpY2MjIa5G4/fvw4ZswYQ0NDJM7gxYsXx44dA0rJa9euHT9+/JUrV6hUqoGBwf379ydOnPj69etz587dvn1bXl6eRqPt3r179+7dUVFRQpN5FpYuX3h4+MePH/tdRaPR8vLyBDRT2Wz2hw8fent7kSX8unzwP4JsoGRfZV82m81gMPiFyHg8HpvNptPpfReCXYG9gfhsc3NzEH/IX0xg/0wmU0DoDCh1c7ncvqu+htD1hiMiIoCnfFRUVN+1SLX7rR6Xy0VOE/wPWobFYvUr908mk1EoVF5eHjhrsHP+MhwOh/8qgIAskDxA4H+wFhyIwWAgLd/3OiIwmcyVK1ficLhbt24NrY2+xffp8jEYjLlz5+ro6PAv3LFjByL6S6PRvLy8kJwHPB4vNze3u7tb4Oyam5ubmpoEdr53715ZWVnkZ3t7u7m5OZLDgE6ne3p61tfXg58sFuvDhw99r0VJSQlSmRMnTly/fh2pSVFRka+vL2j/s2fPamlpVVRUgFW+vr7Z2dkwDJ8+fdrR0RERBc/MzJwyZQq/pvU3GTldPgiCmpub6XS6hoYGvyNpT0+Pr6+vh4fHhg0bwKuJyWSePn06IyPj+vXr/YbM5OTkpKamdnV1TZ8+/c6dOygUKiAgAHTqTCbz1q1b2dnZDAZDWVl58+bNKioqHA4nKSkpMTGxt7fXwsLir7/+wmKxxcXFd+7cGTNmDBqNTk9PR6PR3t7es2bN8vb2zs/P53A4Hz58OHbs2JcvX+7evauoqOjr6wtBEIfDOXfuXGlpKZlMVlRU3Lhx47hx4xoaGu7evfvu3TsXF5ekpKT29vbZs2dv3Ljxh4Y49sv9+/cTExMXLlx4/PjxlStXIp47MAxnZWVdu3aNSCSy2ezFixfPnj0b2YrFYr1+/TopKWn27NlOTk7Pnz9PT0/X0NAgEAgpKSkEAmHPnj0CIrhZWVmhoaEwDAcFBcnIyIBb3MDAICgoCBTIyckJDw/HYDCioqJmZmYKCgqqqqpXr17t7e3dtGmToaFhcHBwbW2tlZWVl5dXSUlJUlISlUpVVFTMysravHnzjBkzkpKS7ty5A16tO3fuBOFUCDU1Nffv3zcxMVFTU7t79+6kSZPU1dV/Ngfl33//HQnNu379uqGhIX/Og7t373748OHq1atITOazZ882b94cEhIycMwRgUCIiIgAdxebzfbx8bGyskKCJJlM5vHjx0VERE6dOoU8PomJiQcOHIiPjwdBZM7Ozkj5kpKSNWvWJCYm4nA4CoVy8uRJHR0dWVnZly9famlpRUREgGIKCgqZmZm+vr4HDhyQkJC4ePGira3tcCQKBBHWuObUqVNOTk5TpkyxtLQ0NjYGgkAIFArFyMjo+vXrHA6Hw+FERkZOnDhRQHKYf1zz999/y8jI4PH4hQsX7t+/X1ZWVltbG4xuDh8+bGFh0dnZ+eHDBzQavWrVKh6PFxoaamJiUl1dfefOHRwOt3HjxpaWlo0bN0IQRCQSp02b5uXlJSIiIiUl1dnZiegN83i8z58/r169GoIgoDfM4XBWrVrl7OwMw3BjY6OqqqqlpWVzc3NOTs748eNRKJSmpubx48eNjIxERUVfvXr1zWYR7rgmIyPD1dWVSqVu27YNgqDo6GjknUmhUIyNjd++fctkMt3d3fmzX8Ew/Pz5c1dXVwiCwsPDKRTKiRMn8Hi8iIjI/PnzN2/eDNKDCByLw+E8fvwYgqBXr17R6fS6ujoZGRlXV1ewlslkqqurp6enNzU1qaqqEolEe3v79+/fnz17FtEbBs5yQG94wYIFeDyeSCTOnTtXWlr6woULSUlJjo6OLS0tFy5cwOFwnp6eAkPLHTt2QBAkKioqKysrJiYmKioaGxsrlFQKQhzXIDQ0NEyYMKGhoUFg+bZt2+bOnUulUnk83rt373R0dJDhBj8C4xp+UlJSZs6cKbCQTqdbW1uD8Fcul5uTkwPyH/TdnMVieXt7p6eng59VVVVycnIzZsxwdHT09/c3NjYGeuwwDIMUI2g0WkxMzMrKasuWLUNNmjbwuEZofc3du3djYmLAmHn//v2WlpY0Go2/wNu3b01NTY8ePRocHDxt2rT3798L7IG/r2ltbTUyMtLV1e3s7ARjaXFx8bq6uq6uLnV19Xfv3oFN/P39T5482dTUZGRktGHDhtu3b9++fVtTUxOLxYKsaXJycm5ubmDEfvPmTRwOt2vXrr7a5jIyMqCvyczMxGKxCQkJYPnr168xGMzOnTthGN60aZOUlBS4Ry9duoTFYmNiYr7ZLELsaxgMhrm5OTjo8+fPZWRkpkyZgnyE9vb2KikpnThxAijMx8fHC2ze3d1NJBIRbXNdXd3Zs2eDcfjs2bONjY37HnEAbfO4uDgJCQmgjrh37155eXmQi+Jr2uaVlZVqamqTJ0/u7u5ua2tramqSl5f39va+fft2dHQ0gUDQ1dUF2aMQ7O3tJSQksrOzaTRaTU2NpaUlDodDLv1wEHpfw2Awli9fvm3btr5dYVdX1/r16xctWnTnzp1p06ZdvXq1350P0NfMmzevb0YdGIbb29tdXV39/Pyio6NBv99vgrr8/HxbW1ukYrm5uZKSkpqamiDZEUjji3yP5+bmamtrS0lJ4XC4FStWVFdX998WX2GEcra4uLiANEwoFAoIggnYzE1MTLKysi5evHju3LnU1NSJEycOsDcgaS4iIiIuLo7D4cBlYLFYKSkpIiIiyPjz8OHD27Zt6+joKC0tNTExoVKpVCp17969kZGRMAxDEITH48E3FARBtra22tra/SZaQb5EXrx4gcFgEOmAqVOn6ujopKamgjJ4PB4MhpWUlEB9htdmQyMvL+/9+/ft7e3h4eGvXr0SFxf/+PHju3fvkFOYOnXqjh07HBwcxMTEEA03BBQKxS9HgsPhlJSUgO+spqbmAO6e/HtA/hcVFaVSqUCLz8TEBNxM0Ne1zbFYLBqNlpOTk5KSkpOTA7nQ5OTkgEzf2bNn9+3bJ6CV1dLSoq6uPnPmTAKBoK6uvmbNGh6P93OmQq6pqXn69OnmzZv7nr60tPT58+fV1dXd3Ny2bNnyNR2pr1FXV1dfX99vpnkSiXTz5k0gwPrmzRtHR8d+jbggz4xAxQwNDcEnMxi537lzB4KgJ0+eWFpaXrhwoa6ubtasWXFxcR4eHmQyeUgVHgDh9DX19fV+fn61tbXgJw6HExUVBW9FBKApKy0tLSMjExsb21effDA0NjZ2d3cLPOTAumliYrKKj77yNFgsVkxMbOBJUzKZzOVy+bXNSSTSUBWDfhAPHjzw8vJiMpkUCoXH482ePZtKpd66dQusxePxZ86cWbNmzYcPHyZOnHjr1q0fmubByclp2rRpa9asSU1NjYyMdHFx0dDQGPzm4A6eMmUKcr2WLFkiEDQwadIk/lypCgoKeDxeID3pT0JBQUFnZye/ECICDMMvX77MyclxcHC4deuWgHvON9m3b5+srGy/ZkEul5ucnAysE6dOnepXXrq5uTklJYXfbV1SUhKLxUpJSSEdk7i4+KdPn1gs1vnz569du2ZrayspKZmcnLx///7Kykoh+p0Jp68pKio6e/Ys4mcFJhcElErPnj0bFRWVkJBw7969y5cvx8TEfMeB9PT0WltbQTcMQRCLxdq3bx+RSJSQkOBP256YmJiUlCSwLcgqi8SG9fso6ujoAHs+sqS3t7fft8oIA8Pw06dPDx8+/Nc/hIeHk0ik6Oho0DNSqdS8vDwgDApBUGhoqBDfSH0hEAhubm46OjoNDQ07duwIDQ3ll6SD+WTq+0VZWZlOp6enpyNLHjx4gOSHBVhZWfF7LYKLC0R/fzaePn0qJyfX7zvp7du3S5YsWb9+fWJioqqqqo+Pz+DdKTkczu3bt0EWp75rX716deDAgbt3796+ffvx48eBgYF9PS3z8/O5XC6/ctPYsWMlJSU7OjqQFzaFQlFUVASCZ05OTmChuLi4v7+/oqIi4qA7fITT11hZWTk4OAClLzabHRsbCwaNYC2DwQgLC3vw4EFGRoaGhoa6uvrNmzevXbt27tw5ZHQD/+NqDCbtwFAFqOqBWVIYhmk02rx583R1dbdu3RoQEHDz5s0dO3bIy8srKSmZm5s/ePBg69atKSkpBw8ePHfuHJCehiCooqKira2NzWYnJCQQiURfX195eXkMBvPu3bvc3Nx3796BmXLwwly0aNGsWbPi4+NBxu60tDQymbx582YYhru7u0F9IAiiUqmgPvCIaJtzOJyAgAASicQ/WBMTE1u9ejWVSt25cyeTyeRwOPHx8Ww2287ODuRsEhg2s1gs0NuC1iaTycgYobu7G0xtChwXOI+CDyUYhqlUKuID8v79+wsXLsyYMUNVVZXL5ZaVlYFVWlpaHA4nOTk5Ly8vNjYWgqDq6uqqqioGg8HhcKhUKngejIyMJk+eHBkZ6e/vn5CQcOLEiVu3bvHnPoYgyM3NTVdX96+//gLVePPmzdixYx0dHYXYsIMEhmEejwfyOjCZTDKZLNCNFhcX9yvZl5eXt2XLlpCQEGBwDAoKGjt2rIuLC7+PHHAF6OnpYbPZXV1d/D0RENXmH4MAwLVet27d+fPnJ0yYIC8v//z588bGxsDAQAF/34qKCiwWy9/XiImJBQcH19TUgAFLc3Pzq1ev3N3dcTjclClTDh48CK4jDMNFRUVACXRYbcePsGzDN2/enD59ekBAwPLlyw0NDd+8eYOsKioqMjU1rays5HfEqK6unj9/Ppiuevr0qaOjI/hc19XVPXz48IYNG0RERAgEQmBgYHR0NFBjWrJkCZ1Of/z4MRiui4qKBgYGghQL79+/BwYgAoHg6uqK+C+MGTNm7NixEyZMMDMzmz59OjA8s1gsV1dXAoEAZn8XLlwIQZCkpOSePXuoVGpra+vSpUt1dHScnJwsLS2zsrLYbHZqaqqcnBwajba2ti4pKQHC9zo6OqWlpQM3y/BtwxwOJygoCI/Hy8rKHjx4EFkeEREBfPlERES2bNnS3d2toqJia2u7evVqbW3t9PR0fjvlw4cPwVysvLx8WFjYggUL0Gi0uLj4oUOHdu3aJS4ujkKhPDw8+N2dcnNzgSi3lpbWjRs3duzYgcFgQGfNZDKrqqrk5eWxWCwYVCooKKxZswb+J9U0sKkBpT4XF5ecnJw5c+ZgsVhxcfHff/8d7L+0tNTS0hLUf/78+RUVFQKGVS6Xm5WVpaamZmNjs2LFCltbW2DOHD5DtQ339vauXbvW3NxcUVFRRkbGzMzMysqKv8DkyZOtra0FtuLxeNOmTQOZUpCFZDI5KCgImXyAYfj48eNTpkxRVVWVlJQ0NTXln3KqqqqCIMjX11dgPqi5udnNzQ2MWZCFLS0tLi4uiHcP4NixY0Qi8f79+/wLWSzW7t27Z8+efeLEienTp69evbqzs5PH49XV1dnb2zs7O4eHh//5559z5szJzc0d0sTfCM1DwTBcXV198+ZNkJ5x8PX7DthsdnV1NZlM5l/I4/Fqamr4s6nDMDxmzJgNGzZ0dXXx528HtLS0DDCl19vb+7WkpUNC6L58XwN45VEolMrKSgEvL6HDZrMvX778xx9/lJWVvXr1KiMjIzo6WkdHB0xLcbncmpoa4MPW12lNoM4VFRUtLS0DtDOXy/306VNZWdlQ518H4PvmoQagoKCg77zq8OHxeElJSQLuI0OipaXl1q1b/K8QAMg9e/369b7Vfvv2bUxMTFZWFp3ef4cwACPny6ehoTEkA+F3g8Vi+x4IhUL1+zEPw7CA5jlgYCMxSO0yjDqONCCr5zcTewqF9+/fr1+//sSJEzo6OuDDp7a2Njk5GYxM0Wg0ciEG9lhDoVDfDHpAo9ECToY/Id9M2vl9oFAoxBDxfSgoKCxZsqTvciwWa2xs3G/CXxMTEyTJjHD5KWZYfgQgkwZIKtrQ0KCoqDgqOSwsVFVV1dTU9uzZc/v2bUNDQzqd3tTUdPTo0VH1qVEG4Jfta+h0el5eXmBgIBqNBtpIo32NsJCXl8/KysrOzq6vrxcTExs3btzUqVNH9cBGGZhv9zUoFAqFQglx6mtkIBAIixcv5l/yr5wCBoPhcDj/udb7JgoKCgLugv+tcwShpP92LX41OBzOABGC38572dzcvGHDBoHkeKMMktTUVP7EtaP8DBQWFqqqqo4OxIROT0+PhYUFiEPsizBz7I7SlxHLsTvK4Pm+HLujfJOBc+yO6g2PMsooI8FoXzPKKKOMBEKbh6LRaM+fPy8vL4dhWF9ff8aMGYNX2amtrc3Ozga+8KKiosbGxsCjdGQAUl5Lly51cXEZsYMOh5SUFAwGM3fu3CFt1dDQsG3btsOHDw/JAYdGoyUmJra2tpaUlKDR6C1btoyYt0tXV9e1a9cEooc8PDz6jQYYSWAYLi0tzcvLYzKZMjIyM2fOHFKVYBhubm7Oysoik8k4HM7CwkJfX/87dDbr6+sfPnwI1JcQmpqanj9/3tDQICkpaWZmNmnSJGCshWE4KyurvLwcg8GMGzdu2rRpyOPZ3t6elpZGoVDExcVtbW2FGZQggLD8hnfu3Llnz55Pnz4lJCTIyMj89ddfg3c3BEquwCEqIiKiq6tr8Nt+N4hzbW9vr5yc3OnTp3/EUYTuN9zb22tiYmJra9vT0zOkDT9//iwtLY1IrA6SkydPLlu2rKOjo7y8XElJ6ciRI0PafDiEhIRAEARiICQkJERERNBoNJAlGibD9BvOzs62srLKzc1tbGw8f/68hYXFkGrV1dW1fPnyzMzMhoaG3NzcmTNnAumfwXPjxg17e3sNDQ2gl4jAYDAcHR1jY2MrKyt9fHwUFRWBkBAMw4cOHQoICKipqamoqFi8ePHGjRvB/d/V1TVx4sSQkJDGxsbIyEglJaXhuCmPRIxCTU2NsbFxXV0d+HnhwgUUCvX69Wvwk8fjCehmAUDEIPITTFHn5OQMfKzhw+VyExIS+DsXJpPZr87Q8BF6X/Pw4UOgy/Hy5cshbYjoNw8eDoejoqKChNh0dnb29Xb/QbBYLAcHB/6bYefOnYgq4DAZTl/DZrPXrl2LKOCxWCxra+uzZ8+CnyBEs+9W/DfYnTt3+OPawsLC/vjjD+SngGA2/3Lk/+rq6rKysjt37khKSvKXCQgI8PT0BCU5HI65ubm+vj6PxwNiLy0tLaAYhUJB4hN37dqlrq4O3u5sNltHR2fTpk0CAomDZyS0svLz84uLixHBmmnTpomKiqakpICfJSUlixYtEkh/09ra6uXlVVFRgSwBw0hkfh7EZ4I2amxsFDhie3t7eXk5v4sEDMMtLS0gbhtZyGKxQIRUbW0taHEYhh8+fOjt7U2j0ZAYfBQKBb7g+KsHRMkEDspgMOh0emVlJTwiEd59SU1N9fLyAt8Xfde2tbXV1NQAUXGBVcBJCkk5xGAwvnz5Am5EELUkUJ7L5VZXVzc2NhKJRCaTCQTJ+ZV9IAjq6ekpLS1FGhzRkAdPC/gf3LgQBMEwXF9fz+PxysvLkfj+jo6OsrKyvuoTKBQqNDSUX83j4cOHf/zxx5Da6kfA4/E6OjpOnDgB1MVQKBQMw0j9CwoKfv/9d4FWamho8PX1RZRrqqur09LS+OVmkIsFw3BgYCBQyePfw8WLF48dO4YcRUNDQyAmHvDy5ctnz56BA2EwGGdn5/Ly8qamptbWVgiCgLgfqDO4QD09Pa9evdLR0QFBPFgs1tnZOT8//0claBPKuIZMJh85cgSJb8zOzkaj0ceOHQM/WSzW1q1b3dzckEi82tpaBwcHIIaA7IRfAxTE8mloaHh7e6upqYmIiISGhoIGKi8v9/DwmDt3rr29vYqKSlpaGgzDnz9/XrNmzbRp0wwMDMaPH19cXEylUi9fvqynp+fm5ubm5qaoqIjFYv38/Mhk8vz589FotKamppWVVWlp6YULF/T09Ly9vUE1Pnz44OLi4uHh4ezsrKamduvWLRaL9fbtWycnJxKJ5Ofnp6+vTyQSZ8yYIaCX3C/CHdd0dXXZ2Ng0NTVZWFiIiIjU1tYiq9hsdlBQkK2trZeXl6qqakREBP+GLS0twcHBioqK4eHhdDo9LCxMXV19wYIFnp6eKioqBALhxo0bAse6d+8eiIsxMTGZOXPm1KlTsVjsvHnzwFoej3fo0CETE5MFCxZIS0s7OTn5+fmlp6dPnz4dh8MlJyfT6XQPDw/oHw3QqKgoAwODSZMmzZkzB41GR0ZGfvny5Y8//pg+fbqOjo6amlpWVtYAEZgfP37U0tICQh/DZzjjGi6XC+LXraysXr58eeHCBTs7O+Srn8lk/v77715eXsgX7qdPnyZMmHD06FFksPD27VsJCQlFRcW4uDgQAc+fgKSwsHDy5MmXLl1CWiMiIkJPTw9RYkXoO655/vz5+fPngeAJDMOenp6ioqIdHR09PT1aWlqioqI7duwoKChYuXLlrl27mExmZWWltrY2CNAHhIaGysnJNTY2fl/jjFycN8KiRYvU1dWRMRsMw2w2e8+ePXZ2dg0NDU1NTfb29gcOHBAY0vP3NW/evNHS0lJQULh3797bt2+nT58uJycHnm0HB4eQkBAmk9nd3a2srLxgwQIKheLh4bFt2zYKhdLQ0KCpqWlgYEClUt++fUsgEPT09B4+fJibm+vq6orD4e7fv8+vbU6lUnNzc/F4PNAbbmpq0tTU3L9/PwzDNBpty5YtJBIpLS2tvb3d3d1dREQkODi4tLR006ZNeDw+JSXlm00h3L5m9+7dmzdvBo8uBoNZv349ckf29vaOHTu2oqKCy+VeuHDh77//5t+wra0tMzMTg8GEh4ez2ezS0lJFRUV1dfWHDx8WFhaqqak5ODgIHIvH4wEV19zcXCDhm3eiAAAgAElEQVQ9o6GhgegNv3v3TlZWtrq6mkajOTo6KioqXr9+vbu7++bNm4jeMBhIgr4G6PurqKgkJydHREQUFhYuXrw4ICCATqcXFhYSiURra2uBwH1+PD09gaKIUJpxmPaatrY24K4mKytrYmLy6dMn/rVkMtnX19fR0bGtra2urs7a2joqKoo/6RCLxQoPD4cgiEgkSktLA5Vu/j0UFRVZWVlduHCBy+WeP39+9uzZ/WZD6tvX8APySf3222/gZ0lJCRgkkkikFStWACWGT58+qaqq+vr6IltduHCBSCQixpChMkJ6wwAul3vu3LlHjx5FRETwB1JjsdjAwEAtLS03Nzd7e3t9ff2dO3cOEKqnra0tKSmpqKjo6OhoZGQ0adIkOp3e2dlZVlb28eNHoBcpJSWVmZl5+PDhlpaW7Ozs8vJyX1/f3bt3YzCYlpaWtrY2ExMTGRkZOzs7Ozs7c3PzkJAQUVHRqKgo5CgoFIpIJJqbm8vKyoIlycnJDQ0N06dPhyCIQCAEBwczGIzQ0FASiaSpqSkpKeni4qKnp2dra8vlcsHQdMRob2+PiIiYP38+jUYzNjYGY7r6+nrkXAgEgru7e1lZmaenp0A+Pzk5OQsLCyC1hcVi9fT05OTkpk+fbmdnZ2xsPGvWrL5SjyA2BYIgNBoNlGv4JxafPXvGZrOlpaUJBMLy5cvpdLqOjo6UlBR/GVHR/3MNNTc3FxMT09XVnT9/vq+vr5SUVFJS0suXL9evX//3338DpbivaR53d3fHxcXNmDGDf4f/FjAMczichoaG2bNnS0pKvnv3bvHixfzKnuLi4qdPnxYTE1u1atX06dNtbW1XrVrFH4vH4XA6OjqMjY1NTEwoFMqOHTvy8/P5D2FkZBQWFnbo0KHFixfv3r375MmTQ02USKFQfH19x44du3fvXgiCgMabqKjoihUruFxuXFzczp07gWFI4FsbfBLCP8Y+IOTYy7S0tIsXL167dq2vfhoOhwsICDA1NeVwOFu2bBm82z4KhUIuVWpqqoiICGLTmTBhAgRBBQUFTU1Nd+7c4deO6DsNKSkpqaWlJWA2EqCyspL/J5FI1NfX5zcqAf6VgGYwMAkLC0Oj0SDGqq2tLSsr67fffoMgiEAg+Pv7+/r6WltbL1my5ODBg4Pfs4Co+GCwt7fftm1bfHy8t7d3W1uboqIi0l8PAA6HA1a54uJiUVHRNWvWTJ06FYIgECKLJFoSIDs7m8vlOjg4DLWSPwImk7l27dply5YtXry4u7v74sWLx48f37RpExjQgTJ4PP7kyZMmJiY4HM7Ly0sgRAiIdYKB1f379wMDA93d3SsqKvivwsSJE93d3UNCQv7888/B57oEwDB85MgRMTGxu3fvAh3ex48fe3h4pKenm5qaFhUV7d+/Pzo62t3dXVVVVUREhF85lMFgiIqK/qCsZ0Ib18AwXFZWFhgYGBMTM2/evIaGBkQVGNDY2Ojs7Lx48WJXV9fffvvt+1IF43C4lpaWnp4e5KA0Gg3cweXl5VpaWtra2tra2mpqavyy2AgoFAp0T1+DSCRyuVz+nO1AxP87qipcYBhOTk5+8uRJcnJyUlJSSkrK7du3uVxuZGQkMBmi0egVK1bk5eUpKipGRER4e3sPNeH3kBg/fnxQUNDmzZuXL18eEhJy8OBBfnnpb74Y8Xg8sBxr/4OcnFy/cvc8Hu/FixcmJiZ6enpCPofvgkwmt7S0gCyAioqKe/fu/fPPP0tLS5H7DXy/TJ06NSAgwNLSctOmTfymVg6Hc/ny5aVLl4qLi0tISCxbtiwsLKy7u5tf4prH4128eDE+Pv7atWvR0dGxsbGDH2hwudxjx47l5uZGRUVpaGhkZGS0tbWlpaW5urqamZmhUCgTE5Pk5GRzc/PXr19LSEhISUnxP4lNTU1ycnI/SBFBaH1Nfn7+H3/8ERQUBGxLsbGxyPAegqDW1lZfX98FCxacOnXqwoULs2bN2rRpk8AQAzwzYFAnMJCD/5nImD17NovF+vPPPz9//gzDcFFRUUBAgISEhIqKyt69e8EFa25uXrVqFTIYQUaJHR0dX7588fT0xOFwKBQKfLKCORTkcNbW1jweD5lQA5mJgEgo/1wJUh9htd43KS0t/fLlC//sw7Rp02bOnPny5UuQMY5CoYSFhRkYGDx8+NDKyqqqqqqvsD7MN2PCX3lg9Ol7UPj/lyjnLway08XHx+/atauoqAjY2iAIEhUV5fF4YCIGdNmITZR/D/r6+igU6ty5c+DbrbOz88iRI31nGyEIAkOAXbt2DbXFfhC8f0CWmJmZSUhIIB+PFRUV69ev3759u5+fX3x8/JgxY/78809klpPH44mJifH3qmPHjhUTE0NExWAYvnz58q1bt1JTU1euXPnq1asrV67ExcUN8maLiop69+5dSEgInU6vqamJiooSFxcHFmL+PYAkovLy8hMnTqysrARfrzAMv3jxYuLEiT9KJU4otmEqldrXGxXxr2ltbdXQ0AgMDES8adhs9vbt2ydPnoykH+PxeMCXD7yoq6qqtLW1dXV1u7q6mEzmihUrREVFgUfJsmXLIAjC4XAKCgokEunly5dsNtvb2xuCIDQaDQauSMa1MWPGkEik169fk8nkqVOnrl69GobhtrY2CQkJQ0PDLVu2nD59ure3F4fDITMsMTExoqKiWVlZHA5n5cqVtra2QI3V1dVVUlISnBQw+hw6dOibIqFCsQ1TKBRg6hLIa/73339DEKStrd3R0dHd3T1hwgQwU+Pg4LBgwQIB0/vnz58xGIyfnx9obQkJCUTa1sbGhkgk9hXZjIuLgyAoOjoahmEul0sikaZOnQpWAd1yBQWFqVOnOjs7+/v7g0nG3t5eFApFIpG2bNkCZN+UlJSuXr1aUFCgqKhobGyMTNls3boV3Cfq6upoNHrXrl39ujiBPI3DbEABhmMbZjKZwBcONFdLS4uRkdGdO3fA2sbGRjCuRMqzWCw3NzdnZ2fENSk8PBy8MsHPHTt2BAcHI+VDQkJUVFT47c0fPnyQlJS8cOECsoTD4fT09OzcuRODwbx58wYxmd+/f19A0F5PTw+G4cLCQhQKde/ePXC7FhQUWFhYgBSdOTk5RCLx8ePHMAzn5uZCEJScnPx9LQN/yzYsnDjvgoKCvu4ewcHB4uLiEATV1dUlJSX5+Pjw22hAugUnJyclJaUPHz4kJCSAUSgejwfpHIuLi1Eo1JQpUxQUFFJTU3k8nqampo+PT0dHx6VLl0pLS6WkpJYvX25paYlGoykUSmRkZGFhIR6Pnz179pIlS8A3p4qKio6OzoQJE9hstqGhoaenp7S0NAzD169ff/r0qZGRkbu7e1xcHEgMYm5uvmjRIjCN8uTJEyKRqKSktHr1ahKJlJ+ff/PmTQ6HQyKRvLy8zp49S6PRCATCxo0bB/bpHn6cN4/Hi4+PBxk4LSwsEEnHtLS0p0+fgswbxsbGS5cuBTYaHA7H4/F8fHz4ZUDevXuXlJTU09ODQqHs7Ozev3/f0tKCQqGmTZtGp9Pfvn0LQZCampqPjw9iNaioqIiJiSGTyVgs1tXVtbq6urCwEIKg8ePHr1mzpq6uDijAg9QIIGlXTk4OHo9/9uzZ1atXiUTiihUroqKibGxsZs+effXq1ZaWFjQaraGhsWnTJgiC6HT6lStXXr58KSoqamNjs3Dhwn5Nv2lpaQUFBXv27PnuBuzLMOO8m5qaIiIiKBSKrKwshUKZNWvW/Pnzwary8vKnT596eXnxW/RYLNbt27fnzZsH7IlMJvPKlSv5+fljxoxhMpmqqqpr1qwB5w7DcExMzKRJkwRUOIuLi6urq11cXEBX8uLFi5SUFGAegmEYgqAjR45AEBQWFgZc0hC0tbXBlFl+fv61a9fExcUxGAyFQlmzZg3Q54cgKCMj48GDB2PGjKmvr58xY8aSJUu+I2ACqecAcd4/ZM77RwN8xgReg2ChgMsj0DYHllSBnbDZ7AFGJRwOh8Vi/be0zcG0AuJK9+Po7e01NDSMiIhgMBhUKpVMJnd1dTk6OgK3SXAhQLIdgYFY3zqDSzZAhdls9ne7sX6N4Wub83g8cNYMBuM7Whs4W3R3d1Op1B/ksN4X8EoAyWEEKgMmeRHHnO9m5LTNRwyg4/3NhVwuF7j59mtXHzibJQaD+UHW+B8EeOP12zJCp6qq6uPHjy9fvkRsugUFBZMnT5aXlxeow8BWxsHU9idJOioACoUCY/bv3nzwkcnCAkjf91sZUVHREfAn+GU1JVpbW//666/Ozs579+4dP368vb39367Rr4OhoWF4ePiTJ08WLVo0f/58f39/ZWVlf3//f7teo/zU/IwvDaEgIyOzYcOG9evXQxCEwWD+WwlYfnJwOBxo29bWVjExMUlJSQGT5Cij9OWX7WtwONzP4BfzC4PFYkdVqEcZPN+eh+rp6Vm8ePGo6Pz3UVtbq6qq+t8y/fzyAKeHnyHi4ReDxWL5+fn1m/0OGsy4pqyszNjY+OdxpvpvYWJiEh0d3W/izVH+LXbv3u3u7m5mZvZvV+RXo6ys7Pjx49/f14AZMhKJJOyK/U9AoVCkpKRGW++nAoZhMTGx0YsidCQkJAbQvvnp5qF4PF5NTQ1wYRzlh8LhcFpbW4UeNsXj8dra2n6lj27geyLcfcIw3N7eLvRW4nA4LS0t/UaWUSiU5ubmr11uDodTVVUlsJBGo3V1dQmrbj9XX9PU1GRsbKylpXX06NF/uy6/OLGxscrKyo6OjlpaWvHx8ULZJwzD9+/fV1ZWtrOzU1BQuHDhglB2+y9SVVU1ZcqUKVOm6Orqent79w0x+w5gGH706JGSkpKVlZWsrGxoaKiwepysrCx1dXVNTU05OTkBR/+QkBBtbW13d3cTExP+QEWEs2fP7t+/H/nZ29u7bt06kD3ZzMysrKxs+NX7ufqaMWPGXLp0SUlJ6d+uyC/O9evXX79+XV5eXlhY+OTJk4iIiOfPnw9/t9nZ2enp6R8+fHj37l1lZeXjx49TU1OHv9t/i+7u7u3bt1+4cKGysrKyslJTU/Pw4cPD321paWlCQsL79+8/fvzY1NRUUFAA4s6GSUpKyunTp1+8eNHb25uQkHDixIkNGzYA5dZjx46FhYUVFBS8evUqMDDQ2tq6tLSUf9tHjx7t2LGDf8mhQ4ccHR0bGxvLysoOHDjg6+vbV1V2qPxcfQ0EQUpKSqMTBD+akydP6uvrA70YLS0tFxeXoqKifkuC4FiBhQLazAiZmZlaWlrAe1hWVtbGxiYmJkaoFR9Rnj171tPTo6OjA0EQgUBYuXIliAjrCwjOEFjY1dXV7/OZkZGhoqIC9JUkJCQcHBzu3r3btxgMw/1+v5DJZDKZ3Hd5enp6SUnJmDFjMBiMvb29kZHR3bt3a2pqent779y58+eff6qoqIBoOAaDwX9dKBTK1atX9fX1+ff25MkTU1NT4Gc8bdo0GIb7fmENFSH0NVwut6amJiEhISMj4/Hjx8HBwSdOnEBqxuVys7KyoqKiTp06dfv2bX5pmHfv3l25cuXo0aMxMTF1dXXDr8kog0RBQSEiIuLOnTtMJrOrq+vJkycCtxqAx+OtXLny5s2b/A/Ss2fP3N3d+7UIyMjIHDt2LDY2lkwms1is/Px8JCjxvwiJRMrLyzt+/HhTUxOPx3vy5Im2tnbfYjwe7/fff79y5Qp/K+Xk5Li5ufXbWZBIpPDw8CtXroDOKDc318rKqm8xBoOxffv2gwcP8puK3r17N2fOnNevX/ctD+Y6gU4LGo2WkpKi0Wjt7e29vb2fPn2aOHEiKCYpKUkkEvPy8mg0GgRBMAzHxcU5OTkJaNf19vZu27atoKCAy+VWVVWx2WwNDY1BtNmADD/2srm52dPTE4/Hy8vLW1paOjs7o1AoXV1dEMrl7+9vY2NTWVmZm5urrq7u4OAAVAVu3Lihra2dlpZWW1vr5uampKRUWFgIw3BdXZ2Ghoabm9uQA79+SkYs9nJIlJaWSkpKggBrCwuL48ePMxiMfkuWlJTo6+sjwvJJSUlycnLPnj372m61tLSwWKy1tfW8efP8/f2FHjYpFAYZe8lms4EMvq6urru7u4ODA9Bh6EtlZaWxsTFQsIZh+MGDBxISEhkZGf2GZba0tBgYGICofRcXl82bN/crtMzj8VpbW6dMmYI0Y3V19YQJE27cuNFvuCaFQmlvbwdH7O7unjx58rhx42pqavLy8iAIev/+PVLS1NTU1NQUyI88e/Zs3rx5DAbD3NwcESeGYfjvv//GYrGysrJr1641MTEBORi+yQhpm0tLS8+fPx+0wvHjx9Fo9IkTJ/Lz87FY7MWLF0ETPHz4EI1GHzp06MuXL2ZmZitXrgTLi4uLMRiMo6Mjk8kc7WtGhoiICGVlZRwOJyEhERMT028CL0BRUZGlpWVUVNT9+/enTp2akZHxtZJcLvf27dsgkA+Hw504cWLgOO9/i8HHeX/8+FFXVxcMGdauXfu1vgaG4eLiYktLy/Dw8MePH1taWqampn6tJI/HS0lJERERAfLPhw4dGkDUnUajzZkz59ChQy9evDA0NASG5G9WG7wSQkJCeDweUHjgF8SxsLCYNGlSQ0NDa2vrypUrQdYEgb6ms7Nz3rx5MjIyKBTKwMBgkMnIRqivUVJSQopVVlYqKirOnTs3NDRUREQkPT0dLOdwOFpaWpMnT3779q2srOzJkyfBci6Xa2pqqqKi0tvbO9rXjAAxMTH29vaPHz++cOGCvLw8kUgEQpNfo7CwcMqUKfr6+iBDztfIysqysrJKTk6Oi4tTVlYWEREJCAgQdt2FwCD7mpaWFicnp9OnTz99+nTWrFkoFMrd3X2A8p8+fZo5c6aWlhYindUvxcXFNjY2SUlJSUlJKioqeDx+06ZNA5Svra2dPHmylpbW9evXB9PRFBcXa2pqhoaGgo4eiEwiyfNgGDYzMzM2Nm5qagoNDb19+zZYKNDXbN26ddWqVbm5ub6+vigUSk1NDaRLG5gRzaMAIBAIkpKSIiIiYFCHyANjMBhVVVUajUan06lUKiJ0ikajDQ0NgezTKD+a2tpaX1/fnTt32traent75+XlmZiYXLx48WvlYRhuampis9l4PL7frHVIsW3btm3evNnV1dXDw6OsrGzu3LmHDh3it9D9h4Bh2NfXV1lZeePGjdbW1o8ePdq3b9+DBw++ZiKFYfjLly90Op1AIICRwteKrV271svLC6Qtq66uXrRoUURExACS+21tbT09PaKionV1dd98RkpKStatW7dhwwZfX18gqEIikdBoNL9EN5VKFRUVra2tvXr1qoSERHZ2dnZ2NtBRzs7OBrnGX758efz4cXNz84iIiMzMTC6XGxoaOriW+yo/pK9hs9l0On369OlqamocDgdkCAaraDQa0GeVkZF58+YN0nbd3d2qqqo/p1jJL0Z9fT2bzQYJDCAIGjduHBBC7bcwDMMJCQl79uw5fPjwlStXrl69CgQu+5ak0+ktLS2IBVFCQmLnzp3Q1yetfnI4HA7QygT3JA6H27Jly6RJk/omt4EgCIbhlJQUPz+/PXv23Lp1686dO6dOneqbzBOCIAaDUVpaCua2IAjC4/Hbt2+Xlpb+Wo/8+fNnPz+/AwcOpKSk3L9/PygoCNh0+6W7u3vfvn3+/v6bN2/GYrG3b98uKysjkUjq6upIF8lgMMhkspqamoqKyvbt23t6epqbm5ubm+vq6uh0+pcvX2g02suXL0GycLCJjY2Nu7v78GdvhNnXdHZ2Ai27goICNBrt4+Pj5OQkLy//8OFDkAawqqqqvLx806ZNGhoalpaWwL8DhuGWlpb09PR58+aJiooCPbevqW2PMnzGjh1LJBLfvHkDHgYYhikUyteCg549e7Zjx44jR47MmTPHxMQkNDT02LFjN27c6FuSSCQqKytXVVXB/wi/9/b2Kikp8edX+A+Bw+HMzMzy8vKQ1yGdThcVFUX6aH7evHmzffv2Q4cOubq6GhgYhIaGnjp16vLly327GwKBYGBgUF5ejtzeZDKZRCIhvQ8CDMMlJSUWFha//fbbsmXLNDU109PTc3JyQDbBvnXo6Oiws7OTlZXFYDBpaWnx8fFAiVVSUtLMzCw2NhZ4DJeXlwMbkJqa2vLly5cuXbpkyRJ3d3ccDqeiorJo0SJNTU1LS8uGhgak++NyuVQqtW8WpiEjRHvN2LFjFy5c+Pvvv1tZWSFTFWVlZc7Ozg4ODlu3brWzs7t8+TKY8mhpafH29p46dequXbvc3NyCgoLA/Jy3t7eoqOi4cePOnz//zYP+/PyE9houlxsfH29ra3vkyJGEhITdu3evWLEC3P19S9rb2z99+pR/YUlJiZubW78pKJ89e+bg4LB79+74+Pjjx497eHiUlJT8oLMYDoO019TX1y9dunTdunU3btw4f/78kiVLEOsGP1wud/bs2YhREgA+jvq99EVFRU5OTrt27bp9+/apU6eWL1+ek5PTtxiFQvHy8rp69Sq/fb2urm7BggUPHz7sW37Hjh0COsH6+vrd3d08Hi83N1dHRycoKCgtLc3d3X379u38044vXrxYsmQJkUgcN26cp6fnq1evOBxOYGDgvHnzIiMjr1+/vn79+oCAgMGY+UdC2xyCIGVl5ZUrV27dupXL5Y4dO1ZgbU9PT2dn57hx4wSag0ajlZeXGxoa/qCUNP86w9c2/0H09PQ8efKktrbWzMxs5syZwtoti8XKzMysrKw0MDCYOXPmd2S5GwEGr23O5XLz8vJyc3MVFRXnzJkjJSUllAqw2eyHDx+Wl5fr6upaW1uPgB4oDMOpqaklJSXW1tZmZmaDUS+vra198uQJh8OZNWtWv+5XfRlY21yY9hEYhpE0NwJISUn1e52IRCLI7DHKCCMlJeXm5ib03eLx+Hnz5gl9t/8WGAxm6tSp/X43DQccDufs7Ozs7Czc3Q4ACoWaP3/+kFwr1dXVV69eLcQ6CMdew2Aw2tvbRzi/9SijjPIfQgh9TVtb28mTJ5csWYJCoWJiYoQSCzvKKKP8YgjhG0pOTg7MbgJ+VcvLKKOMMhy+3ddISEgwmcycnJwRqM2vh4yMzNu3byUlJf/tiozyf9Dp9PLy8lFnLqFTW1s7QEKBbze3tLQ0h8NJT08XZqX+Z9DQ0MjOzh69rX8qOBxOcXHxqLSA0KFSqRMmTPja2m8/A/X19WJiYkFBQcKs1P8MsrKyN2/e/AnnvP+X8fb2Xrhw4Xfn8x7la4A5782bN/e79qfTyhpllFF+SYSjlVVdXZ2RkeHr6wuWkMnkwMDAe/fuDX/nowidvtdrqLBYrN27d8fGxvYb8vOLweVyKysrP336JNzdstnsoqKihoYGIe6TQqEUFRXdvXv39evXAg4obW1tz58/T0tLe//+fb8BnE1NTcnJychPLpdbV1f36tWrp0+flpWV9SuNNlSE0NfweLyioqItW7acP38eLCGTyTdv3kxKShr+zkcROn2v11Ch0+nnzp178OAB0tdwOBz4V4xfO3PmzKZNm1xcXMLDw4W1TzKZfOLEiXXr1s2fP//+/fvC2m1TU9O6detSUlK6u7vPnDkzf/78/Px8sKqoqGju3LkvXrzg8XihoaF79uwReElQKJTly5fzP7APHz48ffp0eXl5V1fX6dOnT506JYQqCiseauPGjSgUCvkJRPlG+QnjoQAC12uoMBgMJECGSqXu2rXr5zzNfhm8Vtbjx4+bm5stLCzWr18/QDEQMDyYhTAM02i0Z8+etbS0aGtrnzt37mv75PF4oAcXgMvl9qvLd+TIkV27doEjtra2Ghoa6unptbe30+n0ZcuWzZ8/HxT7+PGjjIxMfHw8/w6Dg4PxeDy/fs3ChQsRwZrm5mYzM7PBPNEjpF8jMNVCIBCam5vB/zAMA5s/mUxubGwU6FO7u7v7jiRbWlqqqqr4c9lwudyenh4ej9fc3Py/MHT/0fSdGmMwGPX19X3blkaj1dbWMplM/oUiIiJAyq+np2fDhg1PnjwBIf7QP5mPmpqahJ55auSxtbVVUlKCBxyywTC8b98+RIwJ4cSJE93d3X3LEwgEKyurb8ZAMZnM8PBwAQkLBoMRHh4O5K8EKC0tPXfuXGNjIwRBcnJyenp6nZ2dVVVVvb29eXl5y5YtA8U0NDTExcXv3buH6K5XVlb29PQggsSAoqIiZFiEwWBwONwASeYGyQ+xDT9+/NjCwmLu3Lng/9mzZ2tqagIJuHHjxp05cwYUo9FoGzdulJWVVVVVNTAwAM3U0dGxaNGimTNnWltbGxgY1NTUsNns27dv6+np7d27d8KECerq6hUVFT+i2v+zsFisgICAMWPGzJgxQ1ZWNi4uDnm6MjMzVVRU7OzsSCSSh4fH/v37i4uLX7x44eDg4O7uzmKxTp8+feXKlby8PBUVld27d0MQFB4ePnPmTGdnZ3Fx8QEkoH4ZUCgUHo/39PTkz5qwadOm58+fDyeoEo/HczgcINaJLLx69Wp4eHi/IYQuLi7Lly9HAhIpFAqXy+VwOF1dXVVVVXp6emA5gUCQlpYuLy8H/SAMw1u3bl25cqVANObYsWOXLFmye/duJpOZlpYmLy+voKDw3ecCEH5fQ6VSa2trkQaSlZXlcDhcLre1tTUjI8PBwcHf37+jowOG4W3btomJifX29mZmZpaUlGzevJnNZl++fDkpKSknJ6ekpKS9vT0uLo7NZn/69KmqqurZs2e7du1at24dEGodRVjs27fvzZs31dXVNTU1J0+e3Lx5c1hYGARBdXV1q1atunnzZnFxsbu7e0pKCofDAZcsKysLjGL27dunq6trbm7e2tp69OjR4uLivXv3RkdHFxQU+Pn5CT1d5M/Jtm3bJk+e7OTkVFNTQ6PR/vzzz6qqqosXLwokJxgSaDTaz8/v2LFja9eurayspNPpwcHBtyEjFGUAABoiSURBVG7dSk1N7Tc9vLu7+/nz5zEYDARBnz9/Li8vnzx5sqGhYXt7OwRB/AH3oqKi4BOYw+EAZSKBQQ0EQUePHp00adLRo0eNjIz+/vvvkJCQ7z6R/zuj4e9CADExMZAXAfycOHEi0AHasmWLlZXV8uXL6XQ66IwuXbqUn5+/cePGa9euQRD09u1bFotlamrq7+8vIyODx+NlZWXr6uqIRCKISJ4/f76np2doaKiKiorQq/0/y5cvX06cOLF06VJpaWk0Gr1ixQp9ff3t27d3dnY+evSop6dHVVWVQCAsXLiQx+OZm5tramo6Ozsj708UCoX8hf6RyLp06RIKhVq9enW/T8Wvh5iY2KFDh6ysrLy8vDZu3FhfX3/nzp3h36VYLHb9+vVOTk5WVlb+/v5xcXHXr1/vq6rVl1OnTnE4nCtXrkhKSoLuHrlA4H8gR/fp06eWlhYfHx/+tQAVFRUsFmtmZlZdXf3p06eIiIhhngv04/xrBM4NgiDQ44IhCY/Hy8/PJxKJS5cuXbt2rbe39/Pnz+Pi4kRERGbNmuXm5nbs2LGdO3d2d3fzj0uJRCIKhcJgMH2bZpTv5sOHD1wuF3nv4XC48ePHczicxsZGY2NjJDwFhmECgUAikUCxrwmgTJgwYfXq1deuXRs/fnxhYaGsrOzInMW/DhaL9fb2ptPpSUlJ27dvH86Ihh/QZSsrK0dGRkZFRSkpKQ188zOZzNOnT2dnZ9+/fx8knwPdPb+5jc1m43A4FosVERGxZs0a8GDy09nZ+fvvv/v6+r5+/TolJWXatGlnzpwZvgvLv+Y7z+PxmEymoqIi4r5Jp9O5XG5iYuLWrVsTExPNzc2fPn36b1XvfwfQayA2SDQaDd4HUlJSY8eODQ4O3r59e35+fnZ29pYtW6ZMmfLNvUVEREybNm3jxo1eXl7t7e0bN2780afwMwDD8J49e8aNG+fs7Lxv376MjIy+z/D3ERISQqVSg4KCVq9enZaWNrCmamxsbEZGRkZGhqKi4sePHyUlJRUUFMBEDbDy8Hi8rq6ucePG5eXlxcbGPnv2DHReNTU1ZWVl+vr6+/fv7+7ulpSUXLFiBQaDmTNnzpQpUzw8PC5dujTMzIJCG9cI2OrBLFe/qwB6enpsNjsqKgpoX1MolJMnT9bX1587d05RUXHatGloNJpGo/GPa0ZFiIUI0pLGxsZycnLIxASHw2lqajI0NFRRUeFyuWw2OzAwcNGiRXfv3t2zZw8SxM8/XYXH49lsNrDKPXnyJDo6evXq1RUVFRMmTAB2n18eMpn8/9o797gmrrSPz2QSwiUohBAui0C7jYBCW0CtispFtFX7kYV4o8ulUkRddNXuUiit1NVqFRFwLQJddmULYqjghRZRBNMKCkoxQmFBbkoJt3DPjUwuM+8f57PzsoCIkiLqfP9K5nLmzJnkmXPO85zfEx4e3traGh8fHxkZ+fbbb3t5eYFkUlMpVqFQJCcn8/l8Pp+/b9++wMDAkJCQx0UVajSavLy8y5cvf/3117q6uv39/WlpaT09PbNnz37zzTdBRjoIgvr6+lAUdXZ2BhKlAoHg3r179+7d09PTW7dunUAg4HK5KIqOHD0YGxu/+eabICnwVNCarQEtC1JDKJXK4eFhiUSCoqhGowHWBOwCjomOjg57e3sfH5/8/PzVq1f7+/uvXLlSIpHY2trSaLT6+vqoqKjg4GCRSFRZWXn8+PGWlhZwFunt1hbE82IymSkpKY2NjfHx8WBsW1VVlZmZiSDIrVu3jh8/fvXq1ZycnNTU1KSkJOArRFG0r69PKpWCx+Hq6vro0SMej3fo0CGxWHzq1CmRSMRms+3s7N55553nfaNTQq1Wd3d3i0SiX3/9ddSIfiQHDhwYHBz89ttvraysdHV1v/jiC09Pz127do0KFADgOK5UKoVC4dDQUE1NDdGMYy998uTJhISElJQUMzMzKpX66aefbtq0KTQ0tK2tbezx169fDwkJuX///pYtW7y9vb29va9fv85ms2fNmrVq1ark5GSgVX779m2FQhEWFkahUPT19fX19YFhkslkICs5giAbN25sbm6+desWKLm9vV0gEHz88cfP3o4QBEEQEh39OfFFR2ecIVVbW1t9ff3q1asfV4RCoYiJiWlsbLSxsamqqpozZ05cXByKosbGxkKh8D//+U9VVZWNjU1raytwM1lbW7e2ti5cuHDTpk3Dw8NtbW0ymYzL5X7yySd0Ot3MzKylpaWnp2f79u1Lly795ZdfbGxs+Hy+qampWCyuq6vz9vae4j1PJ8eOHdu9e/c0CMpOnlHPy8XFZeHChSCDWnZ2dkVFRVxcnIuLCwzDdDr98uXLKIo+evSovr6+pKQkLy8vICAgJiYGx3E6nV5VVeXm5jZv3ry6urqGhoa9e/fq6ekJBIJbt25du3YNpDzV1lBCi3z//fdvvfWWtbX1E4/csWNHZmammZkZhULJyckRCoVjtZkxDMvPzz969CjhFabT6R4eHp2dnfPmzRv76AcGBkJDQ3/44QcrK6uhoaHs7GwMw8a6sRUKRVlZWWpqqpWVFehiUCgUFxcXpVJJpVLHSjfweDypVAqcKjo6Orq6uvPnz9+8eTONRlu0aJFQKLxy5UpDQ8OFCxdOnz7t6upKnFhUVBQZGWlnZ0elUjMzMy0tLd966y0nJ6fDhw9XVFSUlpamp6dPZvgMQRDwNQcFBY2/W1txw88GhmGDg4MjE7xiGCaRSIDOu0ajkUqlv9Glp4cZGzc8FrVaLRaLia/Dw8Nbt279y1/+0tfXB/IHPXjwYOPGjZ2dnWPPRVEUhBGDqFaFQtHf3z9u2OtMYPJxwy8NGIa1t7fX1dX19fWNG808FqlU2tLS0tzcDBIuTYaJ44afs64KDMOjNM9hGGYwGOAzMU9JMg0gCGJoaEh8bWxszMvL43K5CoVCT0+PRqOJRCIGg0FEM4xER0cHfAAzzXQ6XVuOGBKtAMOwpaWlpaXl5E8xMDAgMgtqBVLDiWR8OBzOnj17kpKS8vLyzM3NWSyWh4fH/v37n3e9SF5USFtDMj66urr79++Pjo5ub2+n0+lsNpsMayKZCqStIZkIBEEmM4dKQvJEnmxrmEwmDMM//PDDNNTm5cPR0fHGjRszyg9FAsNwdXX1uIuwSaZCd3f3BKkln2xr6HR6V1cXiHAheVqEQuHDhw9nZqrZV5a2trZZs2a9BJIXM42enh7CsTOWJ9uazs5OMzOzP//5z1qt1avCgQMHPvroI1LbfEZRU1Pj4+NDaptrHaBt/ri9pLY5CQnJdPDcbM3g4OD58+cTExMbGhqeVx1eNYaGhng8XnNz89SLys7Ovn37Nj5ivc/g4OClS5fi4uJyc3O1IoU9c0BRFKyw0S4SiWR4eFjrxarV6lHC5oCBgYGmpqaxwuYoira0tIxbE5FIpEX19edja4RCIZfLbW5uTk9PX7p0qVgsftxKExJtkZGR4erq6u/v39TUNMWiuru7g4KCYmNjiSmPyspKHx8foVAoEokCAwMzMzOnXN8ZQU1NTXFx8YYNGz777DNtlalSqaqqqvLy8ry8vLTYUAqFora29sqVKx4eHqMyZPT19e3atWvjxo0JCQnvvfdeQUEBeEkMDw8nJCR4enoePnx41apVx48fJ14eTU1NGzZsCAoKioiIePfdd7WS9vb5+LyB2l5kZCSXywUqn3v37iW0QUl+C4CVOXjw4NSLMjU1LSwsZLFYhGjxvn37/P39d+7cqVKpPD09rayspn6VmUB5eTmbzX748KEW5dkUCkVFRYWpqWlXV5cWX7FSqfTOnTtUKrW1tXWkXqdKpTpy5EhZWRmfzzc0NOTz+QEBATk5OUuXLi0oKPjXv/5VVFTEZrN7enp8fX1fe+21DRs2QBD08ccfL1iw4NNPP6VSqbm5udu2bausrCSiw58NbWpKKBQKFEXx/11Hr9Fo5HI5sZIVLM24e/euvr4+juNvvPGGp6fnV1999eOPPxKSERqNBvT0FAoF8eZUq9XDw8MjC8cwTC6XE30/UPJY8FdVhgI8EWI4Q6VSx6YVVygUo9YZ4zgOlumPbDrQ+MQWCoXi7u4+d+5ccPzQ0FBpaSmHw8EwDEEQb2/vUdpxKpVKJpONvAp4xMR6t9/g7rVDaGjo+vXrJ14og+N4aWnp2DHIzz//PO46b0NDw9DQ0JUrV+rq6k5QrFqtFggEo0RUNRpNdXX1KMFzAIvFCgkJWbNmzSinp1gsLioq2rFjx6xZs2AYXrhwIYVC4fF4OI5nZGSsWLHCzMwMhmETE5MFCxYcPHgQwzCRSMTn87lcLo1GA6cMDw9fv359gtpOBq31azIzMysqKlQqlUqlSkxMZDAYGo2mqKgoNzdXrVYjCPLHP/7R3d390aNHx44dKysrg2E4ODjY1dVVLpenpqZSqdTg4OCIiIimpqZr166tWLGiu7u7pKSExWIdPXr07t27Z8+elUgkgYGBwO4KhUKggdDd3e3u7v7RRx/BMJySknLnzh0EQfz8/Pr7+/l8vpOTU1hY2Nj/2EtPf3//3//+9/b2drlcvnjx4q1bt45yRkql0vT09NraWrFYbGlp+cknn5iamkIQdPPmze+++w5BEKlUGhMTY2trW11dnZycTKPRJBJJQECAl5dXU1PTpUuXZDLZZ599du/evaNHj+I4Hhsb++9//xvHcZVK5eDgQCRlzs/P5/F4AwMDc+fOjYyMNDExKSsru3jx4qJFi6qrq+/fv5+QkEAob7+gpKWlFRQUHDp0iJArzMzMTE9Pz83NfeZ1YRiGnT17trW1NTU1lZA3vHHjRlRUVFpamo2NzSTLGRoaamhosLe3B18NDAwYDEZ1dfXAwMCNGzciIyPBdgqFwmKxampqhEJhYWEhg8Egaq6rqzt79uzc3FyQreDZ0co677q6Ojs7u9bW1o6ODmdn5/b2dhzH8/LybG1tW1tb1Wr1nj172Gz2zZs3Qe9j+fLl3t7eoN8hl8vd3NycnJzAmu8dO3bQaLQ5c+Z88cUXsbGxDAbDyckpICCAx+O5urrCMAxUNrhc7tq1a3EcT0lJMTIy4vP5OI7LZLKFCxcaGBg8evQoLS3Nz88P9LOeI89lnbdCofD19T1y5AiO48eOHUMQBFiBuLg4CIKuXr2K43hycjKFQuns7BSJRFQq9dSpUziOd3Z26uvrX7x4EcfxsLCw0tLSoaEhR0fHr776CsfxkydPxsfHoygaExMDw7CHh4dCoQD6WBAEFRQUKBQKoVDIYrF8fHxwHMcwrKioaPny5c3NzRcvXjQ2Nvb09CwtLfXx8YFh2MLCYuXKlWZmZuDZTSdPu8570aJFE+eH6u3t9fDwCA8Pl8lkarU6LS2NyWQKBIIJTpFIJBPnh8JxHEVRPz+/rVu3SiQStVpdUlLC4XB++umnCU4RiUQcDsfX15fYAqZafvnlF2LLggULXFxcampqIAg6efIksf348eMQBN25cycqKsrGxobID9XT07N48eJly5ZNcF3AdOSHamlp6evrKysrMzc33717N41GE4vFO3fu9PHxsba2RhDkxIkTFhYWW7ZskUgkxLIa+L8QX2fPnh0QEGBoaPjBBx/ExMRs27bNwcGhp6cnNjZ206ZNwcHBMAzX1dVBEMRms9euXQtB0Lx586RSKZDg0tfXv3z5soWFxQcffHDhwoW4uLgpjjBfUNLT05uamkJDQyEICgoKCggIGPsa1NfXf/fdd1kslrGxsY2NDVB76+3tRVG0srJSpVJ9+OGHLBZLJpPJZLLq6ure3t6NGze+/fbbOjo6f/vb3wiVNgqFAmZtdHR06HT67373OwsLC/BMpVLppk2bmEzmzZs3u7u79fT06uvrWSzWkSNHGAzG2rVrr127Vl5e/hLEuZiYmGRkZPT29u7fvz8tLS0rK6u4uHiCCNpJoqOjc+7cOaBwnpWVtX379vj4eDc3t6cqRCKRQP9V+wYgCKJWq4FnbaRuNHhqSqUS/ElH/jGBSOYUb0c7tmb16tUIgmzZsiU0NJTL5ZqamtbX17e3txMzagiCLF++vKOj48GDBxMXBcQHGQwGhUKh0+kMBoNKpTIYDBiGDQwMYBgGbXf69Ont27efOHEiICAAwzBijs3CwiIiIqK8vNzJyUm7K+JfINLT083MzMDI0dzcPD093d3dfdQxQUFBV65c4fP577zzDpFqzsHBwcbG5ssvv1y0aJGlpaWdnZ2ZmZmjo+O5c+cWL17c29vr6ekJTp8gEpr4jdbX1/f39wNVJzqdfvjw4djYWBMTEwqFgiDIggULEASxtbUdmxXvRcTKyio5ObmysjI6OjouLm7qhgago6Pz9ddfC4XCP/3pT1lZWe+///7Tao+BJzVyElqj0SAIQmQZILbjOA5BEI1G09PTAz0RYjuGYRPPLk0G7dgaKpVaWFjo5+f37bffenh43Lt3D1iEkanIjI2NIQgiBGunyJkzZ7y8vGxtbc+dOzdqF4IgRkZGPB6vtrZWK9d6scAwrKenB+iNTXBYeXm5h4dHRUXF1atX58+fDzYiCPLzzz/v3r37wYMHy5cvz8vLo1Ao2dnZBw8elMvlS5cufSr9YDCvaW9v/+F/8ff3HyVX9NKA43hubi6FQlm2bFlWVpYWxWrz8/M7OztXrVp18uRJkOzpqTA1NaXRaMSJGIaJxWJ9fX1zc3M9PT2xWEzUH/RcTExMrK2twegY7NJoNCiKzpkzZ4o3oh1bc/HixeHh4aysrDNnzjQ2Nh49enTevHkQBBFpOiEIkkgkdDrdwcFh3BKeanHK4ODgzp07AwMD/fz8Rr1gURTl8XiFhYVdXV1TV0h9EaFQKK+//nptbS2hStvV1ZWSkjLqsEOHDsnl8sjISFNTU+INJhAIfvzxx/j4+Pv37+M4HhkZ2d7enpeXFx0dXV5eDtRdJ18TMNlcUFBAdL/Ly8uvXbs21TuceeA4fvr06S+//PLEiRNnzpypra0NCwvTirmpra2NjIzMycnJyMjo6enZtm0bYR0mCZPJ5HA4RKpYuVwul8t///vfs9lsd3f3kYmwBwYG2Gz266+/7uvrC8TCwS4URSUSyZo1a6Z4L9qxNWKx+Pz58zAMr127lsPhGBgYWFhYfP7559XV1cXFxcBbVFJScurUKR0dHRzHh4aGiCZDEITJZDY2NpaVlRUVFQ0PDwMPKwRBYHCEYRiQBCUc4T09PUqlsrCwsKSkBMi11tbWCgSCgYEBX1/f999/38XFJSIiori4OCkpSaVSaeUeXyDAXL6Pj88333xz5syZvXv32tvb4zgOOpvgN9Tb29vQ0HDjxg0ej9fW1tba2nrr1q2hoaH4+HiZTDZ37lwul8tgMIhcF9bW1lFRUaAjrVarwW8RGCmQ6Rko2OM4LpPJgHHhcDhLlizJz8+PiIjIyclJTEyMjY11dnZWKpVKpRLIpM9wMAyTSqUymWxoaEihUDzOfJw7d+7s2bPZ2dnOzs5MJjM5ObmlpeXAgQPjvkFxHNdoNGKxGEVRkUgEtFPHvfTVq1fXrFkTFxfn5ORkYGBw/vx5IyOjqKiocYOYQbFgFlkmk4EYBQiCDA0N3dzcUlNTQTezqqpKLpdv3rwZhuHNmzfz+fz+/n4IgiQSSXl5+f79+ykUipWVlaur64ULF0DFBAKBRqNZv379FBoSgiAt+aHS09NNTEz+8Ic/vPfee6tWrQKeFxRFExMTzc3NFy9ePH/+/H/+859KpbK1tdXPzw9BECqV6uPjIxAIMAw7ffo0BEEODg6FhYWOjo7ASZGTk/PXv/7VwMAAQZD169eXlZW98cYbEAQ5OjrW1dWBxnJwcMjPz2ez2UZGRt9//z0wvampqRiGRUdHU6lUAwODgwcPPnH+/LfjufihNBpNRkaGoaEhDMNz5sy5fv26Wq1OTk4GySqdnJwqKyuTkpLodDqLxUpISNizZw+CIOHh4T/99NOsWbOWLVsWGBjo6upaU1Pz8OFDOzs74ArkcDigAxsQEABBkI6ODpfLLS4uBv5UMDEUHh4OJtqCg4MVCsXAwMC6detgGKZSqWvWrAHq/KDPa2RkBNxb08/k/VDr1q2zt7dnMplmZmb29vb79u0be4xGo1mxYkVtbe3IjVKpNCQkpKura+zxIpHIzc3Nzs7O2NgYTIolJiaOPUwsFgcFBVVVVWk0mpEbw8LCLl26NPb4rq6uJUuWcDgcJpNpampqb2+/efNmHMcxDGtra3N2dvb39//mm29cXFz+8Y9/AClosVgcEhLi6uqalJS0YsWK0NBQlUoFSrt79y6HwwkPDz906NBrr712+fLlyTTXxH4o7dgaFEVVKlVvby9IljByl0qlamtrG9le49LR0TFS4fyJKJVKEHCM47hMJgMJwmcgz1HbXCKRtLS0PM7rD8SuBwcHcRxXKpXgXwHCo8RicUNDAyEvD0L7Wlpank1nHsOwX3/9FcTITuFutMmrqW1++/ZtHo9XV1c3Utscw7D6+vrvvvuurKxs1D9XLpcXFxdfuHCho6NjkleZDm1z4Fo2MTEhcrASUKnUyUSsE/mhJwmNRiPSVoA0N091+qsAg8GYQEwEiF2DzzQaDfiwgUvI0NCQEDmnUCgUCoVGoz2zUw/0rZ7tXBJtAcPwkiVLlixZMna7nZ3duLGUenp6Xl5eWqwDqSlBQkIyHZC2hoSEZDqY7BgKn8EL5GY+ZOvNNMAMwvOuxcvGxE36ZFvD4XAqKys//PBDrdXoVUIul+/atYtMzDajKC8vb2trGym8QKIVQNDJ4/bCEun/r4VnGIwfhiyXy0ktKxISkieir6//uFUUkxpDkV4eEhKSKULODZOQkEwHpK0hISGZDkhbQ0JCMh2QtoaEhGQ6IG0NCQnJdEDaGhISkumAtDUkJCTTwf/E10hlL1VqVBISkpkD2a8hISGZDv4PCCaeiCXr15UAAAAASUVORK5CYII=)"
      ]
    },
    {
      "cell_type": "code",
      "execution_count": null,
      "metadata": {
        "id": "c_zlY5JoLz8H"
      },
      "outputs": [],
      "source": [
        "model = torch.hub.load('pytorch/vision:v0.10.0', 'inception_v3', pretrained=True)\n",
        "model.aux_logits=False\n",
        "model"
      ]
    },
    {
      "cell_type": "code",
      "execution_count": null,
      "metadata": {
        "id": "onB4CyXGLbcA"
      },
      "outputs": [],
      "source": [
        "# Freeze early layers\n",
        "for param in model.parameters():\n",
        "    param.requires_grad = False"
      ]
    },
    {
      "cell_type": "markdown",
      "metadata": {
        "id": "CGWO0z-hch0b"
      },
      "source": [
        "### Defining classifying (fc) layer"
      ]
    },
    {
      "cell_type": "code",
      "execution_count": null,
      "metadata": {
        "id": "lF1YOU4ncoY-"
      },
      "outputs": [],
      "source": [
        "n_classes = 120\n",
        "n_inputs = model.fc.in_features\n",
        "# n_inputs will be 4096 for this case\n",
        "# Add on classifier\n",
        "model.fc = nn.Sequential(\n",
        "    nn.Linear(n_inputs, 1024),\n",
        "    nn.ReLU(),\n",
        "    nn.Dropout(0.4),\n",
        "    nn.Linear(1024, n_classes),\n",
        "    nn.LogSoftmax(dim=1))\n",
        "\n",
        "model.fc"
      ]
    },
    {
      "cell_type": "markdown",
      "metadata": {
        "id": "X3m-da3Oc1x6"
      },
      "source": [
        "### Defining hyper parameters"
      ]
    },
    {
      "cell_type": "code",
      "execution_count": null,
      "metadata": {
        "id": "swBmQCcsc5t4"
      },
      "outputs": [],
      "source": [
        "model.cuda()\n",
        "criterion = nn.NLLLoss()\n",
        "optimizer = optim.Adam(model.parameters(), lr=0.0005)"
      ]
    },
    {
      "cell_type": "markdown",
      "metadata": {
        "id": "g63EVZ1xmzSd"
      },
      "source": [
        "### Indexing through classes"
      ]
    },
    {
      "cell_type": "code",
      "execution_count": null,
      "metadata": {
        "id": "hMQAjtDadAAx"
      },
      "outputs": [],
      "source": [
        "model.class_to_idx = all_data.class_to_idx\n",
        "model.idx_to_class = {\n",
        "    idx: class_\n",
        "    for class_, idx in model.class_to_idx.items()\n",
        "}\n",
        "\n",
        "list(model.idx_to_class.items())"
      ]
    },
    {
      "cell_type": "markdown",
      "metadata": {
        "id": "U08uUhkYm5k1"
      },
      "source": [
        "## Train the model"
      ]
    },
    {
      "cell_type": "code",
      "execution_count": null,
      "metadata": {
        "id": "k8SR-J7TAOCC"
      },
      "outputs": [],
      "source": [
        "def train(model,\n",
        "         criterion,\n",
        "         optimizer,\n",
        "         train_loader,\n",
        "         val_loader,\n",
        "         save_location,\n",
        "         early_stop=3,\n",
        "         n_epochs=20,\n",
        "         print_every=2):\n",
        "    #Initializing some variables\n",
        "    valid_loss_min = np.Inf\n",
        "    stop_count = 0\n",
        "    valid_max_acc = 0\n",
        "    history = []\n",
        "    model.epochs = 0\n",
        "\n",
        "    #Loop starts here\n",
        "    for epoch in range(n_epochs):\n",
        "\n",
        "        train_loss = 0\n",
        "        valid_loss = 0\n",
        "\n",
        "        train_acc = 0\n",
        "        valid_acc = 0\n",
        "\n",
        "        model.train()\n",
        "        ii = 0\n",
        "\n",
        "        for data, label in train_loader:\n",
        "            ii += 1\n",
        "            data, label = data.cuda(), label.cuda()\n",
        "            optimizer.zero_grad()\n",
        "            output = model(data)\n",
        "\n",
        "            loss = criterion(output, label)\n",
        "            loss.backward()\n",
        "            optimizer.step()\n",
        "\n",
        "            # Track train loss by multiplying average loss by number of examples in batch\n",
        "            train_loss += loss.item() * data.size(0)\n",
        "\n",
        "            # Calculate accuracy by finding max log probability\n",
        "            _, pred = torch.max(output, dim=1) # first output gives the max value in the row(not what we want), second output gives index of the highest val\n",
        "            correct_tensor = pred.eq(label.data.view_as(pred)) # using the index of the predicted outcome above, torch.eq() will check prediction index against label index to see if prediction is correct(returns 1 if correct, 0 if not)\n",
        "            accuracy = torch.mean(correct_tensor.type(torch.FloatTensor)) #tensor must be float to calc average\n",
        "            train_acc += accuracy.item() * data.size(0)\n",
        "            if ii%10 == 0:\n",
        "                print(f'Epoch: {epoch}\\t{100 * (ii + 1) / len(train_loader):.2f}% complete.')\n",
        "\n",
        "        model.epochs += 1\n",
        "        with torch.no_grad():\n",
        "            model.eval()\n",
        "\n",
        "            for data, label in val_loader:\n",
        "                data, label = data.cuda(), label.cuda()\n",
        "\n",
        "                output = model(data)\n",
        "                loss = criterion(output, label)\n",
        "                valid_loss += loss.item() * data.size(0)\n",
        "\n",
        "                _, pred = torch.max(output, dim=1)\n",
        "                correct_tensor = pred.eq(label.data.view_as(pred))\n",
        "                accuracy = torch.mean(correct_tensor.type(torch.FloatTensor))\n",
        "                valid_acc += accuracy.item() * data.size(0)\n",
        "\n",
        "            train_loss = train_loss / len(train_loader.dataset)\n",
        "            valid_loss = valid_loss / len(val_loader.dataset)\n",
        "\n",
        "            train_acc = train_acc / len(train_loader.dataset)\n",
        "            valid_acc = valid_acc / len(val_loader.dataset)\n",
        "\n",
        "            history.append([train_loss, valid_loss, train_acc, valid_acc])\n",
        "\n",
        "            if (epoch + 1) % print_every == 0:\n",
        "                print(f'\\nEpoch: {epoch} \\tTraining Loss: {train_loss:.4f} \\tValidation Loss: {valid_loss:.4f}')\n",
        "                print(f'\\t\\tTraining Accuracy: {100 * train_acc:.2f}%\\t Validation Accuracy: {100 * valid_acc:.2f}%')\n",
        "\n",
        "            if valid_loss < valid_loss_min:\n",
        "                torch.save({\n",
        "                    'state_dict': model.state_dict(),\n",
        "                    'idx_to_class': model.idx_to_class\n",
        "                }, save_location)\n",
        "                stop_count = 0\n",
        "                valid_loss_min = valid_loss\n",
        "                valid_best_acc = valid_acc\n",
        "                best_epoch = epoch\n",
        "\n",
        "            else:\n",
        "                stop_count += 1\n",
        "\n",
        "                # Below is the case where we handle the early stop case\n",
        "                if stop_count >= early_stop:\n",
        "                    print(f'\\nEarly Stopping Total epochs: {epoch}. Best epoch: {best_epoch} with loss: {valid_loss_min:.2f} and acc: {100 * valid_acc:.2f}%')\n",
        "                    model.load_state_dict(torch.load(save_location)['state_dict'])\n",
        "                    model.optimizer = optimizer\n",
        "                    history = pd.DataFrame(history, columns=['train_loss', 'valid_loss', 'train_acc','valid_acc'])\n",
        "                    return model, history\n",
        "\n",
        "    model.optimizer = optimizer\n",
        "    print(f'\\nBest epoch: {best_epoch} with loss: {valid_loss_min:.2f} and acc: {100 * valid_acc:.2f}%')\n",
        "\n",
        "    history = pd.DataFrame(history, columns=['train_loss', 'valid_loss', 'train_acc', 'valid_acc'])\n",
        "    return model, history"
      ]
    },
    {
      "cell_type": "code",
      "execution_count": null,
      "metadata": {
        "id": "D4lAiB-lASCd"
      },
      "outputs": [],
      "source": [
        "model, history = train(\n",
        "    model,\n",
        "    criterion,\n",
        "    optimizer,\n",
        "    train_loader,\n",
        "    val_loader,\n",
        "    save_location='./dog_inception.pt',\n",
        "    early_stop=3,\n",
        "    n_epochs=30,\n",
        "    print_every=2)"
      ]
    },
    {
      "cell_type": "markdown",
      "metadata": {
        "id": "wTfEqeDX2UVN"
      },
      "source": [
        "## Running the model on the test data"
      ]
    },
    {
      "cell_type": "code",
      "execution_count": null,
      "metadata": {
        "id": "k1WDavsycw-L"
      },
      "outputs": [],
      "source": [
        "def test(model, test_loader, criterion):\n",
        "    with torch.no_grad():\n",
        "        model.eval()\n",
        "        test_acc = 0\n",
        "        for data, label in test_loader:\n",
        "            data, label = data.cuda(), label.cuda()\n",
        "\n",
        "            output = model(data)\n",
        "\n",
        "            _, pred = torch.max(output, dim=1)\n",
        "            correct_tensor = pred.eq(label.data.view_as(pred))\n",
        "            accuracy = torch.mean(correct_tensor.type(torch.FloatTensor))\n",
        "            test_acc += accuracy.item() * data.size(0)\n",
        "\n",
        "        test_acc = test_acc / len(test_loader.dataset)\n",
        "        return test_acc"
      ]
    },
    {
      "cell_type": "code",
      "execution_count": null,
      "metadata": {
        "id": "q8miPytB3wcZ"
      },
      "outputs": [],
      "source": [
        "model.load_state_dict(torch.load('./dog_inception.pt')['state_dict'])\n",
        "test_acc = test(model.cuda(), test_loader, criterion)\n",
        "print(f'The model has achieved an accuracy of {100 * test_acc:.2f}% on the test dataset')"
      ]
    },
    {
      "cell_type": "markdown",
      "metadata": {
        "id": "p3HWFz0a3_0N"
      },
      "source": [
        "## Evaluating the results"
      ]
    },
    {
      "cell_type": "code",
      "execution_count": null,
      "metadata": {
        "id": "hEl0ibZ14DDL"
      },
      "outputs": [],
      "source": [
        "def evaluate(model, test_loader, criterion):\n",
        "\n",
        "    classes = []\n",
        "    acc_results = np.zeros(len(test_loader.dataset))\n",
        "    i = 0\n",
        "\n",
        "    model.eval()\n",
        "    with torch.no_grad():\n",
        "        for data, labels in test_loader:\n",
        "            data, labels = data.cuda(), labels.cuda()\n",
        "            output = model(data)\n",
        "\n",
        "            for pred, true in zip(output, labels):\n",
        "                _, pred = pred.unsqueeze(0).topk(1)\n",
        "                correct = pred.eq(true.unsqueeze(0))\n",
        "                acc_results[i] = correct.cpu()\n",
        "                classes.append(model.idx_to_class[true.item()][10:])\n",
        "                i+=1\n",
        "\n",
        "    results = pd.DataFrame({\n",
        "      'class': classes,\n",
        "      'results': acc_results\n",
        "    })\n",
        "    results = results.groupby(classes).mean()\n",
        "\n",
        "    return results"
      ]
    },
    {
      "cell_type": "code",
      "execution_count": null,
      "metadata": {
        "id": "xBMqBQed4ODm"
      },
      "outputs": [],
      "source": [
        "pd.set_option('display.float_format', lambda x: '%.2f' % x)\n",
        "evaluate(model, test_loader, criterion)"
      ]
    }
  ],
  "metadata": {
    "accelerator": "GPU",
    "colab": {
      "gpuType": "T4",
      "provenance": []
    },
    "gpuClass": "standard",
    "kernelspec": {
      "display_name": "Python 3",
      "name": "python3"
    },
    "language_info": {
      "name": "python"
    }
  },
  "nbformat": 4,
  "nbformat_minor": 0
}