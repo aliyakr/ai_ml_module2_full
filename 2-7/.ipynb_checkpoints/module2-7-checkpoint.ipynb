{
  "nbformat": 4,
  "nbformat_minor": 0,
  "metadata": {
    "accelerator": "GPU",
    "colab": {
      "provenance": [],
      "machine_shape": "hm"
    },
    "kernelspec": {
      "display_name": "Python 3",
      "language": "python",
      "name": "python3"
    },
    "language_info": {
      "codemirror_mode": {
        "name": "ipython",
        "version": 3
      },
      "file_extension": ".py",
      "mimetype": "text/x-python",
      "name": "python",
      "nbconvert_exporter": "python",
      "pygments_lexer": "ipython3",
      "version": "3.8.2"
    }
  },
  "cells": [
    {
      "cell_type": "markdown",
      "metadata": {
        "id": "Gx4bud8kche8"
      },
      "source": [
        "# Модуль 2. Занятие 7. Обработка временных рядов с помощью нейронных сетей"
      ]
    },
    {
      "cell_type": "markdown",
      "metadata": {
        "id": "hl6tSl_YNQ4d"
      },
      "source": [
        "## Понятие автокорреляции"
      ]
    },
    {
      "cell_type": "markdown",
      "metadata": {
        "id": "csaAy-eHUHIh"
      },
      "source": [
        "Импортируем необходимые библиотеки:"
      ]
    },
    {
      "cell_type": "code",
      "metadata": {
        "id": "NLpgCIeGOD1_"
      },
      "source": [
        "# Работа с массивами\n",
        "import numpy as np\n",
        "\n",
        "# Отрисовка графиков\n",
        "import matplotlib.pyplot as plt\n",
        "\n",
        "# Визуальные инструменты Seaborn\n",
        "import seaborn as sns\n",
        "sns.set_style('darkgrid')"
      ],
      "execution_count": null,
      "outputs": []
    },
    {
      "cell_type": "markdown",
      "metadata": {
        "id": "0jPcLXbj5w4D"
      },
      "source": [
        "Опишем основные параметры для построения графиков:"
      ]
    },
    {
      "cell_type": "code",
      "metadata": {
        "id": "e37jZj4dFEBK"
      },
      "source": [
        "# Назначение размера и стиля графиков по умолчанию\n",
        "from pylab import rcParams\n",
        "plt.style.use('ggplot')\n",
        "rcParams['figure.figsize'] = (14, 7)"
      ],
      "execution_count": null,
      "outputs": []
    },
    {
      "cell_type": "markdown",
      "metadata": {
        "id": "O9bAD9gPULRn"
      },
      "source": [
        "Создадим временной ряд, состоящий из 16 значений:"
      ]
    },
    {
      "cell_type": "code",
      "metadata": {
        "id": "Lr-wJtxCNOgW"
      },
      "source": [
        "# Создание модельного временного ряда\n",
        "test_series = [\n",
        "    5.6, 4.7, 5.2, 9.1,\n",
        "    7.1, 5.1, 6.1, 9.2,\n",
        "    8.2, 5.6, 6.4, 9.5,\n",
        "    9.1, 6.7, 7.5, 9.9\n",
        "    ]"
      ],
      "execution_count": null,
      "outputs": []
    },
    {
      "cell_type": "markdown",
      "metadata": {
        "id": "JJAAcgxlUWBZ"
      },
      "source": [
        "Выведем временной ряд на графике:"
      ]
    },
    {
      "cell_type": "code",
      "metadata": {
        "id": "d1jSD03lOV_s"
      },
      "source": [
        "# Рисование графика временного ряда\n",
        "plt.plot(test_series, marker='.')\n",
        "plt.xlabel('Время')\n",
        "plt.ylabel('Данные')\n",
        "plt.show()"
      ],
      "execution_count": null,
      "outputs": []
    },
    {
      "cell_type": "markdown",
      "metadata": {
        "id": "EqubRm1JUhwX"
      },
      "source": [
        "Посчитаем коэффициент автокорреляции. Не забываем, что автокорреляция – это то, насколько два графика похожи друг на друга. Формула коэффициента написана ниже. Для лучшего усвоения разберем ее на практике."
      ]
    },
    {
      "cell_type": "markdown",
      "metadata": {
        "id": "ud4toj77Or73"
      },
      "source": [
        "***Коэффициент автокорреляции Пирсона***"
      ]
    },
    {
      "cell_type": "markdown",
      "metadata": {
        "id": "lqf2NiSjPBu6"
      },
      "source": [
        "![_20090526_00273.png](data:image/png;base64,iVBORw0KGgoAAAANSUhEUgAAAQUAAABFCAIAAADM22QeAAAABmJLR0QAAAAAAAD5Q7t/AAAACXBIWXMAAB7CAAAewgFu0HU+AAAFaUlEQVR42u1du3UjMQxUg9uHi1AJrmAbcO5csVKlDjd05g54eMIzH28lUvwAIJeeie58PghcYkiAxKxODgCAX5zwCAAAfAAA8AEAwIea53JMdBl490cKPgAA9gcAAB8AAHwAAPABAMAHAAAfAAB8AADwAQDABwAAH2bB9/f35+fn29vbtm38k9vttizL+Xwe3DgGDj4oPJpf8FRdLpfwryMbx8DBBxXQ0sWz9fX1ta7rgYxj4OCDCmjdopl7f38/nHEM/GB8oDyy+v9+fHzYOHm9XmnmKj7ufIeS8dLkpKJT+tADPx4fGp8FlWU2qwvt6TRzVP9phEW1cQx8Kj7Q86KAbjSybZsBJfgwhCbv5+dnNOPiahgMvAMfLpeL1EZJdmjnVXWVP4WePn8Q/yScmL7GlcIi7Vvjh4oYn4cPy7K0bw4+ayJrGtsXzdDtduMzcj4Pob2IppA2+sYpETQuHhM5vlV/qKBxvV3Rmg/0RGSzRrK2W1ZFwoJoRhMWfkp4hbQrVXsZ1+BD2rcW1bKg8Xn4QOOXPVUga73KMr1Z6ZssDT7qefhAK4FPGQU3HLIplYCNGRmxc9K5+ZA4HZ6EDxy7YWIgxTHxlAn7A/YHdVDxJL6WMx/sbzpBhvnIIMAHv5f5y2YKzdiZD9/SPz0maul57NINpnr2n1lT2lOi+6jVfRCpaLk3y93PUunPMT7ERtLY89glMoApcRKkNe0MtNKv6xprTEoEbkvP40uaGbznEAAf/kvfiQMvC4N0FFb3PCK4gVH4QDTgRsWcU9R04Fb3PIIPwCh84EU9M8OJ1dOM6p5H2Xr6BPzVd5uLnS9lXinweWvsl+t6HilJi2VZqB8AUz7wiv64NseiLXEf97LZM13AdLmPA8CH/xCG7yMlYmt5GLvtzZ5cdcjeedugRR7oDBWCsm5bDo3zkbCDUJcPsfQmEb67fr7MZs/09IypL9OecjOFoD0JpYZG0UWxUaQI0BFVxCO4tN/7Zbqv0e+tDRF5oLNSCIq7bTy0ofngyvVACWu0NWnogVQhKA90+gpBJbfNhna9Y2g+kH9FTzZhjewcbnMQlAc6NYWgtts2Q6PYCKvQQfnAhU5+BRyzRs9rkJe6+c2Kihmu4biJa13X7Q4/r+LywMaMMcdnJbe1h1YZuvZk8JTIWW/Sm8M4ZPD39OGCRDshNzj6VFhcHugaFIKZPiu5rTq0sfiQSYmcRxyzZnDqV1RoUgw93fHC6xENeaCrVQhm+qzntt7QxuLDXwMHVmLOfDO8hjzQVd1I5vus57bS0MCH/mlSesL8FY2GPNCVKwSLfNZzW2No4EPnAjohfnq6KmvIA11JR2Opz6puyw4NfBilhm6srNq/EiG/Ziv1WdVt2aGBD/0rhzDP3u3yIfiQREkeWBQ0pT6rug0+TAWeqlh3ul8vd++fS0dqXa6cHzSlPqu6DT5MyIfYv3IzfLhqKskDn1qOvXS+1GdVt8GHP7Q/PDbDK8kDnxadaT7k+6zqNurpqcDREzu4fGyG15AHuqRCsN1nPbdz1v6ioYEP/bHc8Xg2zxO5WzVb5IGJuCm9tCryucXt9rcM4j7uYOCewp2kyWfVu6YSDXmgK1cIFvlc7bbIKzftxY/ggwAoIPgtnb5LlP5KEfOYQtTJA9OKqDqFYL7PFW5LfX+FvfgRfDBFXeN0Om4MmqIr3BbZH2bo9wZepu+lvUAjKARbVI1131/RRfwIPlijVB7oxlAICqoaM3+ni/gRfOgAEXmgM1cI5rvdToZe4kfwoRslMtOPRFVqr1nLVzU2fn9FL/Ej+NANjVPeSyFoEKkdxY/gAwCADwAAPgAA+AAA4AMAgA8A0IJ/5aNbEYCiNQQAAAAASUVORK5CYII=)"
      ]
    },
    {
      "cell_type": "markdown",
      "metadata": {
        "id": "Ql6tQu_kWADV"
      },
      "source": [
        "Создадим две переменные:\n",
        "- x_t – базовый (текущий) временной ряд;\n",
        "- x_t_1 – базовый временной ряд, но смещенный на 1 шаг вправо."
      ]
    },
    {
      "cell_type": "code",
      "metadata": {
        "id": "h4A5TeZ-OZBv"
      },
      "source": [
        "# Исходный временной ряд\n",
        "x_t = test_series\n",
        "# Получение смещенного на один шаг временного ряда\n",
        "x_t_1 = [0.] + test_series[:-1]\n",
        "\n",
        "print('Исходный: ', x_t)\n",
        "print('Со свигом:', x_t_1)"
      ],
      "execution_count": null,
      "outputs": []
    },
    {
      "cell_type": "markdown",
      "metadata": {
        "id": "KNidrrEwXAHi"
      },
      "source": [
        "Переведем данные в Numpy, так как с ним проще считать:"
      ]
    },
    {
      "cell_type": "code",
      "metadata": {
        "id": "VRqlCYJGVyWc"
      },
      "source": [
        "# Получение окончательного результата удалением нулевых элементов исходного и смещенного рядов\n",
        "x_t_np = np.array(x_t[1:])\n",
        "x_t_1_np = np.array(x_t_1[1:])\n",
        "\n",
        "print(x_t_np)\n",
        "print(x_t_1_np)"
      ],
      "execution_count": null,
      "outputs": []
    },
    {
      "cell_type": "markdown",
      "metadata": {
        "id": "tEq4dvch6DWq"
      },
      "source": [
        "Отрисуем оба временных ряда на графике:"
      ]
    },
    {
      "cell_type": "code",
      "metadata": {
        "id": "Pec5sQw3DTzG"
      },
      "source": [
        "# Рисование совместного графика исходного и смещенного временных рядов\n",
        "plt.plot(x_t_np, marker='.')\n",
        "plt.plot(x_t_1_np, marker='.')\n",
        "plt.xlabel('Время')\n",
        "plt.ylabel('Данные')\n",
        "plt.show()"
      ],
      "execution_count": null,
      "outputs": []
    },
    {
      "cell_type": "markdown",
      "metadata": {
        "id": "ul99keMC6HPC"
      },
      "source": [
        "А теперь вручную посчитаемкоэффициент корреляции:\n",
        "- m12 – поэлементно перемножим оба графика и возьмем среднее значение;\n",
        "- m1 и m2 – получим среднее значение обоих графиков по отдельности;\n",
        "- s1 и s2 – посчитаем среднеквадратичное отклонение обоих графиков по отдельности;\n",
        "- k – посчитаем полученные значения по формуле.\n",
        "\n",
        "Выведем полученные данные на экран.\n"
      ]
    },
    {
      "cell_type": "code",
      "metadata": {
        "id": "I-xDfFOLVgdq"
      },
      "source": [
        "# Расчет коэффициента автокорреляции Пирсона вручную\n",
        "m12 = (x_t_np * x_t_1_np).mean()          # Мат. ожидание от произведения двух временных рядов\n",
        "m1 = x_t_np.mean()                        # Мат. ожидание исходного временного ряда\n",
        "m2 = x_t_1_np.mean()                      # Мат. ожидание смещенного временного ряда\n",
        "s1 = x_t_np.std()                         # Среднеквадратическое отклонение (СКО) исходного временного ряда\n",
        "s2 = x_t_1_np.std()                       # СКО смещенного временного ряда\n",
        "k = (m12 - m1*m2) / (s1 * s2)             # Коэффициент автокорреляции исходного ряда при смещении на один шаг\n",
        "\n",
        "print('Мат. ожидание произведения двух рядов: {:.2f}'.format(m12))\n",
        "print('Мат. ожидание первого ряда: {:.2f}'.format(m1))\n",
        "print('Мат. ожидание второго ряда: {:.2f}'.format(m2))\n",
        "print('СКО первого ряда: {:.2f}'.format(s1))\n",
        "print('СКО второго ряда: {:.2f}'.format(s2))\n",
        "print('Коэффициент автокорреляции при смещении на 1 шаг: {:.4f}'.format(k))"
      ],
      "execution_count": null,
      "outputs": []
    },
    {
      "cell_type": "markdown",
      "metadata": {
        "id": "M0jd4nHN6Qlf"
      },
      "source": [
        "Коэффициент получился 0,23. При том, что графики похожи, их значения далеки друг от друга."
      ]
    },
    {
      "cell_type": "markdown",
      "metadata": {
        "id": "ArbtLksB6UE1"
      },
      "source": [
        "Считать вручную, конечно, полезно для запоминания и усвоения материала, но в работе нужны более быстрые способы. При помощи np.corrcoef() получим тот же результат, но всего в одну строку и без запоминания формулы:"
      ]
    },
    {
      "cell_type": "code",
      "metadata": {
        "id": "BOxU-LsyixQt"
      },
      "source": [
        "# Способ получить коэффициент автокорреляции встроенными средствами numpy\n",
        "np.corrcoef(x_t_np, x_t_1_np)"
      ],
      "execution_count": null,
      "outputs": []
    },
    {
      "cell_type": "markdown",
      "metadata": {
        "id": "nrNeL1JRd8zm"
      },
      "source": [
        "Напишем функцию, которая посчитает коэффициент при любом смещении:\n",
        "- data – базовый временной ряд;\n",
        "- back_steps – количество шагов смещения.\n"
      ]
    },
    {
      "cell_type": "code",
      "metadata": {
        "id": "GHPqaeNtTw-W"
      },
      "source": [
        "# Функция вычисления коэффициента автокорреляции\n",
        "\n",
        "def get_corr_coef(data, # данные\n",
        "                  back_steps): #  шаг смещения >= 0\n",
        "\n",
        "    # Получение общих частей исходного и смещенного на back_steps рядов,\n",
        "    # затем вычисление матрицы коэффициентов и отбор коэффициента из нужного места матрицы\n",
        "    return np.corrcoef(data[back_steps:], data[:len(data) - back_steps])[0, 1]"
      ],
      "execution_count": null,
      "outputs": []
    },
    {
      "cell_type": "markdown",
      "metadata": {
        "id": "Drzsrnr_ebo6"
      },
      "source": [
        "Проверим работу функции на смещении базового ряда на 1, получим тот же результат:"
      ]
    },
    {
      "cell_type": "code",
      "metadata": {
        "id": "MSBmZiEkY7Rl"
      },
      "source": [
        "# Вычисление и печать коэффициента корреляции\n",
        "print('{:.4f}'.format(get_corr_coef(test_series, 1)))"
      ],
      "execution_count": null,
      "outputs": []
    },
    {
      "cell_type": "markdown",
      "metadata": {
        "id": "n-_-m3jC6hOr"
      },
      "source": [
        "Пропишем функцию отрисовки графика автокорреляции. На вход подадим временной ряд и максимальное количество шагов смещения для графика:"
      ]
    },
    {
      "cell_type": "code",
      "metadata": {
        "id": "eSXozUX1Zdgw"
      },
      "source": [
        "# Функция рисования графика коэффициентов автокорреляции данных на разных шагах смещения\n",
        "\n",
        "def autocorr_graph(data, steps_max):\n",
        "    # Задание последовательности шагов смещения от 0 до steps_max\n",
        "    # и расчет коэффициентов автокорреляции для этих смещений\n",
        "    steps = range(0, steps_max + 1)\n",
        "    coefs = [get_corr_coef(data, i) for i in steps]\n",
        "\n",
        "    # Рисование графика коэффициентов автокорреляции\n",
        "    plt.plot(steps, coefs)\n",
        "    plt.xticks(steps)\n",
        "    plt.xlabel('Шаги смещения')\n",
        "    plt.ylabel('Коэффициент автокорреляции')\n",
        "    plt.show()"
      ],
      "execution_count": null,
      "outputs": []
    },
    {
      "cell_type": "markdown",
      "metadata": {
        "id": "OBnrjFFH6mVr"
      },
      "source": [
        "Выведем результат работы функции на 10 шагах для базового временного ряда:"
      ]
    },
    {
      "cell_type": "code",
      "metadata": {
        "id": "bdEoxKwt_l2a"
      },
      "source": [
        "# График коэффициентов автокорреляции\n",
        "autocorr_graph(test_series, 10)"
      ],
      "execution_count": null,
      "outputs": []
    },
    {
      "cell_type": "markdown",
      "metadata": {
        "id": "4pqxMqNE6oYi"
      },
      "source": [
        "График начинается с 1, так как первый расчет сделан без смещения. То есть автокорреляция базового ряда самого к себе.\n",
        "\n",
        "Вершины графика показывают, что если сместить график на четыре или восемь шагов, то он останется практически таким же. Смещение на 3, 5, 7 показывает, что графики максимально различны. 2, 6, 10 – графики противоположны:\n"
      ]
    },
    {
      "cell_type": "markdown",
      "metadata": {
        "id": "NEItzFne62UP"
      },
      "source": [
        "Опишем функцию, которая сместит график на нужное количество шагов и отрисует его:"
      ]
    },
    {
      "cell_type": "code",
      "metadata": {
        "id": "W87kOAr5oPAE"
      },
      "source": [
        "# Функция иллюстрации смещения на заданное число шагов\n",
        "\n",
        "def show_skew(data, back_steps):\n",
        "    # Построение и вывод общих частей исходного и смещенного рядов\n",
        "    x_t = data[back_steps:]\n",
        "    x_t_b = data[:len(data) - back_steps]\n",
        "\n",
        "    print('Шаги смещения: {}, коэф. автокорреляции: {:.4f}'.format(back_steps,\n",
        "                                                                   get_corr_coef(data, back_steps)))\n",
        "    print(x_t)\n",
        "    print(x_t_b)\n",
        "\n",
        "    # Рисование совместного графика исходного и смещенного временных рядов\n",
        "    plt.plot(x_t, marker='.', label='Основной ряд')\n",
        "    plt.plot(x_t_b, marker='.', label='Смещенный ряд')\n",
        "    plt.xlabel('Время')\n",
        "    plt.ylabel('Данные')\n",
        "    plt.legend()\n",
        "    plt.show()"
      ],
      "execution_count": null,
      "outputs": []
    },
    {
      "cell_type": "code",
      "metadata": {
        "id": "mqvuRz8-dSuH"
      },
      "source": [
        "# Иллюстрация смещения\n",
        "show_skew(test_series, 4)"
      ],
      "execution_count": null,
      "outputs": []
    },
    {
      "cell_type": "code",
      "metadata": {
        "id": "Ooz2IJv5pXJG"
      },
      "source": [
        "# Иллюстрация смещения\n",
        "show_skew(test_series, 3)"
      ],
      "execution_count": null,
      "outputs": []
    },
    {
      "cell_type": "code",
      "metadata": {
        "id": "31ekrgZRpXUq"
      },
      "source": [
        "# Иллюстрация смещения\n",
        "show_skew(test_series, 6)"
      ],
      "execution_count": null,
      "outputs": []
    },
    {
      "cell_type": "markdown",
      "metadata": {
        "id": "ikhiqU-4ho8-"
      },
      "source": [
        "Как видим, графики очень похожи при сдвиге базового ряда на четыре шага. Остальные графики подтверждают результаты автокорреляции.\n",
        "\n",
        "---\n",
        "\n",
        "**Важно**: смотрим не на то, что графики похожи, а на то, насколько данные различны в определенное время.\n",
        "\n",
        "---\n",
        "\n",
        "В любом временном ряду может наблюдаться тренд – основная тенденция изменения временного ряда. Посмотрим, как он может влиять на автокорреляцию.\n"
      ]
    },
    {
      "cell_type": "markdown",
      "metadata": {
        "id": "jPWw29U2SAc0"
      },
      "source": [
        "## Влияние тренда"
      ]
    },
    {
      "cell_type": "markdown",
      "metadata": {
        "id": "VVDOtRGG6-sc"
      },
      "source": [
        "Отрисуем случайно созданный временной ряд из 30 значений:"
      ]
    },
    {
      "cell_type": "code",
      "metadata": {
        "id": "O4pRB3FBSAEw"
      },
      "source": [
        "# В качестве модельного ряда используется несколько случайных значений\n",
        "random_series = np.random.rand(30)\n",
        "\n",
        "# Построение графика ряда\n",
        "plt.plot(random_series)\n",
        "plt.xlabel('Время')\n",
        "plt.ylabel('Данные')\n",
        "plt.show()"
      ],
      "execution_count": null,
      "outputs": []
    },
    {
      "cell_type": "markdown",
      "metadata": {
        "id": "BvcoG187nN_l"
      },
      "source": [
        "Посчитаем коэффициент для смещения в один шаг. Он значительно меньше 1, что говорит о незначительной корреляции между данными, которые использовались для построения графиков."
      ]
    },
    {
      "cell_type": "code",
      "metadata": {
        "id": "TwaurhwXIQDO"
      },
      "source": [
        "# Коэффициент автокорреляции при смещении на 1 шаг\n",
        "get_corr_coef(random_series, 1)"
      ],
      "execution_count": null,
      "outputs": []
    },
    {
      "cell_type": "markdown",
      "metadata": {
        "id": "6XrqP6OboQtj"
      },
      "source": [
        "Построим график автокорреляции для временного ряда. Как видим, практически при любом смещении график не коррелируется сам с собой:"
      ]
    },
    {
      "cell_type": "code",
      "metadata": {
        "id": "zVAUt9c9T3mg"
      },
      "source": [
        "# График коэффициентов автокорреляции модельного ряда\n",
        "autocorr_graph(random_series, 20)"
      ],
      "execution_count": null,
      "outputs": []
    },
    {
      "cell_type": "markdown",
      "metadata": {
        "id": "mXf0-17b7FHT"
      },
      "source": [
        "Изменим базовый ряд, чтобы появился растущий тренд:\n",
        "\n",
        "**np.linspace()** возвращает одномерный массив из указанного количества элементов, значения которых равномерно распределены внутри заданного интервала. Его параметры:\n",
        "- start – число в начале последовательности.\n",
        "- stop – число в конце последовательности, если `endpoint=True`. Если `endpoint=False`, то это число не включается в интервал. При этом изменяется значение шага между элементами последовательности.\n",
        "- num – целое положительное число (не обязательный параметр). Определяет количество элементов последовательности. По умолчанию `num = 50`.\n",
        "- endpoint – True или False (не обязательный параметр). Если `endpoint = True`, то значение stop включается в интервал и становится последним. В противном случае stop не входит в интервал. По умолчанию `endpoint = True`.\n"
      ]
    },
    {
      "cell_type": "code",
      "metadata": {
        "id": "ueEiICj6TDn5"
      },
      "source": [
        "# Генерация шума в виде линейно возрастающего тренда\n",
        "# Величина шума большая по сравнению с величиной элементов модельного ряда\n",
        "trend = np.linspace(0., 5., random_series.shape[0])\n",
        "\n",
        "# Получение искаженного ряда сложением основного ряда и тренда (шума)\n",
        "trended_series = random_series + trend\n",
        "\n",
        "# Проверка результата\n",
        "print(trend)\n",
        "print()\n",
        "print(trended_series)"
      ],
      "execution_count": null,
      "outputs": []
    },
    {
      "cell_type": "markdown",
      "metadata": {
        "id": "R8F8jlM37bmv"
      },
      "source": [
        "Выведем его на экран:"
      ]
    },
    {
      "cell_type": "code",
      "metadata": {
        "id": "fU1p-UEtTMQK"
      },
      "source": [
        "# Рисование графика полученного ряда с трендом\n",
        "plt.plot(trended_series)\n",
        "plt.show()"
      ],
      "execution_count": null,
      "outputs": []
    },
    {
      "cell_type": "code",
      "metadata": {
        "id": "7HEemrtmUJRc"
      },
      "source": [
        "# График коэффициентов автокорреляции искаженного ряда\n",
        "autocorr_graph(trended_series, 20)"
      ],
      "execution_count": null,
      "outputs": []
    },
    {
      "cell_type": "markdown",
      "metadata": {
        "id": "DlL3QNU67m_a"
      },
      "source": [
        "\n",
        "\n",
        "---\n",
        "\n",
        "\n",
        "**Вывод**: наложенный тренд может существенно исказить корреляционные показатели исходных данных. Его влияние тем хуже, чем больше величина элементов тренда по сравнению с величиной элементов исходного ряда.\n",
        "\n",
        "---\n",
        "\n"
      ]
    },
    {
      "cell_type": "markdown",
      "metadata": {
        "id": "Tb3F5L3u7uHd"
      },
      "source": [
        "Тренд отрицательно влияет на коэффициент автокорреляции. Посмотрим, как при помощи дифференцирования можно убрать его влияние на данные.\n",
        "\n",
        "Дифференцирование данных – это вычитание текущего значения из следующего. Например, для графика\n",
        "\n",
        "        [5, 7, 8, 3, 6, 2, 1]\n",
        "\n",
        "результат дифференцирования – ряд:\n",
        "\n",
        "         [2, 1, -5, 3, -4, -1]\n",
        "         т.к. 7-5=2, 8-7=1, ..., 1-2=-1\n",
        "         \n",
        "Применим операцию к нашим данным:\n"
      ]
    },
    {
      "cell_type": "markdown",
      "metadata": {
        "id": "LZVeLyrRTc-o"
      },
      "source": [
        "## Метод избавления от влияния тренда: численное дифференцирование временных рядов"
      ]
    },
    {
      "cell_type": "code",
      "metadata": {
        "id": "d4m0GVImTSBg"
      },
      "source": [
        "# Численное дифференцирование искаженного ряда\n",
        "trended_series_diff = np.diff(trended_series)\n",
        "\n",
        "# Построение графика полученного ряда\n",
        "plt.plot(trended_series_diff)\n",
        "plt.xlabel('Время')\n",
        "plt.ylabel('Данные')\n",
        "plt.show()"
      ],
      "execution_count": null,
      "outputs": []
    },
    {
      "cell_type": "markdown",
      "metadata": {
        "id": "ongb2Osx8E_e"
      },
      "source": [
        "Теперь на графике нет тренда"
      ]
    },
    {
      "cell_type": "code",
      "metadata": {
        "id": "Ma6V9SdOUjn4"
      },
      "source": [
        "# График коэффициентов автокорреляции дифференцированного ряда\n",
        "autocorr_graph(trended_series_diff, 20)"
      ],
      "execution_count": null,
      "outputs": []
    },
    {
      "cell_type": "markdown",
      "metadata": {
        "id": "3o3QfaMo1ar6"
      },
      "source": [
        "График автокорреляции тоже изменился и практически вернулся к виду исходного графика корреляции."
      ]
    },
    {
      "cell_type": "code",
      "metadata": {
        "id": "yM3lDB0bCO5p"
      },
      "source": [
        "# Сравнение с графиком коэффициентов автокорреляции исходного ряда\n",
        "autocorr_graph(random_series, 20)"
      ],
      "execution_count": null,
      "outputs": []
    },
    {
      "cell_type": "markdown",
      "metadata": {
        "id": "-wJvP1-OCbRY"
      },
      "source": [
        "\n",
        "\n",
        "---\n",
        "\n",
        "\n",
        "**Вывод**: численное дифференцирование позволяет избавиться от влияния тренда на корреляционные показатели исходного ряда.\n",
        "\n",
        "---\n",
        "\n",
        "\n",
        "\n",
        "---\n",
        "\n"
      ]
    },
    {
      "cell_type": "markdown",
      "metadata": {
        "id": "fFeOTWxQKXEe"
      },
      "source": [
        "Теперь, когда мы знаем, как проявляет себя автокорреляция и как с ней бороться, можем решать практические задачи."
      ]
    },
    {
      "cell_type": "markdown",
      "metadata": {
        "id": "qzS2YPQ8jgfa"
      },
      "source": [
        "#Задача: Прогнозирование курса акций Лукойл\n",
        "\n",
        "\n"
      ]
    },
    {
      "cell_type": "markdown",
      "metadata": {
        "id": "e0kwb74IyoBp"
      },
      "source": [
        "##Загрузка библиотек"
      ]
    },
    {
      "cell_type": "markdown",
      "metadata": {
        "id": "BVOLP-v-8R_P"
      },
      "source": [
        "Загрузим библиотеки из нового TimeseriesGenerator и RepeatVector. Рассмотрим их подробнее уже при применении:"
      ]
    },
    {
      "cell_type": "code",
      "metadata": {
        "id": "OOweilL20R7n"
      },
      "source": [
        "# Работа с массивами\n",
        "import numpy as np\n",
        "\n",
        "# Работа с таблицами\n",
        "import pandas as pd\n",
        "\n",
        "# Классы-конструкторы моделей нейронных сетей\n",
        "from tensorflow.keras.models import Sequential, Model\n",
        "\n",
        "# Основные слои\n",
        "from tensorflow.keras.layers import concatenate, Input, Dense, Dropout, BatchNormalization, Flatten, Conv1D, Conv2D, LSTM, GlobalMaxPooling1D, MaxPooling1D, RepeatVector\n",
        "\n",
        "# Оптимизаторы\n",
        "from tensorflow.keras.optimizers import Adam\n",
        "\n",
        "# Генератор выборки временных рядов\n",
        "from tensorflow.keras.preprocessing.sequence import TimeseriesGenerator\n",
        "\n",
        "# Нормировщики\n",
        "from sklearn.preprocessing import StandardScaler, MinMaxScaler\n",
        "\n",
        "# Загрузка датасетов из облака google\n",
        "import gdown\n",
        "\n",
        "# Отрисовка графиков\n",
        "import matplotlib.pyplot as plt\n",
        "\n",
        "# Отрисовка графики в ячейке colab\n",
        "%matplotlib inline\n",
        "\n",
        "# Отключение предупреждений\n",
        "import warnings\n",
        "warnings.filterwarnings('ignore')"
      ],
      "execution_count": null,
      "outputs": []
    },
    {
      "cell_type": "markdown",
      "metadata": {
        "id": "bKcS78kORf0d"
      },
      "source": [
        "Опишем параметры вывода графиков:"
      ]
    },
    {
      "cell_type": "code",
      "metadata": {
        "id": "WGk09Kc7v4_X"
      },
      "source": [
        "# Назначение размера и стиля графиков по умолчанию\n",
        "from pylab import rcParams\n",
        "plt.style.use('ggplot')\n",
        "rcParams['figure.figsize'] = (14, 7)"
      ],
      "execution_count": null,
      "outputs": []
    },
    {
      "cell_type": "markdown",
      "metadata": {
        "id": "PhoCV8mIc9j8"
      },
      "source": [
        "##Загрузка датасета и подготовка данных"
      ]
    },
    {
      "cell_type": "markdown",
      "metadata": {
        "id": "U6g0lBfI8QQC"
      },
      "source": [
        "###Загрузка данных"
      ]
    },
    {
      "cell_type": "markdown",
      "metadata": {
        "id": "6o-5xu_98WDG"
      },
      "source": [
        "Загрузим данные акций за 16-17 года и 18-19 года:"
      ]
    },
    {
      "cell_type": "code",
      "metadata": {
        "id": "FBwSCEV-n_P3"
      },
      "source": [
        "# Загрузка датасетов из облака\n",
        "gdown.download('https://storage.yandexcloud.net/aiueducation/Content/base/l11/16_17.csv', None, quiet=True)\n",
        "gdown.download('https://storage.yandexcloud.net/aiueducation/Content/base/l11/18_19.csv', None, quiet=True)"
      ],
      "execution_count": null,
      "outputs": []
    },
    {
      "cell_type": "markdown",
      "metadata": {
        "id": "V4l5sHsxR5D6"
      },
      "source": [
        "Переведем данные в DataFrame:"
      ]
    },
    {
      "cell_type": "code",
      "metadata": {
        "id": "GRBmV8K31JrC"
      },
      "source": [
        "# Чтение данных в таблицу pandas\n",
        "base_data = pd.read_csv('18_19.csv', sep=';')"
      ],
      "execution_count": null,
      "outputs": []
    },
    {
      "cell_type": "markdown",
      "metadata": {
        "id": "pIknZCLgSEde"
      },
      "source": [
        "Посмотрим содержимое таблицы и выведем пример нулевой строки:"
      ]
    },
    {
      "cell_type": "code",
      "metadata": {
        "id": "bTeD9BAhOx2Z"
      },
      "source": [
        "# Вывод первых строк таблицы\n",
        "base_data.head()"
      ],
      "execution_count": null,
      "outputs": []
    },
    {
      "cell_type": "markdown",
      "metadata": {
        "id": "eInwCP0oSJA2"
      },
      "source": [
        "Изучив содержимое таблиц, снова их подгрузим, но уже сразу удалим ненужные столбцы по дате и времени:"
      ]
    },
    {
      "cell_type": "code",
      "metadata": {
        "id": "KyA15_ZPO3pn"
      },
      "source": [
        "# Пример данных из нулевой строки\n",
        "print(base_data.values[0])"
      ],
      "execution_count": null,
      "outputs": []
    },
    {
      "cell_type": "code",
      "metadata": {
        "id": "NMIu5EJZ9VWn"
      },
      "source": [
        "# Чтение данных в таблицы с удалением ненужных столбцов\n",
        "data16_17 = pd.read_csv('16_17.csv', sep=';').drop(columns=['DATE', 'TIME'])\n",
        "data18_19 = pd.read_csv('18_19.csv', sep=';').drop(columns=['DATE', 'TIME'])"
      ],
      "execution_count": null,
      "outputs": []
    },
    {
      "cell_type": "markdown",
      "metadata": {
        "id": "rqs6SuRzSUzG"
      },
      "source": [
        "Посмотрим размерность получившейся таблицы:"
      ]
    },
    {
      "cell_type": "code",
      "metadata": {
        "id": "940WFGeUL4s_"
      },
      "source": [
        "# Проверка формы данных\n",
        "data16_17.shape"
      ],
      "execution_count": null,
      "outputs": []
    },
    {
      "cell_type": "markdown",
      "metadata": {
        "id": "eUqXbbL3Sll-"
      },
      "source": [
        "Объединим таблицы в одну общую:"
      ]
    },
    {
      "cell_type": "code",
      "metadata": {
        "id": "Mrj_7kT2RHd3"
      },
      "source": [
        "# Пример данных одного датасета\n",
        "d = data18_19\n",
        "\n",
        "print(d.shape[0])                         # Всего записей (строк)\n",
        "print(d.shape[1])                         # Количество столбцов\n",
        "print(d.iloc[0])                          # Пример нулевой строки данных"
      ],
      "execution_count": null,
      "outputs": []
    },
    {
      "cell_type": "code",
      "metadata": {
        "id": "ArMT_0EUUeKX"
      },
      "source": [
        "# Создание общего набора данных из двух датасетов\n",
        "data = pd.concat([data16_17, data18_19]).to_numpy()"
      ],
      "execution_count": null,
      "outputs": []
    },
    {
      "cell_type": "markdown",
      "metadata": {
        "id": "1q2_EMYHUKHM"
      },
      "source": [
        "Посмотрим размерность новой таблицы:"
      ]
    },
    {
      "cell_type": "code",
      "metadata": {
        "id": "czAAnl7dSLYh"
      },
      "source": [
        "# Проверка формы данных\n",
        "print(data16_17.shape)\n",
        "print(data18_19.shape)\n",
        "print(data.shape)"
      ],
      "execution_count": null,
      "outputs": []
    },
    {
      "cell_type": "markdown",
      "metadata": {
        "id": "omcFs2BkUSZX"
      },
      "source": [
        "Почти полмиллиона записей.\n",
        "\n",
        "Создадим словарь из названия столбцов и выведем его на экран:"
      ]
    },
    {
      "cell_type": "code",
      "metadata": {
        "id": "n5Ria2EME0gm"
      },
      "source": [
        "# Задание текстовых меток каналов данных (столбцов)\n",
        "CHANNEL_NAMES = ['Open', 'Max', 'Min', 'Close', 'Volume']\n",
        "\n",
        "# Получение словаря с именами и индексами каналов данных\n",
        "CHANNEL_INDEX = {name: chan for chan, name in enumerate(CHANNEL_NAMES)}\n",
        "print(CHANNEL_INDEX)"
      ],
      "execution_count": null,
      "outputs": []
    },
    {
      "cell_type": "markdown",
      "metadata": {
        "id": "nyqigyYT8TLj"
      },
      "source": [
        "###Иллюстрация данных в графическом виде"
      ]
    },
    {
      "cell_type": "markdown",
      "metadata": {
        "id": "AHjav9Ec8skh"
      },
      "source": [
        "Выведем данные для дальнейшей работы. Данные будут отображаться с позиции с номером `start`, длиной `length` отчетов. Отрисуем четыре линии со значениями OPEN, MIN, MAX, CLOSE и гистограммы по объему продаж:\n"
      ]
    },
    {
      "cell_type": "code",
      "metadata": {
        "id": "ZHWZubQ1__7e"
      },
      "source": [
        "# Отображение исходных данных от точки start и длиной length\n",
        "start = 100\n",
        "length = 300\n",
        "\n",
        "# Задание полотна для графиков - два подграфика один под другим с общей осью x\n",
        "fig, (ax1, ax2) = plt.subplots(2, 1, figsize=(22, 13), sharex=True)\n",
        "\n",
        "# Четыре основных канала - open, max, min, close\n",
        "for chn in range(4):\n",
        "    # Отрисовка одного канала данных\n",
        "    # От начальной точки start длиной length\n",
        "    ax1.plot(data[start:start + length, chn],\n",
        "             label=CHANNEL_NAMES[chn])\n",
        "ax1.set_ylabel('Цена, руб')\n",
        "ax1.legend()\n",
        "\n",
        "# Канал volume (объем)\n",
        "ax2.bar(x=np.arange(length),\n",
        "        height=data[start:start + length, CHANNEL_INDEX['Volume']],\n",
        "        label='Объем')\n",
        "ax2.set_ylabel('Сделки')\n",
        "ax2.legend()\n",
        "\n",
        "plt.xlabel('Время')\n",
        "# Регулировка пределов оси x\n",
        "plt.xlim(0, length)\n",
        "# Указание расположить подграфики плотнее друг к другу\n",
        "plt.tight_layout()\n",
        "# Фиксация графика\n",
        "plt.show()"
      ],
      "execution_count": null,
      "outputs": []
    },
    {
      "cell_type": "markdown",
      "metadata": {
        "id": "aWn1_G6TVq6B"
      },
      "source": [
        "Теперь подготовим выборки. Вспомним теорию начала урока. Возьмем 100 элементов в x_train, 101 элемент в y_train и так далее. Чтобы не делать этого вручную, воспользуемся инструментом TimeseriesGenerator.\n"
      ]
    },
    {
      "cell_type": "markdown",
      "metadata": {
        "id": "REnI-tDOU3dZ"
      },
      "source": [
        "### Знакомство с **TimeseriesGenerator**"
      ]
    },
    {
      "cell_type": "markdown",
      "metadata": {
        "id": "0CQtzgjE8_lU"
      },
      "source": [
        "Основные параметры для TimeseriesGenerator:\n",
        "- x_train – временной ряд, из которого собираются данные.\n",
        "- y_train – целевые значения. Должны быть той же длины что и x_train.\n",
        "- length – длина выходных последовательностей, окно, которым вы пройдетесь по данным.\n",
        "- sampling_rate – размер шага при выборке данных в x_train. Если x_train последовательность от 0 до 50, то при rate=1 последовательность выглядит так:\n",
        "\n",
        "        [0, 1, 2, 3, 4].\n",
        "При rate=2 в последовательность попадет каждый второй элемент:\n",
        "\n",
        "        [0, 2, 4, 6, 8]\n",
        "и так далее.\n",
        "\n",
        "- stride – указывает, на сколько элементов произойдет сдвиг при смене элемента. У того же x_train при stride=1 первый и второй элемент выглядят так:\n",
        "        \n",
        "        [0, 1, 2, 3, 4, 5] [1, 2, 3, 4, 5, 6].\n",
        "        \n",
        "        При stride=2:\n",
        "\n",
        "        [0, 1, 2, 3, 4, 5] [2, 3, 4, 5, 6, 7].\n",
        "\n",
        "- batch_size – сколько элементов вернет генератор при обращении к нему.\n",
        "Теперь, когда основные параметры понятны, перейдите к практике. Для этого опишите функцию с генератором и выводом информации на экран.\n"
      ]
    },
    {
      "cell_type": "code",
      "metadata": {
        "id": "fPXXXJdc9yWc"
      },
      "source": [
        "# Функция создания пробного генератора и вывода его результатов на экран\n",
        "# На входе - имитация выборок x_train, y_train\n",
        "def show_gen(x_train, y_train, length=10, batch_size=5):\n",
        "    # Создание генератора TimeseriesGenerator\n",
        "    gen = TimeseriesGenerator(x_train,\n",
        "                              y_train,\n",
        "                              length=length,\n",
        "                              sampling_rate=1,\n",
        "                              stride=1,\n",
        "                              batch_size=batch_size\n",
        "                             )\n",
        "\n",
        "    # Прохождение по элементам генератора (батчам) в цикле и вывод каждого батча\n",
        "    for i, g in enumerate(gen):\n",
        "        # При достижении конца генератора останавливаем вывод\n",
        "        if i==len(gen):\n",
        "          break\n",
        "\n",
        "        print('Батч №', i)\n",
        "        print('x_train:\\n', g[0])\n",
        "        print('y_train:\\n', g[1])\n",
        "        print()"
      ],
      "execution_count": null,
      "outputs": []
    },
    {
      "cell_type": "markdown",
      "metadata": {
        "id": "5_nCeQI49ZXZ"
      },
      "source": [
        "Создадим последовательность от 0 до 50:"
      ]
    },
    {
      "cell_type": "code",
      "metadata": {
        "id": "v6HRranRVeKw"
      },
      "source": [
        "# Создание и вывод модельного массива (последовательность чисел от 0 до 49)\n",
        "test_array = np.arange(50)\n",
        "print(test_array)"
      ],
      "execution_count": null,
      "outputs": []
    },
    {
      "cell_type": "markdown",
      "metadata": {
        "id": "QhhO9-Ishkqr"
      },
      "source": [
        "Подадим ее в генератор. Результат работы на экране. В каждый батч входит пять элементов, в y_train – тоже пять элементов:"
      ]
    },
    {
      "cell_type": "code",
      "metadata": {
        "id": "wfIIbvtuVo6l"
      },
      "source": [
        "# Вывод генератора на модельных выборках\n",
        "show_gen(test_array, test_array, batch_size=5)"
      ],
      "execution_count": null,
      "outputs": []
    },
    {
      "cell_type": "markdown",
      "metadata": {
        "id": "LblbdR7ChqaX"
      },
      "source": [
        "Теперь укажем `batch_size=1`, но также изменим диапазоны подаваемых данных.\n",
        "\n",
        "В `x_train` подадим последовательность без последнего значения, а `y_train` – без первого.\n"
      ]
    },
    {
      "cell_type": "code",
      "metadata": {
        "id": "wSR9de0dWk_H"
      },
      "source": [
        "# В данном примере выборка имитируется таким образом,\n",
        "# что в x_train - прошлые данные, а в y_train - одно будущее значение для предсказания\n",
        "\n",
        "show_gen(test_array[:-1], test_array[1:], batch_size=1)"
      ],
      "execution_count": null,
      "outputs": []
    },
    {
      "cell_type": "markdown",
      "metadata": {
        "id": "bmNHgpkk9moa"
      },
      "source": [
        "Теперь можно увидеть, что в первых элементах `x_train` остался таким же, а `y_train` сместился на одно значение. В последнем же наборе данных ситуация обратная: в `x_train` не попал последний элемент, а в `y_train` – попал.\n",
        "\n",
        "Такая необходимость может возникнуть, когда необходимо предсказать не следующее значение, а через один элемент."
      ]
    },
    {
      "cell_type": "markdown",
      "metadata": {
        "id": "c0Dqo5eYiF0X"
      },
      "source": [
        "В случае, если надо предсказать не одно, а два и более значений, нужно немного изменить `y_train`. Для этого приведем последовательность `y_train` от вида\n",
        "\n",
        "        [0, 1, 2, 3, 4, 5]\n",
        "к виду\n",
        "\n",
        "        [[0, 1], [1, 2], [2, 3], [3, 4], [4, 5], [5]]:"
      ]
    },
    {
      "cell_type": "code",
      "metadata": {
        "id": "9fikBtXzWsf4"
      },
      "source": [
        "# В данном примере выборка имитируется таким образом,\n",
        "# что в x_train - прошлые данные, а в y_train - два будущих значения для предсказания\n",
        "\n",
        "x_train = test_array\n",
        "# В y_train попадают пары следующих друг за другом значений для предсказания\n",
        "y_train = [test_array[i:i + 2].tolist() for i in range(test_array.shape[0])]\n",
        "\n",
        "# Вывод y_train\n",
        "print(y_train)\n",
        "\n",
        "show_gen(x_train, y_train, batch_size=1)"
      ],
      "execution_count": null,
      "outputs": []
    },
    {
      "cell_type": "markdown",
      "metadata": {
        "id": "CKpTtma9Vw8W"
      },
      "source": [
        "### Подготовка выборок данных для нейросети\n",
        "\n",
        "\n"
      ]
    },
    {
      "cell_type": "code",
      "metadata": {
        "id": "ga7MvxXzF3Ta"
      },
      "source": [
        "# Словарь каналов данных с их индексами\n",
        "print(CHANNEL_INDEX)"
      ],
      "execution_count": null,
      "outputs": []
    },
    {
      "cell_type": "markdown",
      "metadata": {
        "id": "5aEU3ERt-CXg"
      },
      "source": [
        "Установим гиперпараметры, отберем входные и выходные параметры. 300 отчетов, 30 тысяч примеров пойдут в проверочную выборку:"
      ]
    },
    {
      "cell_type": "code",
      "metadata": {
        "id": "FuA2Y7xTA_BZ"
      },
      "source": [
        "# Задание гиперпараметров\n",
        "\n",
        "CHANNEL_X = CHANNEL_NAMES                 # Отбор каналов входных данных\n",
        "CHANNEL_Y = ['Close']                     # Отбор каналов данных для предсказания\n",
        "SEQ_LEN = 300                             # Длина прошедших данных для анализа\n",
        "BATCH_SIZE = 20                           # Объем батча для генератора\n",
        "TEST_LEN = 30000                          # Объем тестовой выборки\n",
        "TRAIN_LEN = data.shape[0] - TEST_LEN      # Объем обучающей выборки"
      ],
      "execution_count": null,
      "outputs": []
    },
    {
      "cell_type": "markdown",
      "metadata": {
        "id": "qteK_ezVmDzq"
      },
      "source": [
        "Определим, какие данные пойдут в выборки. Разделим основной набор данных на обучающую и тестовую выборки. Обязательно нормируем данные. То же самое сделаем с выходными данными. При помощи генератора создадим выборки для обучения и проверки:"
      ]
    },
    {
      "cell_type": "code",
      "metadata": {
        "id": "kQ4it_i3KSLU"
      },
      "source": [
        "# Формирование списков индексов каналов данных для входных и выходных выборок\n",
        "chn_x = [CHANNEL_INDEX[c] for c in CHANNEL_X]\n",
        "chn_y = [CHANNEL_INDEX[c] for c in CHANNEL_Y]\n",
        "\n",
        "# Проверка результата\n",
        "print(chn_x, chn_y)\n",
        "\n",
        "# Разделение данных на тренировочный и тестовый наборы\n",
        "# 2*SEQ_LEN - для разрыва между тренировочными и тестовыми данными\n",
        "# варьируемый параметр, страховка от пересечения\n",
        "data_train, data_test = data[:TRAIN_LEN], data[TRAIN_LEN + 2*SEQ_LEN:]\n",
        "\n",
        "# Отбор входных данных\n",
        "x_data_train, x_data_test = data_train[:, chn_x], data_test[:, chn_x]\n",
        "\n",
        "# Масштабирование данных\n",
        "x_scaler = MinMaxScaler()\n",
        "x_scaler.fit(x_data_train)\n",
        "x_data_train = x_scaler.transform(x_data_train)\n",
        "x_data_test = x_scaler.transform(x_data_test)\n",
        "\n",
        "# Отбор выходных данных\n",
        "y_data_train, y_data_test = data_train[:, chn_y], data_test[:, chn_y]\n",
        "\n",
        "# Масштабирование данных\n",
        "y_scaler = MinMaxScaler()\n",
        "y_scaler.fit(y_data_train)\n",
        "y_data_train = y_scaler.transform(y_data_train)\n",
        "y_data_test = y_scaler.transform(y_data_test)\n",
        "\n",
        "# Проверка формы данных\n",
        "print(f'Train data: {x_data_train.shape}, {y_data_train.shape}')\n",
        "print(f'Test  data: {x_data_test.shape}, {y_data_test.shape}')\n",
        "\n",
        "# Создание генератора для обучения\n",
        "train_datagen = TimeseriesGenerator(x_data_train,\n",
        "                                    y_data_train,\n",
        "                                    length=SEQ_LEN,\n",
        "                                    stride=1,\n",
        "                                    sampling_rate=1,\n",
        "                                    batch_size=BATCH_SIZE)\n",
        "\n",
        "# Аналогичный генератор для валидации при обучении\n",
        "val_datagen = TimeseriesGenerator(x_data_test,\n",
        "                                  y_data_test,\n",
        "                                  length=SEQ_LEN,\n",
        "                                  stride=1,\n",
        "                                  sampling_rate=1,\n",
        "                                  batch_size=BATCH_SIZE)\n",
        "\n",
        "# Проверка формы выдаваемого генератором результата\n",
        "print(f'Train batch x: {train_datagen[0][0].shape}, y: {train_datagen[0][1].shape}')"
      ],
      "execution_count": null,
      "outputs": []
    },
    {
      "cell_type": "markdown",
      "metadata": {
        "id": "6zas0xlUmqp4"
      },
      "source": [
        "Не забудем про тестовую выборку. Также при помощи генератора сформируем окончательные тестовые выборки:"
      ]
    },
    {
      "cell_type": "code",
      "metadata": {
        "id": "yBMH7rXbMW-w"
      },
      "source": [
        "# Генератор тестовой выборки, генерирует один батч на всю выборку\n",
        "test_datagen = TimeseriesGenerator(x_data_test,\n",
        "                                   y_data_test,\n",
        "                                   length=SEQ_LEN,\n",
        "                                   stride=1,\n",
        "                                   sampling_rate=1,\n",
        "                                   batch_size=x_data_test.shape[0])\n",
        "\n",
        "# Формирование тестовой выборки из генератора\n",
        "x_test, y_test = test_datagen[0]\n",
        "\n",
        "# Проверка формы тестовой выборки\n",
        "print(f'Test x: {x_test.shape}, y: {y_test.shape}')"
      ],
      "execution_count": null,
      "outputs": []
    },
    {
      "cell_type": "markdown",
      "metadata": {
        "id": "fpX_VOcEE038"
      },
      "source": [
        "##Различные архитектуры нейронных сетей для обработки временных рядов"
      ]
    },
    {
      "cell_type": "markdown",
      "metadata": {
        "id": "wxxzUkDTLG32"
      },
      "source": [
        "### Сервисные функции\n"
      ]
    },
    {
      "cell_type": "markdown",
      "metadata": {
        "id": "sB1JPt7NpveB"
      },
      "source": [
        "Опишем сервисные функции, которые упростят дальнейшие эксперименты с архитектурами НС:\n",
        "- `get_pred()` – обученная модель. Предсказывает результат, который возвращается к ненормированным данным;\n",
        "- `correlate()` – расчет коэффициента автокорреляции;\n",
        "- `show_predict()` – построение графиков предсказания и верных ответов;\n",
        "- `show_corr()` – построение графика автокорреляции;\n",
        "- `eval_net()` – объединяет предыдущие функции и показывает результаты обучения сети;\n",
        "- `train_eval_net()` – процесс обучения сети и вывод ее результатов. В обучении модели подаются не отдельные выборки, а сразу генераторы, так как они дают тот же результат, что и отдельные выборки. При этом уже нет необходимости прописывать размер батча обучения, поскольку он прописан в самом генераторе."
      ]
    },
    {
      "cell_type": "code",
      "metadata": {
        "id": "elnC41mMoSSl"
      },
      "source": [
        "# Функция расчета результата прогнозирования сети (предсказания)\n",
        "\n",
        "def get_pred(model, # модель\n",
        "             x_test, y_test, # тестовая выборка\n",
        "             y_scaler): # масштабирующий объект для y\n",
        "\n",
        "    # Вычисление и деномализация предсказания\n",
        "    y_pred_unscaled = y_scaler.inverse_transform(model.predict(x_test))\n",
        "\n",
        "    # Денормализация верных ответов\n",
        "    y_test_unscaled = y_scaler.inverse_transform(y_test)\n",
        "\n",
        "    # Возврат результата предсказания и верные ответы в исходном масштабе\n",
        "    return y_pred_unscaled, y_test_unscaled"
      ],
      "execution_count": null,
      "outputs": []
    },
    {
      "cell_type": "code",
      "metadata": {
        "id": "QvmOuIZgoU6c"
      },
      "source": [
        "# Функция расчета корреляционного коэффициента Пирсона для двух рядов\n",
        "\n",
        "def correlate(a, b):\n",
        "    return np.corrcoef(a, b)[0, 1]\n"
      ],
      "execution_count": null,
      "outputs": []
    },
    {
      "cell_type": "code",
      "metadata": {
        "id": "wzxduI8BolNa"
      },
      "source": [
        "# Функция визуализации результата предсказания сети и верных ответов\n",
        "\n",
        "def show_predict(y_pred, y_true, # прогноз данных и исходный ряд\n",
        "                 start, # точка ряда, с которой начинается отрисовка графика\n",
        "                 length, # количество точек для отрисовки графика\n",
        "                 chn_list=None, # список каналов данных для отрисовки (по умолчанию все)\n",
        "                 chn_names=CHANNEL_Y, # список имен каналов данных\n",
        "                 title=''):\n",
        "\n",
        "    # Если список каналов пуст - отображаются все каналы\n",
        "    if not chn_list:\n",
        "        chn_list = list(range(y_true.shape[1]))\n",
        "\n",
        "    # Построение графика по всем каналам данных\n",
        "    plt.figure(figsize=(22, 6))\n",
        "\n",
        "    for chn in chn_list:\n",
        "        plt.plot(y_pred[start:start + length, chn],\n",
        "                label=f'{chn_names[chn]} Прогноз')\n",
        "        plt.plot(y_true[start:start + length, chn],\n",
        "                label=f'{chn_names[chn]} Базовый')\n",
        "\n",
        "    plt.title(title)\n",
        "    plt.xlabel('Время')\n",
        "    plt.ylabel('Данные')\n",
        "    plt.legend()\n",
        "    plt.show()"
      ],
      "execution_count": null,
      "outputs": []
    },
    {
      "cell_type": "code",
      "metadata": {
        "id": "FRmPykKBo0cl"
      },
      "source": [
        "# Функция рисования корреляций прогнозного ряда и исходного со смещением\n",
        "\n",
        "def show_corr(y_pred, y_true, # прогноз данных и исходный ряд\n",
        "              back_steps_max=30, # максимальное количество шагов смещения назад по времени\n",
        "              chn_list=None, # список каналов данных для отрисовки (по умолчанию все)\n",
        "              chn_names=CHANNEL_Y,\n",
        "              title=''): # список имен каналов данных\n",
        "\n",
        "    # Если список каналов пуст - отображаются все каналы\n",
        "    if not chn_list:\n",
        "        chn_list = list(range(y_true.shape[1]))\n",
        "\n",
        "    y_len = y_true.shape[0]\n",
        "    steps = range(0, back_steps_max + 1)\n",
        "\n",
        "    # Построение графика по всем каналам данных\n",
        "    plt.figure(figsize=(14, 7))\n",
        "\n",
        "    for chn in chn_list:\n",
        "        # Вычисление коэффициентов корреляции базового ряда и предсказания с разным смещением\n",
        "        cross_corr = [correlate(y_true[:y_len - step, chn], y_pred[step:, chn]) for step in steps]\n",
        "        # Вычисление коэффициентов автокорреляции базового ряда с разным смещением\n",
        "        auto_corr = [correlate(y_true[:y_len - step, chn], y_true[step:, chn]) for step in steps]\n",
        "\n",
        "        plt.plot(cross_corr, label=f'{chn_names[chn]} Прогноз')\n",
        "        plt.plot(auto_corr, label=f'{chn_names[chn]} Эталон')\n",
        "\n",
        "    plt.title(title)\n",
        "\n",
        "    # Назначение меток шкалы оси x\n",
        "    plt.xticks(steps)\n",
        "    plt.xlabel('Шаги смещения')\n",
        "    plt.ylabel('Коэффициент корреляции')\n",
        "    plt.legend()\n",
        "    plt.show()"
      ],
      "execution_count": null,
      "outputs": []
    },
    {
      "cell_type": "code",
      "metadata": {
        "id": "L2V46qXvpCuX"
      },
      "source": [
        "# Функция визуализации результата работы сети\n",
        "\n",
        "def eval_net(model, # модель\n",
        "             x_test, y_test, # тестовая выборка\n",
        "             y_scaler, # нормировщик выхода\n",
        "             start=0, length=500, back_steps_max=30, # параметры отображения графиков\n",
        "             title=''):\n",
        "\n",
        "    # Получение денормализованного предсказания и данных базового ряда\n",
        "    y_pred, y_true = get_pred(model, x_test, y_test, y_scaler)\n",
        "\n",
        "    # Отрисовка графика сопоставления базового и прогнозного рядов\n",
        "    # Прогнозный ряд сдвигается на 1 шаг назад, так как предсказание делалось на 1 шаг вперед\n",
        "    show_predict(y_pred[1:], y_true[:-1], start, length,\n",
        "                 title=f'{title}: Сопоставление базового и прогнозного рядов')\n",
        "    # Отрисовка графика корреляционных коэффициентов до заданного максимума шагов смещения\n",
        "    show_corr(y_pred, y_true, back_steps_max=back_steps_max,\n",
        "              title=f'{title}: Корреляционные коэффициенты по шагам смещения')"
      ],
      "execution_count": null,
      "outputs": []
    },
    {
      "cell_type": "code",
      "metadata": {
        "id": "dHi2tIl8p0hN"
      },
      "source": [
        "# Функция обучения модели и отрисовки прогресса и оценки результатов\n",
        "\n",
        "def train_eval_net(model, # модель\n",
        "                   train_datagen, val_datagen, # генераторы обучающей и проверочной выборок\n",
        "                   epoch_list, # список эпох в виде [(epochs1, opt1), (epochs2, opt2), ...]\n",
        "                   x_test, y_test,\n",
        "                   y_scaler,\n",
        "                   start=0,\n",
        "                   length=500,\n",
        "                   back_steps_max=30,\n",
        "                   title=''):\n",
        "\n",
        "    # Отображение сводки модели\n",
        "    model.summary()\n",
        "\n",
        "    # Обучение модели в несколько фаз в соответствии со списком epoch_list\n",
        "    for epochs, opt in epoch_list:\n",
        "        # Компиляция модели\n",
        "        model.compile(loss='mse', optimizer=opt)\n",
        "        # Фаза обучения модели\n",
        "        print(f'Обучение {epochs} эпох')\n",
        "        history = model.fit(train_datagen,\n",
        "                            epochs=epochs,\n",
        "                            validation_data=val_datagen,\n",
        "                            verbose=1)\n",
        "\n",
        "        # Рисование графиков прошедшей фазы обучения\n",
        "        fig = plt.figure(figsize=(14, 7))\n",
        "        plt.plot(history.history['loss'], label='Ошибка на обучающем наборе')\n",
        "        plt.plot(history.history['val_loss'], label='Ошибка на проверочном наборе')\n",
        "        plt.title(f'{title}: График прогресса обучения')\n",
        "        # Указание показывать только целые метки шкалы оси x\n",
        "        fig.gca().xaxis.get_major_locator().set_params(integer=True)\n",
        "        plt.xlabel('Эпоха обучения')\n",
        "        plt.ylabel('Средняя ошибка')\n",
        "        plt.legend()\n",
        "        plt.show()\n",
        "\n",
        "        # Рисование графиков оценки результата работы модели после фазы обучения\n",
        "        eval_net(model, x_test, y_test, y_scaler, start=start,\n",
        "                 length=length, back_steps_max=back_steps_max, title=title)"
      ],
      "execution_count": null,
      "outputs": []
    },
    {
      "cell_type": "markdown",
      "metadata": {
        "id": "fInCnsDo-WcM"
      },
      "source": [
        "Далее пойдут эксперименты. Рассмотрим некоторые особенности:\n",
        "- В train_eval_net() обучение запускается в цикле по списку эпох, который передается в функцию `epoch_list`. Так можно менять количество эпох и шаг обучения, не прописывая лишние строчки кода.\n",
        "- Как видим, все архитектуры имеют склонность к автокорреляции и возможности роста результативности. Возможно, потребуется добавить обработку тренда.\n",
        "- В целом задача предсказания точной цены закрытия акций не всегда логична. Чаще всего НС используют для предсказания, будет ли цена расти или падать в следующем периоде. Данную задачу мы рассмотрим в следующем блоке практической части урока.\n"
      ]
    },
    {
      "cell_type": "markdown",
      "metadata": {
        "id": "Gnmj6pLkZSw3"
      },
      "source": [
        "### Полносвязная сеть"
      ]
    },
    {
      "cell_type": "markdown",
      "metadata": {
        "id": "9k8i44qWhNlw"
      },
      "source": [
        "#### Исследование №1"
      ]
    },
    {
      "cell_type": "code",
      "metadata": {
        "id": "fhDSHVgDLG3z",
        "scrolled": false
      },
      "source": [
        "# Простая полносвязная сеть\n",
        "model_dense = Sequential()\n",
        "model_dense.add(Dense(150, input_shape=x_test.shape[1:], activation='relu'))\n",
        "model_dense.add(Flatten())\n",
        "model_dense.add(Dense(y_test.shape[1], activation='linear'))\n",
        "\n",
        "# Обучение модели 3x50 эпох\n",
        "train_eval_net(model_dense, train_datagen, val_datagen, [(50, Adam(lr=1e-4)),\n",
        "                                                         (50, Adam(lr=1e-5)),\n",
        "                                                         (50, Adam(lr=1e-6))],\n",
        "               x_test, y_test, y_scaler, title='Полносвязная')"
      ],
      "execution_count": null,
      "outputs": []
    },
    {
      "cell_type": "markdown",
      "metadata": {
        "id": "h6jsFdBni1Yd"
      },
      "source": [
        "**Вывод:** даже при небольшом наборе параметров и простоте архитектуры, сеть достаточно точно предсказывает значение, но это значение не является вполне корректным, так как график автокорреляции показывает, что график предсказания и реального значения имеют зависимость, т.е. нейронка предсказывает то, что было несколько шагов назад."
      ]
    },
    {
      "cell_type": "markdown",
      "metadata": {
        "id": "B3iOvojmhFtl"
      },
      "source": [
        "#### Исследование №2"
      ]
    },
    {
      "cell_type": "code",
      "metadata": {
        "id": "yMad9glOhDWB",
        "scrolled": false
      },
      "source": [
        "# Полносвязная сеть с Flatten\n",
        "model_dense_2 = Sequential()\n",
        "model_dense_2.add(Flatten(input_shape=x_test.shape[1:]))\n",
        "model_dense_2.add(Dense(150, activation='relu'))\n",
        "model_dense_2.add(Dense(y_test.shape[1], activation='linear'))\n",
        "\n",
        "# Обучение модели 2x20 эпох\n",
        "train_eval_net(model_dense_2, train_datagen, val_datagen, [(20, Adam(lr=1e-4)),\n",
        "                                                           (20, Adam(lr=1e-5))],\n",
        "               x_test, y_test, y_scaler, title='Полносвязная №2')"
      ],
      "execution_count": null,
      "outputs": []
    },
    {
      "cell_type": "markdown",
      "metadata": {
        "id": "LkjafcqKk8sh"
      },
      "source": [
        "**Вывод:** в этом случае мы сначала данные развернули в вектор и затем обрабатывали сетью. Так как мы ушли от исходной структуры данных, немного снизилась точность и увеличилась автокорреляция."
      ]
    },
    {
      "cell_type": "markdown",
      "metadata": {
        "id": "8yi0jvoDkfqG"
      },
      "source": [
        "### Одномерная свёртка\n",
        "\n"
      ]
    },
    {
      "cell_type": "markdown",
      "metadata": {
        "id": "xxcbWLxTV9_D"
      },
      "source": [
        "#### Исследование №1"
      ]
    },
    {
      "cell_type": "code",
      "metadata": {
        "id": "Tb223GxDkHVI"
      },
      "source": [
        "# Модель с одномерной сверткой\n",
        "model_conv = Sequential()\n",
        "model_conv.add(Conv1D(64, 5, input_shape=x_test.shape[1:], activation='relu'))\n",
        "model_conv.add(Conv1D(64, 5, activation='relu'))\n",
        "model_conv.add(MaxPooling1D())\n",
        "model_conv.add(Flatten())\n",
        "model_conv.add(Dense(100, activation='relu'))\n",
        "model_conv.add(Dense(y_test.shape[1], activation='linear'))\n",
        "\n",
        "# Обучение модели 50+20 эпох\n",
        "train_eval_net(model_conv, train_datagen, val_datagen, [(50, Adam(lr=1e-4)),\n",
        "                                                        (20, Adam(lr=1e-5))],\n",
        "               x_test, y_test, y_scaler, title='Одномерная свертка')"
      ],
      "execution_count": null,
      "outputs": []
    },
    {
      "cell_type": "markdown",
      "metadata": {
        "id": "ogb8TxZWmqUw"
      },
      "source": [
        "**Вывод:** несмотря на то, что мы использовали сверточные слои и более сложную архитектуру, это не принесло результата, точность осталась почти на том же уровне. Но это не говорит о том, что свертки неэффективны для анализа временных рядов, стоит ещё поэкспериментировать с архитектурой."
      ]
    },
    {
      "cell_type": "markdown",
      "metadata": {
        "id": "A4wtNkNIWA7G"
      },
      "source": [
        "#### Исследование №2"
      ]
    },
    {
      "cell_type": "code",
      "metadata": {
        "id": "Dys9pltzWSN8"
      },
      "source": [
        "# Упрощенная модель с одномерной сверткой\n",
        "model_conv_2 = Sequential()\n",
        "model_conv_2.add(Conv1D(50, 5, input_shape=x_test.shape[1:], activation='linear'))\n",
        "model_conv_2.add(Flatten())\n",
        "model_conv_2.add(Dense(10, activation='linear'))\n",
        "model_conv_2.add(Dense(y_test.shape[1], activation='linear'))\n",
        "\n",
        "# Обучение модели 2x20 эпох\n",
        "train_eval_net(model_conv_2, train_datagen, val_datagen, [(20, Adam(lr=1e-4)),\n",
        "                                                          (20, Adam(lr=1e-5))],\n",
        "               x_test, y_test, y_scaler, title='Одномерная свертка №2')"
      ],
      "execution_count": null,
      "outputs": []
    },
    {
      "cell_type": "markdown",
      "metadata": {
        "id": "2gFEdQH2nxkM"
      },
      "source": [
        "Обратите, пожалуйста, внимание на то, что “холмик” на графике корреляции в районе первых двух шагов говорит о наличии эффекта автокорреляции. В идеале “холмика” быть не должно, а график предсказания должен быть как можно ближе к эталонному.\n"
      ]
    },
    {
      "cell_type": "markdown",
      "metadata": {
        "id": "rO4VX3LWlhtb"
      },
      "source": [
        "### Рекуррентная сеть (LSTM)\n"
      ]
    },
    {
      "cell_type": "code",
      "metadata": {
        "id": "nPSL-nYDldde"
      },
      "source": [
        "model_lstm = Sequential()\n",
        "model_lstm.add(LSTM(5, input_shape=x_test.shape[1:]))\n",
        "model_lstm.add(Dense(10, activation='relu'))\n",
        "model_lstm.add(Dense(y_test.shape[1], activation='linear'))\n",
        "\n",
        "# Обучение модели 20 эпох\n",
        "train_eval_net(model_lstm, train_datagen, val_datagen, [(20, Adam(lr=1e-5))],\n",
        "               x_test, y_test, y_scaler, title='Рекуррентная LSTM')"
      ],
      "execution_count": null,
      "outputs": []
    },
    {
      "cell_type": "markdown",
      "metadata": {
        "id": "NwMFRAmdox-A"
      },
      "source": [
        "**Вывод**: LSTM-слой является очень тонким инструментом и его применение приносит результат только при тщательной настройке и комбинировании с другими слоями. В данном случае результат значительно хуже сверточной сети."
      ]
    }
  ]
}